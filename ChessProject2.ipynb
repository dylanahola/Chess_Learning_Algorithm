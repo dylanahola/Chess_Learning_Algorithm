{
  "nbformat": 4,
  "nbformat_minor": 0,
  "metadata": {
    "colab": {
      "name": "ChessProject2.ipynb",
      "provenance": [],
      "collapsed_sections": [],
      "mount_file_id": "1RvAroi1WufrZQiPoAPfOryzCrrYNTnpT",
      "authorship_tag": "ABX9TyNYFZQ3tx0ZqYIfTcP7Bnkw",
      "include_colab_link": true
    },
    "kernelspec": {
      "name": "python3",
      "display_name": "Python 3"
    },
    "language_info": {
      "name": "python"
    }
  },
  "cells": [
    {
      "cell_type": "markdown",
      "metadata": {
        "id": "view-in-github",
        "colab_type": "text"
      },
      "source": [
        "<a href=\"https://colab.research.google.com/github/dylanahola/Chess_Learning_Algorithm/blob/main/ChessProject2.ipynb\" target=\"_parent\"><img src=\"https://colab.research.google.com/assets/colab-badge.svg\" alt=\"Open In Colab\"/></a>"
      ]
    },
    {
      "cell_type": "code",
      "metadata": {
        "colab": {
          "base_uri": "https://localhost:8080/"
        },
        "id": "hodrsDhip0lS",
        "outputId": "8b477d99-28a4-44da-db03-66d89e00a8e7"
      },
      "source": [
        "from google.colab import drive\n",
        "drive.mount('/content/drive')"
      ],
      "execution_count": null,
      "outputs": [
        {
          "output_type": "stream",
          "text": [
            "Drive already mounted at /content/drive; to attempt to forcibly remount, call drive.mount(\"/content/drive\", force_remount=True).\n"
          ],
          "name": "stdout"
        }
      ]
    },
    {
      "cell_type": "code",
      "metadata": {
        "id": "5tt18qvvri-r"
      },
      "source": [
        "import matplotlib.pyplot as plt\n",
        "import pandas as pd\n",
        "import numpy as np\n",
        "import seaborn as sns\n",
        "from sklearn.decomposition import PCA\n",
        "from sklearn.model_selection import train_test_split\n",
        "from sklearn.preprocessing import StandardScaler\n",
        "from sklearn.ensemble import RandomForestClassifier\n",
        "from sklearn.neighbors import KNeighborsClassifier"
      ],
      "execution_count": null,
      "outputs": []
    },
    {
      "cell_type": "code",
      "metadata": {
        "id": "Jfjpa2HhqYxj",
        "colab": {
          "base_uri": "https://localhost:8080/",
          "height": 1000
        },
        "outputId": "c0c8dd06-a785-46b7-8b92-2da8ca90e24b"
      },
      "source": [
        "df = pd.read_csv('/content/drive/MyDrive/Coding Dojo/Week 7/gamesdata.excel.csv')\n",
        "df.head(10)"
      ],
      "execution_count": null,
      "outputs": [
        {
          "output_type": "execute_result",
          "data": {
            "text/html": [
              "<div>\n",
              "<style scoped>\n",
              "    .dataframe tbody tr th:only-of-type {\n",
              "        vertical-align: middle;\n",
              "    }\n",
              "\n",
              "    .dataframe tbody tr th {\n",
              "        vertical-align: top;\n",
              "    }\n",
              "\n",
              "    .dataframe thead th {\n",
              "        text-align: right;\n",
              "    }\n",
              "</style>\n",
              "<table border=\"1\" class=\"dataframe\">\n",
              "  <thead>\n",
              "    <tr style=\"text-align: right;\">\n",
              "      <th></th>\n",
              "      <th>id</th>\n",
              "      <th>rated</th>\n",
              "      <th>created_at</th>\n",
              "      <th>last_move_at</th>\n",
              "      <th>turns</th>\n",
              "      <th>victory_status</th>\n",
              "      <th>winner</th>\n",
              "      <th>increment_code</th>\n",
              "      <th>white_id</th>\n",
              "      <th>white_rating</th>\n",
              "      <th>black_id</th>\n",
              "      <th>black_rating</th>\n",
              "      <th>moves</th>\n",
              "      <th>opening_eco</th>\n",
              "      <th>opening_name</th>\n",
              "      <th>opening_ply</th>\n",
              "    </tr>\n",
              "  </thead>\n",
              "  <tbody>\n",
              "    <tr>\n",
              "      <th>0</th>\n",
              "      <td>TZJHLljE</td>\n",
              "      <td>False</td>\n",
              "      <td>1.504210e+12</td>\n",
              "      <td>1.504210e+12</td>\n",
              "      <td>13</td>\n",
              "      <td>outoftime</td>\n",
              "      <td>white</td>\n",
              "      <td>15+2</td>\n",
              "      <td>bourgris</td>\n",
              "      <td>1500</td>\n",
              "      <td>a-00</td>\n",
              "      <td>1191</td>\n",
              "      <td>d4 d5 c4 c6 cxd5 e6 dxe6 fxe6 Nf3 Bb4+ Nc3 Ba5...</td>\n",
              "      <td>D10</td>\n",
              "      <td>Slav Defense: Exchange Variation</td>\n",
              "      <td>5</td>\n",
              "    </tr>\n",
              "    <tr>\n",
              "      <th>1</th>\n",
              "      <td>l1NXvwaE</td>\n",
              "      <td>True</td>\n",
              "      <td>1.504130e+12</td>\n",
              "      <td>1.504130e+12</td>\n",
              "      <td>16</td>\n",
              "      <td>resign</td>\n",
              "      <td>black</td>\n",
              "      <td>5+10</td>\n",
              "      <td>a-00</td>\n",
              "      <td>1322</td>\n",
              "      <td>skinnerua</td>\n",
              "      <td>1261</td>\n",
              "      <td>d4 Nc6 e4 e5 f4 f6 dxe5 fxe5 fxe5 Nxe5 Qd4 Nc6...</td>\n",
              "      <td>B00</td>\n",
              "      <td>Nimzowitsch Defense: Kennedy Variation</td>\n",
              "      <td>4</td>\n",
              "    </tr>\n",
              "    <tr>\n",
              "      <th>2</th>\n",
              "      <td>mIICvQHh</td>\n",
              "      <td>True</td>\n",
              "      <td>1.504130e+12</td>\n",
              "      <td>1.504130e+12</td>\n",
              "      <td>61</td>\n",
              "      <td>mate</td>\n",
              "      <td>white</td>\n",
              "      <td>5+10</td>\n",
              "      <td>ischia</td>\n",
              "      <td>1496</td>\n",
              "      <td>a-00</td>\n",
              "      <td>1500</td>\n",
              "      <td>e4 e5 d3 d6 Be3 c6 Be2 b5 Nd2 a5 a4 c5 axb5 Nc...</td>\n",
              "      <td>C20</td>\n",
              "      <td>King's Pawn Game: Leonardis Variation</td>\n",
              "      <td>3</td>\n",
              "    </tr>\n",
              "    <tr>\n",
              "      <th>3</th>\n",
              "      <td>kWKvrqYL</td>\n",
              "      <td>True</td>\n",
              "      <td>1.504110e+12</td>\n",
              "      <td>1.504110e+12</td>\n",
              "      <td>61</td>\n",
              "      <td>mate</td>\n",
              "      <td>white</td>\n",
              "      <td>20+0</td>\n",
              "      <td>daniamurashov</td>\n",
              "      <td>1439</td>\n",
              "      <td>adivanov2009</td>\n",
              "      <td>1454</td>\n",
              "      <td>d4 d5 Nf3 Bf5 Nc3 Nf6 Bf4 Ng4 e3 Nc6 Be2 Qd7 O...</td>\n",
              "      <td>D02</td>\n",
              "      <td>Queen's Pawn Game: Zukertort Variation</td>\n",
              "      <td>3</td>\n",
              "    </tr>\n",
              "    <tr>\n",
              "      <th>4</th>\n",
              "      <td>9tXo1AUZ</td>\n",
              "      <td>True</td>\n",
              "      <td>1.504030e+12</td>\n",
              "      <td>1.504030e+12</td>\n",
              "      <td>95</td>\n",
              "      <td>mate</td>\n",
              "      <td>white</td>\n",
              "      <td>30+3</td>\n",
              "      <td>nik221107</td>\n",
              "      <td>1523</td>\n",
              "      <td>adivanov2009</td>\n",
              "      <td>1469</td>\n",
              "      <td>e4 e5 Nf3 d6 d4 Nc6 d5 Nb4 a3 Na6 Nc3 Be7 b4 N...</td>\n",
              "      <td>C41</td>\n",
              "      <td>Philidor Defense</td>\n",
              "      <td>5</td>\n",
              "    </tr>\n",
              "    <tr>\n",
              "      <th>5</th>\n",
              "      <td>MsoDV9wj</td>\n",
              "      <td>False</td>\n",
              "      <td>1.504240e+12</td>\n",
              "      <td>1.504240e+12</td>\n",
              "      <td>5</td>\n",
              "      <td>draw</td>\n",
              "      <td>draw</td>\n",
              "      <td>10+0</td>\n",
              "      <td>trelynn17</td>\n",
              "      <td>1250</td>\n",
              "      <td>franklin14532</td>\n",
              "      <td>1002</td>\n",
              "      <td>e4 c5 Nf3 Qa5 a3</td>\n",
              "      <td>B27</td>\n",
              "      <td>Sicilian Defense: Mongoose Variation</td>\n",
              "      <td>4</td>\n",
              "    </tr>\n",
              "    <tr>\n",
              "      <th>6</th>\n",
              "      <td>qwU9rasv</td>\n",
              "      <td>True</td>\n",
              "      <td>1.504230e+12</td>\n",
              "      <td>1.504230e+12</td>\n",
              "      <td>33</td>\n",
              "      <td>resign</td>\n",
              "      <td>white</td>\n",
              "      <td>10+0</td>\n",
              "      <td>capa_jr</td>\n",
              "      <td>1520</td>\n",
              "      <td>daniel_likes_chess</td>\n",
              "      <td>1423</td>\n",
              "      <td>d4 d5 e4 dxe4 Nc3 Nf6 f3 exf3 Nxf3 Nc6 Bb5 a6 ...</td>\n",
              "      <td>D00</td>\n",
              "      <td>Blackmar-Diemer Gambit: Pietrowsky Defense</td>\n",
              "      <td>10</td>\n",
              "    </tr>\n",
              "    <tr>\n",
              "      <th>7</th>\n",
              "      <td>RVN0N3VK</td>\n",
              "      <td>False</td>\n",
              "      <td>1.503680e+12</td>\n",
              "      <td>1.503680e+12</td>\n",
              "      <td>9</td>\n",
              "      <td>resign</td>\n",
              "      <td>black</td>\n",
              "      <td>15+30</td>\n",
              "      <td>daniel_likes_chess</td>\n",
              "      <td>1413</td>\n",
              "      <td>soultego</td>\n",
              "      <td>2108</td>\n",
              "      <td>e4 Nc6 d4 e5 d5 Nce7 c3 Ng6 b4</td>\n",
              "      <td>B00</td>\n",
              "      <td>Nimzowitsch Defense: Kennedy Variation |  Link...</td>\n",
              "      <td>5</td>\n",
              "    </tr>\n",
              "    <tr>\n",
              "      <th>8</th>\n",
              "      <td>dwF3DJHO</td>\n",
              "      <td>True</td>\n",
              "      <td>1.503510e+12</td>\n",
              "      <td>1.503510e+12</td>\n",
              "      <td>66</td>\n",
              "      <td>resign</td>\n",
              "      <td>black</td>\n",
              "      <td>15+0</td>\n",
              "      <td>ehabfanri</td>\n",
              "      <td>1439</td>\n",
              "      <td>daniel_likes_chess</td>\n",
              "      <td>1392</td>\n",
              "      <td>e4 e5 Bc4 Nc6 Nf3 Nd4 d3 Nxf3+ Qxf3 Nf6 h3 Bc5...</td>\n",
              "      <td>C50</td>\n",
              "      <td>Italian Game: Schilling-Kostic Gambit</td>\n",
              "      <td>6</td>\n",
              "    </tr>\n",
              "    <tr>\n",
              "      <th>9</th>\n",
              "      <td>afoMwnLg</td>\n",
              "      <td>True</td>\n",
              "      <td>1.503440e+12</td>\n",
              "      <td>1.503440e+12</td>\n",
              "      <td>119</td>\n",
              "      <td>mate</td>\n",
              "      <td>white</td>\n",
              "      <td>10+0</td>\n",
              "      <td>daniel_likes_chess</td>\n",
              "      <td>1381</td>\n",
              "      <td>mirco25</td>\n",
              "      <td>1209</td>\n",
              "      <td>e4 d5 exd5 Qxd5 Nc3 Qe5+ Be2 Na6 d4 Qf5 Bxa6 b...</td>\n",
              "      <td>B01</td>\n",
              "      <td>Scandinavian Defense: Mieses-Kotroc Variation</td>\n",
              "      <td>4</td>\n",
              "    </tr>\n",
              "  </tbody>\n",
              "</table>\n",
              "</div>"
            ],
            "text/plain": [
              "         id  ...  opening_ply\n",
              "0  TZJHLljE  ...            5\n",
              "1  l1NXvwaE  ...            4\n",
              "2  mIICvQHh  ...            3\n",
              "3  kWKvrqYL  ...            3\n",
              "4  9tXo1AUZ  ...            5\n",
              "5  MsoDV9wj  ...            4\n",
              "6  qwU9rasv  ...           10\n",
              "7  RVN0N3VK  ...            5\n",
              "8  dwF3DJHO  ...            6\n",
              "9  afoMwnLg  ...            4\n",
              "\n",
              "[10 rows x 16 columns]"
            ]
          },
          "metadata": {
            "tags": []
          },
          "execution_count": 3
        }
      ]
    },
    {
      "cell_type": "code",
      "metadata": {
        "id": "wck9X5JKqGB-"
      },
      "source": [
        "#I am a huge chess nerd and I found this cool data set and would like to try and make a model to predict the winner of games based on the data."
      ],
      "execution_count": null,
      "outputs": []
    },
    {
      "cell_type": "code",
      "metadata": {
        "colab": {
          "base_uri": "https://localhost:8080/"
        },
        "id": "GjQQaTIBExjP",
        "outputId": "5d7f7497-8b15-4531-a2a6-7ebd814ad998"
      },
      "source": [
        "df.info()"
      ],
      "execution_count": null,
      "outputs": [
        {
          "output_type": "stream",
          "text": [
            "<class 'pandas.core.frame.DataFrame'>\n",
            "RangeIndex: 20058 entries, 0 to 20057\n",
            "Data columns (total 16 columns):\n",
            " #   Column          Non-Null Count  Dtype  \n",
            "---  ------          --------------  -----  \n",
            " 0   id              20058 non-null  object \n",
            " 1   rated           20058 non-null  bool   \n",
            " 2   created_at      20058 non-null  float64\n",
            " 3   last_move_at    20058 non-null  float64\n",
            " 4   turns           20058 non-null  int64  \n",
            " 5   victory_status  20058 non-null  object \n",
            " 6   winner          20058 non-null  object \n",
            " 7   increment_code  20058 non-null  object \n",
            " 8   white_id        20058 non-null  object \n",
            " 9   white_rating    20058 non-null  int64  \n",
            " 10  black_id        20058 non-null  object \n",
            " 11  black_rating    20058 non-null  int64  \n",
            " 12  moves           20058 non-null  object \n",
            " 13  opening_eco     20058 non-null  object \n",
            " 14  opening_name    20058 non-null  object \n",
            " 15  opening_ply     20058 non-null  int64  \n",
            "dtypes: bool(1), float64(2), int64(4), object(9)\n",
            "memory usage: 2.3+ MB\n"
          ],
          "name": "stdout"
        }
      ]
    },
    {
      "cell_type": "code",
      "metadata": {
        "colab": {
          "base_uri": "https://localhost:8080/"
        },
        "id": "P5of53wzQfra",
        "outputId": "8a577671-eba7-4edc-ca5c-5b62de8f6b3a"
      },
      "source": [
        "df.duplicated().any()"
      ],
      "execution_count": null,
      "outputs": [
        {
          "output_type": "execute_result",
          "data": {
            "text/plain": [
              "True"
            ]
          },
          "metadata": {
            "tags": []
          },
          "execution_count": 6
        }
      ]
    },
    {
      "cell_type": "code",
      "metadata": {
        "id": "O6TE9maFQoSC"
      },
      "source": [
        "df.drop_duplicates(inplace = True)"
      ],
      "execution_count": null,
      "outputs": []
    },
    {
      "cell_type": "code",
      "metadata": {
        "id": "CWyQQkCMQ28A"
      },
      "source": [
        "df.dropna(inplace = True)"
      ],
      "execution_count": null,
      "outputs": []
    },
    {
      "cell_type": "code",
      "metadata": {
        "colab": {
          "base_uri": "https://localhost:8080/"
        },
        "id": "kpxb2TqxE4Z1",
        "outputId": "b1d2a614-95dd-4feb-fb9e-773081ff5033"
      },
      "source": [
        "#I understand this feature in a chess sense but will need to consult my instructor on what the best option is on handling it. I'll schedule a 1-on-1 for next week.\n",
        "df['increment_code']"
      ],
      "execution_count": null,
      "outputs": [
        {
          "output_type": "execute_result",
          "data": {
            "text/plain": [
              "0         15+2\n",
              "1         5+10\n",
              "2         5+10\n",
              "3         20+0\n",
              "4         30+3\n",
              "         ...  \n",
              "20053    10+10\n",
              "20054     10+0\n",
              "20055     10+0\n",
              "20056     10+0\n",
              "20057     10+0\n",
              "Name: increment_code, Length: 19629, dtype: object"
            ]
          },
          "metadata": {
            "tags": []
          },
          "execution_count": 9
        }
      ]
    },
    {
      "cell_type": "code",
      "metadata": {
        "id": "9I8V85zBFTxu"
      },
      "source": [
        "#While cleaning the data I also decided to drop the columns that list the game or player's ID since all of the data entries in each are unique I can't see it being useful in making predictions.\n",
        "df.drop(columns = ['id','white_id','black_id', 'rated'], inplace = True)"
      ],
      "execution_count": null,
      "outputs": []
    },
    {
      "cell_type": "code",
      "metadata": {
        "colab": {
          "base_uri": "https://localhost:8080/"
        },
        "id": "Wa4e_By7IdMp",
        "outputId": "77146dd5-bfc2-49c7-d48a-fdce75fa6ba3"
      },
      "source": [
        "df.info()"
      ],
      "execution_count": null,
      "outputs": [
        {
          "output_type": "stream",
          "text": [
            "<class 'pandas.core.frame.DataFrame'>\n",
            "Int64Index: 19629 entries, 0 to 20057\n",
            "Data columns (total 12 columns):\n",
            " #   Column          Non-Null Count  Dtype  \n",
            "---  ------          --------------  -----  \n",
            " 0   created_at      19629 non-null  float64\n",
            " 1   last_move_at    19629 non-null  float64\n",
            " 2   turns           19629 non-null  int64  \n",
            " 3   victory_status  19629 non-null  object \n",
            " 4   winner          19629 non-null  object \n",
            " 5   increment_code  19629 non-null  object \n",
            " 6   white_rating    19629 non-null  int64  \n",
            " 7   black_rating    19629 non-null  int64  \n",
            " 8   moves           19629 non-null  object \n",
            " 9   opening_eco     19629 non-null  object \n",
            " 10  opening_name    19629 non-null  object \n",
            " 11  opening_ply     19629 non-null  int64  \n",
            "dtypes: float64(2), int64(4), object(6)\n",
            "memory usage: 1.9+ MB\n"
          ],
          "name": "stdout"
        }
      ]
    },
    {
      "cell_type": "code",
      "metadata": {
        "id": "s1C7ycYxImox"
      },
      "source": [
        "test_df = df[df['opening_name'] == 'Sicilian Defense']"
      ],
      "execution_count": null,
      "outputs": []
    },
    {
      "cell_type": "code",
      "metadata": {
        "colab": {
          "base_uri": "https://localhost:8080/",
          "height": 921
        },
        "id": "gDyNPZqe__kx",
        "outputId": "5818a1df-bdea-42ee-9093-d3a74eb72649"
      },
      "source": [
        "test_df.head()"
      ],
      "execution_count": null,
      "outputs": [
        {
          "output_type": "execute_result",
          "data": {
            "text/html": [
              "<div>\n",
              "<style scoped>\n",
              "    .dataframe tbody tr th:only-of-type {\n",
              "        vertical-align: middle;\n",
              "    }\n",
              "\n",
              "    .dataframe tbody tr th {\n",
              "        vertical-align: top;\n",
              "    }\n",
              "\n",
              "    .dataframe thead th {\n",
              "        text-align: right;\n",
              "    }\n",
              "</style>\n",
              "<table border=\"1\" class=\"dataframe\">\n",
              "  <thead>\n",
              "    <tr style=\"text-align: right;\">\n",
              "      <th></th>\n",
              "      <th>created_at</th>\n",
              "      <th>last_move_at</th>\n",
              "      <th>turns</th>\n",
              "      <th>victory_status</th>\n",
              "      <th>winner</th>\n",
              "      <th>increment_code</th>\n",
              "      <th>white_rating</th>\n",
              "      <th>black_rating</th>\n",
              "      <th>moves</th>\n",
              "      <th>opening_eco</th>\n",
              "      <th>opening_name</th>\n",
              "      <th>opening_ply</th>\n",
              "    </tr>\n",
              "  </thead>\n",
              "  <tbody>\n",
              "    <tr>\n",
              "      <th>32</th>\n",
              "      <td>1.502780e+12</td>\n",
              "      <td>1.502780e+12</td>\n",
              "      <td>54</td>\n",
              "      <td>resign</td>\n",
              "      <td>white</td>\n",
              "      <td>10+10</td>\n",
              "      <td>1203</td>\n",
              "      <td>1019</td>\n",
              "      <td>e4 c5 Nf3 d5 exd5 Qxd5 Nc3 Qe6+ Qe2 Qxe2+ Bxe2...</td>\n",
              "      <td>B27</td>\n",
              "      <td>Sicilian Defense</td>\n",
              "      <td>3</td>\n",
              "    </tr>\n",
              "    <tr>\n",
              "      <th>167</th>\n",
              "      <td>1.503450e+12</td>\n",
              "      <td>1.503450e+12</td>\n",
              "      <td>107</td>\n",
              "      <td>resign</td>\n",
              "      <td>white</td>\n",
              "      <td>10+10</td>\n",
              "      <td>1885</td>\n",
              "      <td>1856</td>\n",
              "      <td>e4 c5 Nf3 d6 Nc3 a6 a3 Nf6 Bc4 e6 d3 Nc6 Ba2 B...</td>\n",
              "      <td>B50</td>\n",
              "      <td>Sicilian Defense</td>\n",
              "      <td>4</td>\n",
              "    </tr>\n",
              "    <tr>\n",
              "      <th>174</th>\n",
              "      <td>1.503120e+12</td>\n",
              "      <td>1.503120e+12</td>\n",
              "      <td>105</td>\n",
              "      <td>outoftime</td>\n",
              "      <td>white</td>\n",
              "      <td>10+0</td>\n",
              "      <td>1895</td>\n",
              "      <td>1859</td>\n",
              "      <td>e4 c5 Nf3 d6 Bc4 Nf6 d3 a6 a3 g6 b4 Bg7 Bb2 O-...</td>\n",
              "      <td>B50</td>\n",
              "      <td>Sicilian Defense</td>\n",
              "      <td>4</td>\n",
              "    </tr>\n",
              "    <tr>\n",
              "      <th>176</th>\n",
              "      <td>1.503090e+12</td>\n",
              "      <td>1.503090e+12</td>\n",
              "      <td>144</td>\n",
              "      <td>outoftime</td>\n",
              "      <td>draw</td>\n",
              "      <td>10+0</td>\n",
              "      <td>1866</td>\n",
              "      <td>1843</td>\n",
              "      <td>e4 c5 Nf3 d6 g3 Nf6 d3 Nc6 Bg2 g6 O-O Bg7 Nc3 ...</td>\n",
              "      <td>B50</td>\n",
              "      <td>Sicilian Defense</td>\n",
              "      <td>4</td>\n",
              "    </tr>\n",
              "    <tr>\n",
              "      <th>191</th>\n",
              "      <td>1.501040e+12</td>\n",
              "      <td>1.501040e+12</td>\n",
              "      <td>136</td>\n",
              "      <td>resign</td>\n",
              "      <td>black</td>\n",
              "      <td>15+0</td>\n",
              "      <td>1800</td>\n",
              "      <td>1826</td>\n",
              "      <td>e4 c5 Qf3 Nc6 c3 d6 Bc4 Nf6 Bb5 Bg4 Bxc6+ bxc6...</td>\n",
              "      <td>B20</td>\n",
              "      <td>Sicilian Defense</td>\n",
              "      <td>2</td>\n",
              "    </tr>\n",
              "  </tbody>\n",
              "</table>\n",
              "</div>"
            ],
            "text/plain": [
              "       created_at  last_move_at  ...      opening_name opening_ply\n",
              "32   1.502780e+12  1.502780e+12  ...  Sicilian Defense           3\n",
              "167  1.503450e+12  1.503450e+12  ...  Sicilian Defense           4\n",
              "174  1.503120e+12  1.503120e+12  ...  Sicilian Defense           4\n",
              "176  1.503090e+12  1.503090e+12  ...  Sicilian Defense           4\n",
              "191  1.501040e+12  1.501040e+12  ...  Sicilian Defense           2\n",
              "\n",
              "[5 rows x 12 columns]"
            ]
          },
          "metadata": {
            "tags": []
          },
          "execution_count": 13
        }
      ]
    },
    {
      "cell_type": "code",
      "metadata": {
        "colab": {
          "base_uri": "https://localhost:8080/"
        },
        "id": "13-DUgATI2d0",
        "outputId": "4d6506bf-07d1-4290-f4cc-d35db3f6250a"
      },
      "source": [
        "df['opening_eco'].value_counts()"
      ],
      "execution_count": null,
      "outputs": [
        {
          "output_type": "execute_result",
          "data": {
            "text/plain": [
              "A00    992\n",
              "C00    824\n",
              "D00    719\n",
              "B01    707\n",
              "C41    671\n",
              "      ... \n",
              "C83      1\n",
              "D48      1\n",
              "D58      1\n",
              "E52      1\n",
              "D19      1\n",
              "Name: opening_eco, Length: 365, dtype: int64"
            ]
          },
          "metadata": {
            "tags": []
          },
          "execution_count": 14
        }
      ]
    },
    {
      "cell_type": "code",
      "metadata": {
        "colab": {
          "base_uri": "https://localhost:8080/",
          "height": 279
        },
        "id": "hE0OyD0u_Cx5",
        "outputId": "5211ad97-9e36-4024-f7ba-8386c33efb2f"
      },
      "source": [
        "ax  =sns.countplot(y = 'opening_eco', data = test_df, palette=['blue'])\n"
      ],
      "execution_count": null,
      "outputs": [
        {
          "output_type": "display_data",
          "data": {
            "image/png": "[encoded data removed]",
            "text/plain": [
              "<Figure size 432x288 with 1 Axes>"
            ]
          },
          "metadata": {
            "tags": [],
            "needs_background": "light"
          }
        }
      ]
    },
    {
      "cell_type": "code",
      "metadata": {
        "id": "cRJSMOvl_-95"
      },
      "source": [
        "b27_df = df[df['opening_eco'] == 'B27']"
      ],
      "execution_count": null,
      "outputs": []
    },
    {
      "cell_type": "code",
      "metadata": {
        "colab": {
          "base_uri": "https://localhost:8080/",
          "height": 887
        },
        "id": "_PnKgWh_Av5x",
        "outputId": "f550e030-a647-4ed4-d710-58b7f7523d68"
      },
      "source": [
        "b27_df.head()"
      ],
      "execution_count": null,
      "outputs": [
        {
          "output_type": "execute_result",
          "data": {
            "text/html": [
              "<div>\n",
              "<style scoped>\n",
              "    .dataframe tbody tr th:only-of-type {\n",
              "        vertical-align: middle;\n",
              "    }\n",
              "\n",
              "    .dataframe tbody tr th {\n",
              "        vertical-align: top;\n",
              "    }\n",
              "\n",
              "    .dataframe thead th {\n",
              "        text-align: right;\n",
              "    }\n",
              "</style>\n",
              "<table border=\"1\" class=\"dataframe\">\n",
              "  <thead>\n",
              "    <tr style=\"text-align: right;\">\n",
              "      <th></th>\n",
              "      <th>created_at</th>\n",
              "      <th>last_move_at</th>\n",
              "      <th>turns</th>\n",
              "      <th>victory_status</th>\n",
              "      <th>winner</th>\n",
              "      <th>increment_code</th>\n",
              "      <th>white_rating</th>\n",
              "      <th>black_rating</th>\n",
              "      <th>moves</th>\n",
              "      <th>opening_eco</th>\n",
              "      <th>opening_name</th>\n",
              "      <th>opening_ply</th>\n",
              "    </tr>\n",
              "  </thead>\n",
              "  <tbody>\n",
              "    <tr>\n",
              "      <th>5</th>\n",
              "      <td>1.504240e+12</td>\n",
              "      <td>1.504240e+12</td>\n",
              "      <td>5</td>\n",
              "      <td>draw</td>\n",
              "      <td>draw</td>\n",
              "      <td>10+0</td>\n",
              "      <td>1250</td>\n",
              "      <td>1002</td>\n",
              "      <td>e4 c5 Nf3 Qa5 a3</td>\n",
              "      <td>B27</td>\n",
              "      <td>Sicilian Defense: Mongoose Variation</td>\n",
              "      <td>4</td>\n",
              "    </tr>\n",
              "    <tr>\n",
              "      <th>32</th>\n",
              "      <td>1.502780e+12</td>\n",
              "      <td>1.502780e+12</td>\n",
              "      <td>54</td>\n",
              "      <td>resign</td>\n",
              "      <td>white</td>\n",
              "      <td>10+10</td>\n",
              "      <td>1203</td>\n",
              "      <td>1019</td>\n",
              "      <td>e4 c5 Nf3 d5 exd5 Qxd5 Nc3 Qe6+ Qe2 Qxe2+ Bxe2...</td>\n",
              "      <td>B27</td>\n",
              "      <td>Sicilian Defense</td>\n",
              "      <td>3</td>\n",
              "    </tr>\n",
              "    <tr>\n",
              "      <th>158</th>\n",
              "      <td>1.503690e+12</td>\n",
              "      <td>1.503690e+12</td>\n",
              "      <td>125</td>\n",
              "      <td>resign</td>\n",
              "      <td>white</td>\n",
              "      <td>15+0</td>\n",
              "      <td>1851</td>\n",
              "      <td>1918</td>\n",
              "      <td>e4 c5 Nf3 g6 Nc3 Bg7 Bb5 a6 Be2 Nc6 O-O b5 a3 ...</td>\n",
              "      <td>B27</td>\n",
              "      <td>Sicilian Defense: Hyperaccelerated Dragon</td>\n",
              "      <td>4</td>\n",
              "    </tr>\n",
              "    <tr>\n",
              "      <th>219</th>\n",
              "      <td>1.503510e+12</td>\n",
              "      <td>1.503510e+12</td>\n",
              "      <td>44</td>\n",
              "      <td>mate</td>\n",
              "      <td>black</td>\n",
              "      <td>15+1</td>\n",
              "      <td>1274</td>\n",
              "      <td>1534</td>\n",
              "      <td>e4 e5 Nf3 c5 d4 Nc6 dxe5 d6 exd6 Bxd6 Bg5 Nf6 ...</td>\n",
              "      <td>B27</td>\n",
              "      <td>Sicilian Defense: Jalalabad Variation</td>\n",
              "      <td>4</td>\n",
              "    </tr>\n",
              "    <tr>\n",
              "      <th>292</th>\n",
              "      <td>1.502500e+12</td>\n",
              "      <td>1.502500e+12</td>\n",
              "      <td>72</td>\n",
              "      <td>resign</td>\n",
              "      <td>white</td>\n",
              "      <td>15+15</td>\n",
              "      <td>1611</td>\n",
              "      <td>1478</td>\n",
              "      <td>Nf3 c5 e4 Qc7 Nc3 a6 d4 e6 d5 e5 a4 d6 Nd2 Nf6...</td>\n",
              "      <td>B27</td>\n",
              "      <td>Sicilian Defense: Quinteros Variation</td>\n",
              "      <td>4</td>\n",
              "    </tr>\n",
              "  </tbody>\n",
              "</table>\n",
              "</div>"
            ],
            "text/plain": [
              "       created_at  ...  opening_ply\n",
              "5    1.504240e+12  ...            4\n",
              "32   1.502780e+12  ...            3\n",
              "158  1.503690e+12  ...            4\n",
              "219  1.503510e+12  ...            4\n",
              "292  1.502500e+12  ...            4\n",
              "\n",
              "[5 rows x 12 columns]"
            ]
          },
          "metadata": {
            "tags": []
          },
          "execution_count": 17
        }
      ]
    },
    {
      "cell_type": "code",
      "metadata": {
        "colab": {
          "base_uri": "https://localhost:8080/",
          "height": 279
        },
        "id": "Psm0pK_nA03y",
        "outputId": "f33f8be3-fa1e-4bfe-901a-055729cadfa5"
      },
      "source": [
        "ax  =sns.countplot(y = 'opening_name', data = b27_df, palette=['blue'])"
      ],
      "execution_count": null,
      "outputs": [
        {
          "output_type": "display_data",
          "data": {
            "image/png": "[encoded data removed]",
            "text/plain": [
              "<Figure size 432x288 with 1 Axes>"
            ]
          },
          "metadata": {
            "tags": [],
            "needs_background": "light"
          }
        }
      ]
    },
    {
      "cell_type": "code",
      "metadata": {
        "id": "fgf_PpndA7l4"
      },
      "source": [
        "b50_df = df[df['opening_eco'] == 'B50']"
      ],
      "execution_count": null,
      "outputs": []
    },
    {
      "cell_type": "code",
      "metadata": {
        "colab": {
          "base_uri": "https://localhost:8080/",
          "height": 279
        },
        "id": "XopQoeVbCCkK",
        "outputId": "cd0157d1-e734-4e65-a549-40e97300d14e"
      },
      "source": [
        "ax  =sns.countplot(y = 'opening_name', data = b50_df, palette=['blue'])"
      ],
      "execution_count": null,
      "outputs": [
        {
          "output_type": "display_data",
          "data": {
            "image/png": "[encoded data removed]",
            "text/plain": [
              "<Figure size 432x288 with 1 Axes>"
            ]
          },
          "metadata": {
            "tags": [],
            "needs_background": "light"
          }
        }
      ]
    },
    {
      "cell_type": "code",
      "metadata": {
        "id": "AbSlVFfqTQtd"
      },
      "source": [
        "#From the data exploration above I found that although both the opening_eco and opening_name column provide a great deal of information, I'll need to find a cleaner way to represent that data."
      ],
      "execution_count": null,
      "outputs": []
    },
    {
      "cell_type": "code",
      "metadata": {
        "id": "Wv6L9wOCCESM"
      },
      "source": [
        "#Citations Dumping:\n",
        "#https://stackoverflow.com/questions/35552874/get-first-letter-of-a-string-from-column\n",
        "#https://www.geeksforgeeks.org/get-the-substring-of-the-column-in-pandas-python/\n",
        "#https://www.dataquest.io/blog/tutorial-add-column-pandas-dataframe-based-on-if-else-condition/\n",
        "#https://www.edureka.co/blog/python-list-length/\n"
      ],
      "execution_count": null,
      "outputs": []
    },
    {
      "cell_type": "code",
      "metadata": {
        "colab": {
          "base_uri": "https://localhost:8080/"
        },
        "id": "gtNEu1rlEVQa",
        "outputId": "b5397775-ba5e-4f2f-e09d-91d496c6c9f9"
      },
      "source": [
        "df['Letter'] = df['opening_eco'].str[0]\n",
        "df['Letter']"
      ],
      "execution_count": null,
      "outputs": [
        {
          "output_type": "execute_result",
          "data": {
            "text/plain": [
              "0        D\n",
              "1        B\n",
              "2        C\n",
              "3        D\n",
              "4        C\n",
              "        ..\n",
              "20053    A\n",
              "20054    A\n",
              "20055    D\n",
              "20056    B\n",
              "20057    D\n",
              "Name: Letter, Length: 19629, dtype: object"
            ]
          },
          "metadata": {
            "tags": []
          },
          "execution_count": 23
        }
      ]
    },
    {
      "cell_type": "code",
      "metadata": {
        "colab": {
          "base_uri": "https://localhost:8080/"
        },
        "id": "S26ZVFnJEw_J",
        "outputId": "fc849186-8530-4516-f743-c96d6af2dd81"
      },
      "source": [
        "df['Number'] = df['opening_eco'].str.slice(1,3)\n",
        "df['Number']"
      ],
      "execution_count": null,
      "outputs": [
        {
          "output_type": "execute_result",
          "data": {
            "text/plain": [
              "0        10\n",
              "1        00\n",
              "2        20\n",
              "3        02\n",
              "4        41\n",
              "         ..\n",
              "20053    80\n",
              "20054    41\n",
              "20055    00\n",
              "20056    07\n",
              "20057    00\n",
              "Name: Number, Length: 19629, dtype: object"
            ]
          },
          "metadata": {
            "tags": []
          },
          "execution_count": 24
        }
      ]
    },
    {
      "cell_type": "code",
      "metadata": {
        "id": "RSkdpdBbJrQS"
      },
      "source": [
        "df['Number'] = df['Number'].astype(int)"
      ],
      "execution_count": null,
      "outputs": []
    },
    {
      "cell_type": "code",
      "metadata": {
        "colab": {
          "base_uri": "https://localhost:8080/"
        },
        "id": "nedM9CH0J8Iy",
        "outputId": "c7f37a93-ff16-4cf5-adf6-e5b61af8f0d3"
      },
      "source": [
        "df['Number']"
      ],
      "execution_count": null,
      "outputs": [
        {
          "output_type": "execute_result",
          "data": {
            "text/plain": [
              "0        10\n",
              "1         0\n",
              "2        20\n",
              "3         2\n",
              "4        41\n",
              "         ..\n",
              "20053    80\n",
              "20054    41\n",
              "20055     0\n",
              "20056     7\n",
              "20057     0\n",
              "Name: Number, Length: 19629, dtype: int64"
            ]
          },
          "metadata": {
            "tags": []
          },
          "execution_count": 26
        }
      ]
    },
    {
      "cell_type": "code",
      "metadata": {
        "id": "KnY3sC_YITSq"
      },
      "source": [
        "#E60-E99 King's Indian defence"
      ],
      "execution_count": null,
      "outputs": []
    },
    {
      "cell_type": "code",
      "metadata": {
        "id": "ihluZF62JEo6"
      },
      "source": [
        "conditions = [\n",
        "              (df['Letter'] == 'E') & (df['Number'] >= 60) & (df['Number'] <= 99),\n",
        "              (df['Letter'] == 'E') & (df['Number'] >= 20) & (df['Number'] <= 59),\n",
        "              (df['Letter'] == 'E') & (df['Number'] >= 12) & (df['Number'] <= 19),\n",
        "              (df['Letter'] == 'E') & (df['Number'] == 11),\n",
        "              (df['Letter'] == 'E') & (df['Number'] == 10),\n",
        "              (df['Letter'] == 'E') & (df['Number'] >= 1) & (df['Number'] <= 9),\n",
        "              (df['Letter'] == 'E') & (df['Number'] == 0),\n",
        "              (df['Letter'] == 'D') & (df['Number'] >= 80) & (df['Number'] <= 99),\n",
        "              (df['Letter'] == 'D') & (df['Number'] >= 70) & (df['Number'] <= 79),\n",
        "              (df['Letter'] == 'D') & (df['Number'] >= 50) & (df['Number'] <= 69),\n",
        "              (df['Letter'] == 'D') & (df['Number'] >= 43) & (df['Number'] <= 49),\n",
        "              (df['Letter'] == 'D') & (df['Number'] >= 30) & (df['Number'] <= 42),\n",
        "              (df['Letter'] == 'D') & (df['Number'] >= 20) & (df['Number'] <= 29),\n",
        "              (df['Letter'] == 'D') & (df['Number'] >= 17) & (df['Number'] <= 19),\n",
        "              (df['Letter'] == 'D') & (df['Number'] == 16),\n",
        "              (df['Letter'] == 'D') & (df['Number'] >= 10) & (df['Number'] <= 15),\n",
        "              (df['Letter'] == 'D') & (df['Number'] >= 7) & (df['Number'] <= 9),\n",
        "              (df['Letter'] == 'D') & (df['Number'] == 6),\n",
        "              (df['Letter'] == 'D') & (df['Number'] >= 4) & (df['Number'] <= 5),\n",
        "              (df['Letter'] == 'D') & (df['Number'] == 3),\n",
        "              (df['Letter'] == 'D') & (df['Number'] == 2),\n",
        "              (df['Letter'] == 'D') & (df['Number'] == 1),\n",
        "              (df['Letter'] == 'D') & (df['Number'] == 0),\n",
        "              (df['Letter'] == 'C') & (df['Number'] >= 60) & (df['Number'] <= 99),\n",
        "              (df['Letter'] == 'C') & (df['Number'] >= 55) & (df['Number'] <= 59),\n",
        "              (df['Letter'] == 'C') & (df['Number'] >= 53) & (df['Number'] <= 54),\n",
        "              (df['Letter'] == 'C') & (df['Number'] >= 51) & (df['Number'] <= 52),\n",
        "              (df['Letter'] == 'C') & (df['Number'] == 50),\n",
        "              (df['Letter'] == 'C') & (df['Number'] >= 47) & (df['Number'] <= 49),\n",
        "              (df['Letter'] == 'C') & (df['Number'] == 46),\n",
        "              (df['Letter'] == 'C') & (df['Number'] == 45),\n",
        "              (df['Letter'] == 'C') & (df['Number'] == 44),\n",
        "              (df['Letter'] == 'C') & (df['Number'] >= 42) & (df['Number'] <= 43),\n",
        "              (df['Letter'] == 'C') & (df['Number'] == 41),\n",
        "              (df['Letter'] == 'C') & (df['Number'] == 40),\n",
        "              (df['Letter'] == 'C') & (df['Number'] >= 30) & (df['Number'] <= 39),\n",
        "              (df['Letter'] == 'C') & (df['Number'] >= 25) & (df['Number'] <= 29),\n",
        "              (df['Letter'] == 'C') & (df['Number'] >= 23) & (df['Number'] <= 24),\n",
        "              (df['Letter'] == 'C') & (df['Number'] >= 21) & (df['Number'] <= 22),\n",
        "              (df['Letter'] == 'C') & (df['Number'] == 20),\n",
        "              (df['Letter'] == 'C') & (df['Number'] >= 00) & (df['Number'] <= 19),\n",
        "              (df['Letter'] == 'B') & (df['Number'] >= 20) & (df['Number'] <= 99),\n",
        "              (df['Letter'] == 'B') & (df['Number'] >= 10) & (df['Number'] <= 19),\n",
        "              (df['Letter'] == 'B') & (df['Number'] >= 7) & (df['Number'] <= 9),\n",
        "              (df['Letter'] == 'B') & (df['Number'] == 6),\n",
        "              (df['Letter'] == 'B') & (df['Number'] >= 2) & (df['Number'] <= 5),\n",
        "              (df['Letter'] == 'B') & (df['Number'] == 1),\n",
        "              (df['Letter'] == 'B') & (df['Number'] == 0),\n",
        "              (df['Letter'] == 'A') & (df['Number'] >= 80) & (df['Number'] <= 99),\n",
        "              (df['Letter'] == 'A') & (df['Number'] >= 60) & (df['Number'] <= 79),\n",
        "              (df['Letter'] == 'A') & (df['Number'] >= 57) & (df['Number'] <= 59),\n",
        "              (df['Letter'] == 'A') & (df['Number'] == 56),\n",
        "              (df['Letter'] == 'A') & (df['Number'] >= 53) & (df['Number'] <= 55),\n",
        "              (df['Letter'] == 'A') & (df['Number'] >= 51) & (df['Number'] <= 52),\n",
        "              (df['Letter'] == 'A') & (df['Number'] == 50),\n",
        "              (df['Letter'] == 'A') & (df['Number'] >= 48) & (df['Number'] <= 49),\n",
        "              (df['Letter'] == 'A') & (df['Number'] == 47),\n",
        "              (df['Letter'] == 'A') & (df['Number'] >= 45) & (df['Number'] <= 46),\n",
        "              (df['Letter'] == 'A') & (df['Number'] >= 43) & (df['Number'] <= 44),\n",
        "              (df['Letter'] == 'A') & (df['Number'] == 42),\n",
        "              (df['Letter'] == 'A') & (df['Number'] >= 40) & (df['Number'] <= 41),\n",
        "              (df['Letter'] == 'A') & (df['Number'] >= 10) & (df['Number'] <= 39),\n",
        "              (df['Letter'] == 'A') & (df['Number'] >= 4) & (df['Number'] <= 9),\n",
        "              (df['Letter'] == 'A') & (df['Number'] >= 2) & (df['Number'] <= 3),\n",
        "              (df['Letter'] == 'A') & (df['Number'] == 1),\n",
        "              (df['Letter'] == 'A') & (df['Number'] == 0),\n",
        "              \n",
        "\n",
        "]"
      ],
      "execution_count": null,
      "outputs": []
    },
    {
      "cell_type": "code",
      "metadata": {
        "id": "estxiYHzKFdC"
      },
      "source": [
        "values = ['E60-E99 Kings Indian defence', 'E20-E59 Nimzo-Indian defence', ' E12-E19 Queens Indian defence',' E11 Bogo-Indian defence', 'E10 Queens pawn game',\n",
        "          'E01-E09 Catalan, closed', 'E00 Queens pawn game', 'D80-D99 Gruenfeld defence', 'D70-D79 Neo-Gruenfeld defence', 'D50-D69 Queens Gambit Declined, 4.Bg5',\n",
        "          'D43-D49 Queens Gambit Declined semi-Slav', 'D30-D42 Queens gambit declined', 'D20-D29 Queens gambit accepted', 'D17-D19 Queens Gambit Declined Slav, Czech defence',\n",
        "          'D16 Queens Gambit Declined Slav accepted, Alapin variation', 'D10-D15 Queens Gambit Declined Slav defence', 'D07-D09 Queens Gambit Declined, Chigorin defence',\n",
        "          'D06 Queens Gambit', 'D04-D05 Queens pawn game', 'D03 Torre attack (Tartakower variation)', 'D02 Queens pawn game', 'D01 Richter-Veresov attack', 'D00 Queens pawn game',\n",
        "          'C60-C99 Ruy Lopez (Spanish opening)', 'C55-C59 Two knights defence', 'C53-C54 Giuoco Piano', 'C51-C52 Evans gambit', 'C50 Kings pawn game', 'C47-C49 Four knights, Scotch variation',\n",
        "          'C46 Three knights game', 'C45 Scotch game', 'C44 Kings pawn game', 'C42-C43 Petrovs defence', 'C41 Philidors defence', 'C40 Kings knight opening', 'C30-C39 Kings gambit', 'C25-C29 Vienna game',\n",
        "          'C23-C24 Bishops opening', 'C21-C22 Centre game', 'C20 Kings pawn game', 'C00-C19 French defence', 'B20-B99 Sicilian defence', 'B10-B19 Caro-Kann defence', 'B07-B09 Pirc defence', 'B06 Robatsch (modern) defence',\n",
        "          'B02-B05 Alekhines defence', 'B01 Scandinavian (centre counter) defence', 'B00 Kings pawn opening', 'A80-A99 Dutch', 'A60-A79 Benoni defence', 'A57-A59 Benko gambit', 'A56 Benoni defence', 'A53-A55 Old Indian defence',\n",
        "          'A51-A52 Budapest defence', 'A50 Queens pawn game', 'A48-A49 Kings Indian, East Indian defence', 'A47 Queens Indian defence', 'A45-A46 Queens pawn game', 'A43-A44 Old Benoni defence', 'A42 Modern defence, Averbakh system',\n",
        "          'A40-A41 Queens pawn', 'A10-A39 English opening', 'A04-A09 Reti opening', 'A02-A03 Birds opening', 'A01 Nimzovich-Larsen attack', 'A00 Polish (Sokolsky) opening'\n",
        "]"
      ],
      "execution_count": null,
      "outputs": []
    },
    {
      "cell_type": "code",
      "metadata": {
        "id": "2m0DWmQwK2qz",
        "colab": {
          "base_uri": "https://localhost:8080/",
          "height": 1000
        },
        "outputId": "aa9df93b-03d5-4324-8ed8-6e0f6c511ab5"
      },
      "source": [
        "df['ComboName'] = np.select(conditions, values)\n",
        "df[df['Letter']== 'E']"
      ],
      "execution_count": null,
      "outputs": [
        {
          "output_type": "execute_result",
          "data": {
            "text/html": [
              "<div>\n",
              "<style scoped>\n",
              "    .dataframe tbody tr th:only-of-type {\n",
              "        vertical-align: middle;\n",
              "    }\n",
              "\n",
              "    .dataframe tbody tr th {\n",
              "        vertical-align: top;\n",
              "    }\n",
              "\n",
              "    .dataframe thead th {\n",
              "        text-align: right;\n",
              "    }\n",
              "</style>\n",
              "<table border=\"1\" class=\"dataframe\">\n",
              "  <thead>\n",
              "    <tr style=\"text-align: right;\">\n",
              "      <th></th>\n",
              "      <th>created_at</th>\n",
              "      <th>last_move_at</th>\n",
              "      <th>turns</th>\n",
              "      <th>victory_status</th>\n",
              "      <th>winner</th>\n",
              "      <th>increment_code</th>\n",
              "      <th>white_rating</th>\n",
              "      <th>black_rating</th>\n",
              "      <th>moves</th>\n",
              "      <th>opening_eco</th>\n",
              "      <th>opening_name</th>\n",
              "      <th>opening_ply</th>\n",
              "      <th>Letter</th>\n",
              "      <th>Number</th>\n",
              "      <th>ComboName</th>\n",
              "    </tr>\n",
              "  </thead>\n",
              "  <tbody>\n",
              "    <tr>\n",
              "      <th>63</th>\n",
              "      <td>1.503970e+12</td>\n",
              "      <td>1.503970e+12</td>\n",
              "      <td>25</td>\n",
              "      <td>resign</td>\n",
              "      <td>white</td>\n",
              "      <td>8+12</td>\n",
              "      <td>1939</td>\n",
              "      <td>1581</td>\n",
              "      <td>d4 Nf6 c4 e6 Nf3 c5 d5 exd5 cxd5 c4 Nc3 Bb4 Bg...</td>\n",
              "      <td>E10</td>\n",
              "      <td>Blumenfeld Countergambit #2</td>\n",
              "      <td>6</td>\n",
              "      <td>E</td>\n",
              "      <td>10</td>\n",
              "      <td>E10 Queens pawn game</td>\n",
              "    </tr>\n",
              "    <tr>\n",
              "      <th>139</th>\n",
              "      <td>1.503130e+12</td>\n",
              "      <td>1.503130e+12</td>\n",
              "      <td>58</td>\n",
              "      <td>mate</td>\n",
              "      <td>black</td>\n",
              "      <td>15+15</td>\n",
              "      <td>1335</td>\n",
              "      <td>1233</td>\n",
              "      <td>d4 Nf6 c4 e6 Nc3 Bb4 Bd2 O-O e3 d5 cxd5 exd5 Q...</td>\n",
              "      <td>E20</td>\n",
              "      <td>Nimzo-Indian Defense</td>\n",
              "      <td>6</td>\n",
              "      <td>E</td>\n",
              "      <td>20</td>\n",
              "      <td>E20-E59 Nimzo-Indian defence</td>\n",
              "    </tr>\n",
              "    <tr>\n",
              "      <th>145</th>\n",
              "      <td>1.503090e+12</td>\n",
              "      <td>1.503090e+12</td>\n",
              "      <td>43</td>\n",
              "      <td>mate</td>\n",
              "      <td>white</td>\n",
              "      <td>10+0</td>\n",
              "      <td>1550</td>\n",
              "      <td>1225</td>\n",
              "      <td>d4 Nf6 c4 e6 Nf3 Bb4+ Bd2 Bxd2+ Nbxd2 O-O e4 d...</td>\n",
              "      <td>E11</td>\n",
              "      <td>Bogo-Indian Defense: Exchange Variation</td>\n",
              "      <td>8</td>\n",
              "      <td>E</td>\n",
              "      <td>11</td>\n",
              "      <td>E11 Bogo-Indian defence</td>\n",
              "    </tr>\n",
              "    <tr>\n",
              "      <th>165</th>\n",
              "      <td>1.503460e+12</td>\n",
              "      <td>1.503460e+12</td>\n",
              "      <td>69</td>\n",
              "      <td>outoftime</td>\n",
              "      <td>white</td>\n",
              "      <td>8+0</td>\n",
              "      <td>1855</td>\n",
              "      <td>1858</td>\n",
              "      <td>Nh3 d5 g3 Nf6 Bg2 c5 f4 e6 Nf2 Nc6 d3 d4 e4 e5...</td>\n",
              "      <td>E00</td>\n",
              "      <td>Amar Opening</td>\n",
              "      <td>1</td>\n",
              "      <td>E</td>\n",
              "      <td>0</td>\n",
              "      <td>E00 Queens pawn game</td>\n",
              "    </tr>\n",
              "    <tr>\n",
              "      <th>180</th>\n",
              "      <td>1.501980e+12</td>\n",
              "      <td>1.501980e+12</td>\n",
              "      <td>158</td>\n",
              "      <td>mate</td>\n",
              "      <td>black</td>\n",
              "      <td>6+6</td>\n",
              "      <td>1835</td>\n",
              "      <td>1865</td>\n",
              "      <td>d4 Nf6 Nf3 e6 c4 c5 e3 cxd4 exd4 d5 c5 Be7 Bb5...</td>\n",
              "      <td>E10</td>\n",
              "      <td>Blumenfeld Countergambit #2</td>\n",
              "      <td>6</td>\n",
              "      <td>E</td>\n",
              "      <td>10</td>\n",
              "      <td>E10 Queens pawn game</td>\n",
              "    </tr>\n",
              "    <tr>\n",
              "      <th>...</th>\n",
              "      <td>...</td>\n",
              "      <td>...</td>\n",
              "      <td>...</td>\n",
              "      <td>...</td>\n",
              "      <td>...</td>\n",
              "      <td>...</td>\n",
              "      <td>...</td>\n",
              "      <td>...</td>\n",
              "      <td>...</td>\n",
              "      <td>...</td>\n",
              "      <td>...</td>\n",
              "      <td>...</td>\n",
              "      <td>...</td>\n",
              "      <td>...</td>\n",
              "      <td>...</td>\n",
              "    </tr>\n",
              "    <tr>\n",
              "      <th>19977</th>\n",
              "      <td>1.496948e+12</td>\n",
              "      <td>1.496954e+12</td>\n",
              "      <td>91</td>\n",
              "      <td>resign</td>\n",
              "      <td>white</td>\n",
              "      <td>30+30</td>\n",
              "      <td>2100</td>\n",
              "      <td>1840</td>\n",
              "      <td>e4 g6 d4 Bg7 c4 d6 Nc3 Nf6 Nf3 O-O Be2 c5 d5 B...</td>\n",
              "      <td>E91</td>\n",
              "      <td>King's Indian Defense: Orthodox Variation</td>\n",
              "      <td>11</td>\n",
              "      <td>E</td>\n",
              "      <td>91</td>\n",
              "      <td>E60-E99 Kings Indian defence</td>\n",
              "    </tr>\n",
              "    <tr>\n",
              "      <th>19982</th>\n",
              "      <td>1.502366e+12</td>\n",
              "      <td>1.502371e+12</td>\n",
              "      <td>77</td>\n",
              "      <td>resign</td>\n",
              "      <td>white</td>\n",
              "      <td>30+30</td>\n",
              "      <td>2048</td>\n",
              "      <td>1801</td>\n",
              "      <td>d4 Nf6 Nf3 e6 c4 b6 g3 Bb7 Bg2 Be7 O-O O-O Nc3...</td>\n",
              "      <td>E17</td>\n",
              "      <td>Queen's Indian Defense: Classical Variation | ...</td>\n",
              "      <td>13</td>\n",
              "      <td>E</td>\n",
              "      <td>17</td>\n",
              "      <td>E12-E19 Queens Indian defence</td>\n",
              "    </tr>\n",
              "    <tr>\n",
              "      <th>19998</th>\n",
              "      <td>1.498509e+12</td>\n",
              "      <td>1.498509e+12</td>\n",
              "      <td>87</td>\n",
              "      <td>outoftime</td>\n",
              "      <td>white</td>\n",
              "      <td>5+5</td>\n",
              "      <td>1998</td>\n",
              "      <td>1920</td>\n",
              "      <td>d4 Nf6 Nf3 d5 c4 e6 Nc3 Bb4 Bg5 h6 Bxf6 Qxf6 e...</td>\n",
              "      <td>E20</td>\n",
              "      <td>Nimzo-Indian Defense: Ragozin Variation</td>\n",
              "      <td>8</td>\n",
              "      <td>E</td>\n",
              "      <td>20</td>\n",
              "      <td>E20-E59 Nimzo-Indian defence</td>\n",
              "    </tr>\n",
              "    <tr>\n",
              "      <th>20021</th>\n",
              "      <td>1.504283e+12</td>\n",
              "      <td>1.504284e+12</td>\n",
              "      <td>56</td>\n",
              "      <td>resign</td>\n",
              "      <td>black</td>\n",
              "      <td>10+0</td>\n",
              "      <td>1876</td>\n",
              "      <td>1913</td>\n",
              "      <td>c4 Nf6 d4 g6 Nc3 Bg7 Nf3 O-O g3 d6 Bg2 Nbd7 b4...</td>\n",
              "      <td>E67</td>\n",
              "      <td>King's Indian Defense: Fianchetto Variation | ...</td>\n",
              "      <td>12</td>\n",
              "      <td>E</td>\n",
              "      <td>67</td>\n",
              "      <td>E60-E99 Kings Indian defence</td>\n",
              "    </tr>\n",
              "    <tr>\n",
              "      <th>20040</th>\n",
              "      <td>1.500296e+12</td>\n",
              "      <td>1.500297e+12</td>\n",
              "      <td>87</td>\n",
              "      <td>resign</td>\n",
              "      <td>black</td>\n",
              "      <td>10+10</td>\n",
              "      <td>1261</td>\n",
              "      <td>1461</td>\n",
              "      <td>c4 Nf6 d4 e6 Nc3 Bb4 Bd2 c5 Be3 b6 Nf3 Bb7 g3 ...</td>\n",
              "      <td>E20</td>\n",
              "      <td>Nimzo-Indian Defense</td>\n",
              "      <td>6</td>\n",
              "      <td>E</td>\n",
              "      <td>20</td>\n",
              "      <td>E20-E59 Nimzo-Indian defence</td>\n",
              "    </tr>\n",
              "  </tbody>\n",
              "</table>\n",
              "<p>494 rows × 15 columns</p>\n",
              "</div>"
            ],
            "text/plain": [
              "         created_at  last_move_at  ...  Number                       ComboName\n",
              "63     1.503970e+12  1.503970e+12  ...      10            E10 Queens pawn game\n",
              "139    1.503130e+12  1.503130e+12  ...      20    E20-E59 Nimzo-Indian defence\n",
              "145    1.503090e+12  1.503090e+12  ...      11         E11 Bogo-Indian defence\n",
              "165    1.503460e+12  1.503460e+12  ...       0            E00 Queens pawn game\n",
              "180    1.501980e+12  1.501980e+12  ...      10            E10 Queens pawn game\n",
              "...             ...           ...  ...     ...                             ...\n",
              "19977  1.496948e+12  1.496954e+12  ...      91    E60-E99 Kings Indian defence\n",
              "19982  1.502366e+12  1.502371e+12  ...      17   E12-E19 Queens Indian defence\n",
              "19998  1.498509e+12  1.498509e+12  ...      20    E20-E59 Nimzo-Indian defence\n",
              "20021  1.504283e+12  1.504284e+12  ...      67    E60-E99 Kings Indian defence\n",
              "20040  1.500296e+12  1.500297e+12  ...      20    E20-E59 Nimzo-Indian defence\n",
              "\n",
              "[494 rows x 15 columns]"
            ]
          },
          "metadata": {
            "tags": []
          },
          "execution_count": 30
        }
      ]
    },
    {
      "cell_type": "code",
      "metadata": {
        "id": "RLmJOQupFCUb",
        "colab": {
          "base_uri": "https://localhost:8080/"
        },
        "outputId": "bf02987a-43ca-4ed9-fa56-e6ed2de2c3ae"
      },
      "source": [
        "values"
      ],
      "execution_count": null,
      "outputs": [
        {
          "output_type": "execute_result",
          "data": {
            "text/plain": [
              "['E60-E99 Kings Indian defence',\n",
              " 'E20-E59 Nimzo-Indian defence',\n",
              " ' E12-E19 Queens Indian defence',\n",
              " ' E11 Bogo-Indian defence',\n",
              " 'E10 Queens pawn game',\n",
              " 'E01-E09 Catalan, closed',\n",
              " 'E00 Queens pawn game',\n",
              " 'D80-D99 Gruenfeld defence',\n",
              " 'D70-D79 Neo-Gruenfeld defence',\n",
              " 'D50-D69 Queens Gambit Declined, 4.Bg5',\n",
              " 'D43-D49 Queens Gambit Declined semi-Slav',\n",
              " 'D30-D42 Queens gambit declined',\n",
              " 'D20-D29 Queens gambit accepted',\n",
              " 'D17-D19 Queens Gambit Declined Slav, Czech defence',\n",
              " 'D16 Queens Gambit Declined Slav accepted, Alapin variation',\n",
              " 'D10-D15 Queens Gambit Declined Slav defence',\n",
              " 'D07-D09 Queens Gambit Declined, Chigorin defence',\n",
              " 'D06 Queens Gambit',\n",
              " 'D04-D05 Queens pawn game',\n",
              " 'D03 Torre attack (Tartakower variation)',\n",
              " 'D02 Queens pawn game',\n",
              " 'D01 Richter-Veresov attack',\n",
              " 'D00 Queens pawn game',\n",
              " 'C60-C99 Ruy Lopez (Spanish opening)',\n",
              " 'C55-C59 Two knights defence',\n",
              " 'C53-C54 Giuoco Piano',\n",
              " 'C51-C52 Evans gambit',\n",
              " 'C50 Kings pawn game',\n",
              " 'C47-C49 Four knights, Scotch variation',\n",
              " 'C46 Three knights game',\n",
              " 'C45 Scotch game',\n",
              " 'C44 Kings pawn game',\n",
              " 'C42-C43 Petrovs defence',\n",
              " 'C41 Philidors defence',\n",
              " 'C40 Kings knight opening',\n",
              " 'C30-C39 Kings gambit',\n",
              " 'C25-C29 Vienna game',\n",
              " 'C23-C24 Bishops opening',\n",
              " 'C21-C22 Centre game',\n",
              " 'C20 Kings pawn game',\n",
              " 'C00-C19 French defence',\n",
              " 'B20-B99 Sicilian defence',\n",
              " 'B10-B19 Caro-Kann defence',\n",
              " 'B07-B09 Pirc defence',\n",
              " 'B06 Robatsch (modern) defence',\n",
              " 'B02-B05 Alekhines defence',\n",
              " 'B01 Scandinavian (centre counter) defence',\n",
              " 'B00 Kings pawn opening',\n",
              " 'A80-A99 Dutch',\n",
              " 'A60-A79 Benoni defence',\n",
              " 'A57-A59 Benko gambit',\n",
              " 'A56 Benoni defence',\n",
              " 'A53-A55 Old Indian defence',\n",
              " 'A51-A52 Budapest defence',\n",
              " 'A50 Queens pawn game',\n",
              " 'A48-A49 Kings Indian, East Indian defence',\n",
              " 'A47 Queens Indian defence',\n",
              " 'A45-A46 Queens pawn game',\n",
              " 'A43-A44 Old Benoni defence',\n",
              " 'A42 Modern defence, Averbakh system',\n",
              " 'A40-A41 Queens pawn',\n",
              " 'A10-A39 English opening',\n",
              " 'A04-A09 Reti opening',\n",
              " 'A02-A03 Birds opening',\n",
              " 'A01 Nimzovich-Larsen attack',\n",
              " 'A00 Polish (Sokolsky) opening']"
            ]
          },
          "metadata": {
            "tags": []
          },
          "execution_count": 31
        }
      ]
    },
    {
      "cell_type": "code",
      "metadata": {
        "colab": {
          "base_uri": "https://localhost:8080/"
        },
        "id": "Acv-BemjFcEl",
        "outputId": "ccb3afa0-589b-46ca-bc85-de48120c8c71"
      },
      "source": [
        "len(conditions)"
      ],
      "execution_count": null,
      "outputs": [
        {
          "output_type": "execute_result",
          "data": {
            "text/plain": [
              "66"
            ]
          },
          "metadata": {
            "tags": []
          },
          "execution_count": 32
        }
      ]
    },
    {
      "cell_type": "code",
      "metadata": {
        "id": "jk8xwuo-Dfkd",
        "colab": {
          "base_uri": "https://localhost:8080/"
        },
        "outputId": "145d1908-3a90-48ac-c44a-516c8c388ab0"
      },
      "source": [
        "df['winner'].value_counts()"
      ],
      "execution_count": null,
      "outputs": [
        {
          "output_type": "execute_result",
          "data": {
            "text/plain": [
              "white    9792\n",
              "black    8919\n",
              "draw      918\n",
              "Name: winner, dtype: int64"
            ]
          },
          "metadata": {
            "tags": []
          },
          "execution_count": 33
        }
      ]
    },
    {
      "cell_type": "code",
      "metadata": {
        "id": "TZ_ZT4fGajSj"
      },
      "source": [
        ""
      ],
      "execution_count": null,
      "outputs": []
    },
    {
      "cell_type": "code",
      "metadata": {
        "colab": {
          "base_uri": "https://localhost:8080/"
        },
        "id": "h0XxW-v_Obqk",
        "outputId": "3f8c84fd-5b15-4dd2-c4d0-9e7a222da37a"
      },
      "source": [
        "df.info()"
      ],
      "execution_count": null,
      "outputs": [
        {
          "output_type": "stream",
          "text": [
            "<class 'pandas.core.frame.DataFrame'>\n",
            "Int64Index: 19629 entries, 0 to 20057\n",
            "Data columns (total 15 columns):\n",
            " #   Column          Non-Null Count  Dtype  \n",
            "---  ------          --------------  -----  \n",
            " 0   created_at      19629 non-null  float64\n",
            " 1   last_move_at    19629 non-null  float64\n",
            " 2   turns           19629 non-null  int64  \n",
            " 3   victory_status  19629 non-null  object \n",
            " 4   winner          19629 non-null  object \n",
            " 5   increment_code  19629 non-null  object \n",
            " 6   white_rating    19629 non-null  int64  \n",
            " 7   black_rating    19629 non-null  int64  \n",
            " 8   moves           19629 non-null  object \n",
            " 9   opening_eco     19629 non-null  object \n",
            " 10  opening_name    19629 non-null  object \n",
            " 11  opening_ply     19629 non-null  int64  \n",
            " 12  Letter          19629 non-null  object \n",
            " 13  Number          19629 non-null  int64  \n",
            " 14  ComboName       19629 non-null  object \n",
            "dtypes: float64(2), int64(5), object(8)\n",
            "memory usage: 2.4+ MB\n"
          ],
          "name": "stdout"
        }
      ]
    },
    {
      "cell_type": "code",
      "metadata": {
        "id": "WEPMh-SjPS_7"
      },
      "source": [
        "df.drop(columns= ['opening_eco', 'opening_name', 'Letter', 'Number'], inplace = True)"
      ],
      "execution_count": null,
      "outputs": []
    },
    {
      "cell_type": "code",
      "metadata": {
        "colab": {
          "base_uri": "https://localhost:8080/"
        },
        "id": "bEVUdAoMPk7b",
        "outputId": "cbe1162c-6380-4864-e7df-06584c2ff9e4"
      },
      "source": [
        "df['ComboName']"
      ],
      "execution_count": null,
      "outputs": [
        {
          "output_type": "execute_result",
          "data": {
            "text/plain": [
              "0        D10-D15 Queens Gambit Declined Slav defence\n",
              "1                             B00 Kings pawn opening\n",
              "2                                C20 Kings pawn game\n",
              "3                               D02 Queens pawn game\n",
              "4                              C41 Philidors defence\n",
              "                            ...                     \n",
              "20053                                  A80-A99 Dutch\n",
              "20054                            A40-A41 Queens pawn\n",
              "20055                           D00 Queens pawn game\n",
              "20056                           B07-B09 Pirc defence\n",
              "20057                           D00 Queens pawn game\n",
              "Name: ComboName, Length: 19629, dtype: object"
            ]
          },
          "metadata": {
            "tags": []
          },
          "execution_count": 36
        }
      ]
    },
    {
      "cell_type": "code",
      "metadata": {
        "id": "G3DqG5zqPnpg"
      },
      "source": [
        "# I successfully took the information from the opening_eco column and the opening_name columns and combined them into one column. Next I'll have to handle the categorical variables using dummy columns. This will produce a lot of features.\n",
        "#My plan is to use dummy columns to hanlde the categorical values then use PCA for data reduction, minimizing the problem of the increase in features.\n"
      ],
      "execution_count": null,
      "outputs": []
    },
    {
      "cell_type": "code",
      "metadata": {
        "colab": {
          "base_uri": "https://localhost:8080/",
          "height": 1000
        },
        "id": "6aBrs24eN4oz",
        "outputId": "a06dec89-f822-41ba-85fd-f4128c5c3793"
      },
      "source": [
        "df_dummies = pd.get_dummies(df, columns = ['ComboName', 'victory_status', 'increment_code', 'moves'], drop_first= True)\n",
        "df_dummies.head(1)"
      ],
      "execution_count": null,
      "outputs": [
        {
          "output_type": "execute_result",
          "data": {
            "text/html": [
              "<div>\n",
              "<style scoped>\n",
              "    .dataframe tbody tr th:only-of-type {\n",
              "        vertical-align: middle;\n",
              "    }\n",
              "\n",
              "    .dataframe tbody tr th {\n",
              "        vertical-align: top;\n",
              "    }\n",
              "\n",
              "    .dataframe thead th {\n",
              "        text-align: right;\n",
              "    }\n",
              "</style>\n",
              "<table border=\"1\" class=\"dataframe\">\n",
              "  <thead>\n",
              "    <tr style=\"text-align: right;\">\n",
              "      <th></th>\n",
              "      <th>created_at</th>\n",
              "      <th>last_move_at</th>\n",
              "      <th>turns</th>\n",
              "      <th>winner</th>\n",
              "      <th>white_rating</th>\n",
              "      <th>black_rating</th>\n",
              "      <th>opening_ply</th>\n",
              "      <th>ComboName_ E12-E19 Queens Indian defence</th>\n",
              "      <th>ComboName_A00 Polish (Sokolsky) opening</th>\n",
              "      <th>ComboName_A01 Nimzovich-Larsen attack</th>\n",
              "      <th>ComboName_A02-A03 Birds opening</th>\n",
              "      <th>ComboName_A04-A09 Reti opening</th>\n",
              "      <th>ComboName_A10-A39 English opening</th>\n",
              "      <th>ComboName_A40-A41 Queens pawn</th>\n",
              "      <th>ComboName_A42 Modern defence, Averbakh system</th>\n",
              "      <th>ComboName_A43-A44 Old Benoni defence</th>\n",
              "      <th>ComboName_A45-A46 Queens pawn game</th>\n",
              "      <th>ComboName_A47 Queens Indian defence</th>\n",
              "      <th>ComboName_A48-A49 Kings Indian, East Indian defence</th>\n",
              "      <th>ComboName_A50 Queens pawn game</th>\n",
              "      <th>ComboName_A51-A52 Budapest defence</th>\n",
              "      <th>ComboName_A53-A55 Old Indian defence</th>\n",
              "      <th>ComboName_A56 Benoni defence</th>\n",
              "      <th>ComboName_A57-A59 Benko gambit</th>\n",
              "      <th>ComboName_A60-A79 Benoni defence</th>\n",
              "      <th>ComboName_A80-A99 Dutch</th>\n",
              "      <th>ComboName_B00 Kings pawn opening</th>\n",
              "      <th>ComboName_B01 Scandinavian (centre counter) defence</th>\n",
              "      <th>ComboName_B02-B05 Alekhines defence</th>\n",
              "      <th>ComboName_B06 Robatsch (modern) defence</th>\n",
              "      <th>ComboName_B07-B09 Pirc defence</th>\n",
              "      <th>ComboName_B10-B19 Caro-Kann defence</th>\n",
              "      <th>ComboName_B20-B99 Sicilian defence</th>\n",
              "      <th>ComboName_C00-C19 French defence</th>\n",
              "      <th>ComboName_C20 Kings pawn game</th>\n",
              "      <th>ComboName_C21-C22 Centre game</th>\n",
              "      <th>ComboName_C23-C24 Bishops opening</th>\n",
              "      <th>ComboName_C25-C29 Vienna game</th>\n",
              "      <th>ComboName_C30-C39 Kings gambit</th>\n",
              "      <th>ComboName_C40 Kings knight opening</th>\n",
              "      <th>...</th>\n",
              "      <th>moves_h3 d5 g3 Bf5 Nf3 e6 Bg2 c5 O-O Be7 c4 Nf6 cxd5 exd5 d4 c4 Nc3 O-O g4 Be6 Ne5 Nc6 f4 Rc8 f5 Bd7 g5 Ne4 Nxd5 Nxe5 Bxe4 Nc6 f6 Bd6 fxg7 Kxg7 Nf6 Bxh3 Rf3 Be6 Kg2 Ne7 Qh1</th>\n",
              "      <th>moves_h3 e5 Nc3 d5 Nf3 Nc6 Rh2 Bc5 Nh4 Nf6 Rb1 d4 Na4 b6 a3 Ba6 Ra1 Qd5 Nf3 O-O b3 e4 g3 exf3 exf3 Rae8+ Be2 Bxe2 Qxe2 Rxe2+ Kd1 Qe5 Ra2 Re1#</th>\n",
              "      <th>moves_h3 e5 a3 Nf6 e3 d5 Nc3 a6 d4 exd4 Qxd4 Nc6 Qd1 Bc5 Nf3 Bf5 Nh4 Be4 f3 Nh5 fxe4 Qxh4+ Kd2 Qf2+ Qe2 Bxe3+ Kd1 Qxe2+ Bxe2 Bxc1 Rxc1 Ng3 Rg1 Nxe2 Kxe2 dxe4 Nxe4 O-O g4 Rfe8 Kf3 Nd4+ Ke3 Rad8 Rgd1 Nxc2+ Kf4 Rxd1 Rxd1 Na1 Rxa1</th>\n",
              "      <th>moves_h3 e5 a3 d5 Nc3 d4 Ne4 Bf5 Ng3 Bg6 h4 h5 e3 c5 Nf3 Bd6 exd4 cxd4 Bb5+ Nd7 Qe2 a6 Nxe5 axb5 Nxg6+</th>\n",
              "      <th>moves_h3 e5 a3 d5 d3 Nf6 Nc3 Nc6 Bg5 Be7 Qd2 h6 Bh4 O-O O-O-O a6 g4 b5 f4 exf4 Bg2 Be6 e4 fxe3 Qe2 d4 Bxf6 Bxf6 Nf3 Bd5 h4 Bxf3 Qxf3 Ne5 Qg3 c5 g5 hxg5 hxg5 Bxg5 Nd5 e2+ Qxg5 Qxg5+ Kb1 exd1=Q+ Rxd1 Qxg2 Nf4 Qg5 Rf1 Qf5 Rf2 g5 Rh2 Qxf4 Rh1 Qf3 Re1 Rfe8 Ka2 a5 b3 c4 a4 cxb3+ Kxb3 bxa4+ Kxa4 Qc6+ Kb3 Rab8+ Ka3 Qxc2 Rxe5 Qb3#</th>\n",
              "      <th>moves_h3 e5 a3 d5 d3 d4 Nf3 Nc6 e4 f5 exf5 Bxf5 Be2 Nf6 O-O Bd6 c3 dxc3 Nxc3 h6 Nh4 Be6 Bf3 g5 Bh5+ Bf7 Nf3 Bxh5 g4 Bg6 Re1 Qe7 Nb5 a6 Nc3 O-O-O h4 Nxg4 Ne4 gxh4 Nxd6+ Qxd6 Nxe5 Ncxe5 Bf4 Rhe8 Qa4</th>\n",
              "      <th>moves_h3 e5 a3 d5 d4 Bd6 Nf3 e4 Ng5 Nf6 h4 h6 Nh3 Bg4 f3 Bxh3 gxh3 Nc6 Bg2 Qe7 O-O O-O-O fxe4 Nxe4 Bxe4 Qxe4 Bf4 Bxf4 Nc3 Qe3+ Kg2 Qg3+ Kh1 Qh2#</th>\n",
              "      <th>moves_h3 e5 e4 Nf6 d3 d5 Nc3 d4 Nce2 c5 f4 Nc6 Nf3 Bd6 g3 Nh5 Bg2 exf4 g4 Ng3 Nxg3 fxg3 O-O O-O Qe1 Re8 Bg5 Qb6 b3 Bd7 Bh4 Qc7 Nd2 Qb8 Nc4 Bc7 Rf3 b5 Nd2 Ne5 Rf1 Ng6 e5 Bxe5 Bxa8 Bf4 Ne4 Nxh4 Bd5 Be3+</th>\n",
              "      <th>moves_h3 e5 e4 d5 exd5 Qxd5 d3 Nc6 Nc3 Qd8 Nf3 Bf5 Be2 Bb4 Qd2 Nf6 a3 Bc5 O-O O-O Na4 Bd6 Nh4 Qd7 Nxf5 Qxf5 Qg5 Qe6 Be3 h6 Qh4 Be7 Nc5 Qc8 Qg3 b6 Bxh6 g6 Bxf8 Kxf8 Ne4 Nxe4 dxe4 Nd4 Bd3 Qd8 Qxe5 Bc5 Qh8+ Ke7 Qxd8+ Rxd8 Rad1 Ne6 b4 Bd6 Rd2 Bf4 Rdd1 Rg8 g3 Be5 Bc4 Nd4 Rd2 Nf3+ Kg2 Nxd2 Bd3 Nxf1 Kxf1 Rd8 Ke2 Ke6 Bc4+ Ke7 f4 Bd6 e5 Bxb4 axb4 Rd4 Bd3 Rxb4 c4 a5 Kd2 c6 Kc3 Rb5 cxb5 cxb5 Bxb5 Ke6 Kd4 f5 exf6 Kxf6 Ke4 Ke6 Kf3 Kd6 Kg4 Kc5 Be8 b5 f5 b4 fxg6 b3 g7 b2 Bg6 a4 g8=Q a3 Qa2 Kb4 h4 Ka4 h5 Kb4 h6 Kc3 Qxa3+ Kd2 Qxb2+</th>\n",
              "      <th>moves_h3 e5 f3 Qh4+ g3 Qxg3#</th>\n",
              "      <th>moves_h3 e5 f3 d5 a3 Nf6 h4 h6 Rh3 Bxh3 gxh3 Bd6 Bg2 O-O h5 Nxh5 f4 Nxf4 Bf3 Qh4+ Kf1 e4 Bh1 Nxh3 Nxh3 Qxh3+ Kf2 Bg3+ Kg1 Qh2+ Kf1 Qf2#</th>\n",
              "      <th>moves_h4 Nc6 g4 Nf6 Bg2 Nb4 Na3 Nxc2+ Nxc2 Nxg4 f3 Nf2 Kxf2 h5 Ke1 Rh6 Nd4 a5 Nb3 Raa6 Nxa5 Rxa5 a4 Rc5 b4 Rxc1 Qxc1 Re6 Qd1 Rb6</th>\n",
              "      <th>moves_h4 Nc6 g4 e5 e4 d5 Bg2 d4 d3 h5 g5 Bg4 Bf3 Qd7 Bd2 O-O-O a4 a5 Na3 Bxa3 bxa3 Nge7 Qb1 Ng6 Qb5 Bxf3 Nxf3 Rhg8 Rb1 b6 Qa6+ Kb8 Ke2 Rgf8 Rb5 Qe6 Rhb1 Rd6 Bxa5 Na7 Bxb6 Nf4+ Kd2 Nxb5 Ba7+ Ka8 Qxb5 Rb6 Bxb6 Qxb6 Nxe5 Qxb5 axb5 f6 Nc6 fxg5 hxg5 Ne6 Ke2 h4 Rh1 h3 a4 Nxg5 Nxd4 Rh8 Nf3 Ne6 Ke3 Kb7 d4 Ra8 Ra1 Rh8 Nh2 Re8 f4 g5 f5 Nf4 c4 Ng2+ Kf3 Nh4+ Ke3 Nxf5+ Kd3 Ng3 e5 c5 bxc6+ Kxc6 a5</th>\n",
              "      <th>moves_h4 Nf6 Rh3 d6 Rf3 c5 Rd3 e6 a4 Nc6 Raa3 Be7 Rac3 b6 Rxc5 bxc5 Nc3 Ng4 Nb5 d5 Nd6+ Bxd6 b4 Qxh4 b5 Qxf2#</th>\n",
              "      <th>moves_h4 Nf6 g3 Nc6 b3 Na5 a4 Nh5 Rh3 b6 Raa3 g6 Nf3 Bg7 Nc3 Bb7 Bb2 Nc6 Bg2 a5 Ne4 Nb4 Nd4 Nd5 Nc3 Nb4 Nf3 Nf6 Nb5 h5 Ng5 Ng4 Nxf7 O-O Nh8 Kxh8 Nxc7 Qxc7 Bc3 b5 Bf3 Qb6 d3 Bf6 e3 Nxd3+ Qxd3 Nxe3 Bd2 Nf5 Qe2 Nd4 Qd1 Nxf3+ Kf1 Bg5 Qxf3 Bxf3 Rh1 Bxh1 g4 Bxd2 Ke2 Qd6 Ra1 Be4 Rd1 Qd3+ cxd3 Rf3 dxe4 Re3+ fxe3 Bc3 Rd2 Bxd2 Kxd2 Rc8 g5 d5 exd5 e5 d6 Rd8 Ke1 Rxd6 b4 Rd3 Ke2 Rc3 axb5 Rc8 bxa5 Rb8 a6 Ra8 b6 Rxa6 b7 Rc6 b8=Q+ Kh7 Qb7+ Rc7 Qxc7+ Kh8 Qf7 e4 Qg8+ Kxg8 Kf2 Kf8 Kg2 Ke7 Kh3 Ke6 Kh2 Kd5 Kh1 Kc4 Kg1 Kc3 Kf2 Kd3 Kg2 Kxe3 Kh3 Kd3 Kg3 e3</th>\n",
              "      <th>moves_h4 c5 f4 Nc6 g3 d5 Bg2 e5 d3 exf4 Bxf4 Bd6 Bxd6 Qxd6 Qd2 Qxg3+ Kd1 Qxg2 Qe3+ Nce7 Nd2 Qxh1 Qg5 h6 Qxg7 Bg4 Qxg4 Nf6 Qg7 Rg8 Qxg8+ Nfxg8 Nf3 O-O-O Kd2 Nf5 Rf1 Nxh4 Ne5 Re8 Nxf7 Qg2 Re1 Nf3+ Nxf3 Nf6 Nd6+ Kd7 Nxe8 Kxe8 Ne5 h5 c3 h4 d4 cxd4 cxd4 h3 Nf3 h2 Nxh2 Ne4+ Kd3 Nf2+ Kc2 Qxh2 Rf1 Qc7+ Kd2 Qf4+ e3 Qc7 Rxf2 a5 Rf5 Qc4 b3 Qb4+ Kc2 a4 Re5+ Kf7 Rf5+ Kg6 Rxd5 axb3+ axb3 Kf6 e4 Ke6 e5 Kxd5 Kd3 Qxb3+ Ke2 b5 e6 Kxd4 e7 Qe6+ Kf2 b4 Kg3 b3 Kh4 b2 e8=Q Qxe8 Kg5 b1=Q Kf6 Qb6+ Kf5 Kc5 Kg4 Kc6 Kf5 Qb5+ Kf6 Qbe5#</th>\n",
              "      <th>moves_h4 c5 g3 Nc6 d3 d5 Bh3 Nf6 Bg5 h6 Bxf6 Bxh3 Bxe7 Bxe7 Nxh3 O-O e3 Re8 c3 Bf6 Nf4 d4 e4 c4 Nh5 cxd3 Nxf6+ Qxf6 Qxd3 dxc3 Qxc3 Rxe4+ Kf1 Qd4 Nd2 Ree8 Nf3 Qxc3 bxc3 Rad8 Ne1 Rd2 Nf3 Rd3 c4 Rxf3 Kg2 Rc3 g4 Rxc4 g5 Kh7 Kg3 Ree4 f3 Re3 Rad1 Ne5 Rdg1 Rxf3+ Kg2 Rg4+ Kh2 Rxh4+ Kg2 Rg4+ Kh2 Rxg5 Rxg5 hxg5 Kg2+ Kg6 Kg1 Kf5 Rh7 g4 Rxg7 Kf4 Rh7 g3 Rh4+ Ke3 Rb4 Rf2 Rb2 Nf3+ Kh1 Rxb2 a3 g2#</th>\n",
              "      <th>moves_h4 d5</th>\n",
              "      <th>moves_h4 d5 Rh2 e5 g3 Nf6 Nh3 h6 f3 Bc5 g4 e4 fxe4 Bf2+ Kxf2 Nxe4+ Kg2 Qxh4 d3 Qxg4+ Kh1 Bf5 dxe4 Bxe4+ Rg2 Qxh3+ Kg1 Nd7 e3 O-O-O Be2 Qxg2#</th>\n",
              "      <th>moves_h4 d5 Rh3 Bxh3 Nxh3 f6 g4 Qd7 e3 g5 hxg5 a6 a4 Nc6 Ra2 Ne5 a5 Nxg4</th>\n",
              "      <th>moves_h4 d5 a4 e5 e4 dxe4 Qe2 Nc6 c4 Nf6 c5 Nd4 Qxe4 Nxe4 Nc3 Nxc3 bxc3 Nc2+ Ke2 Nxa1 c4 Qd4 Nf3 Qe4+ Kd1 Qc2+ Ke1 Qxc1+ Ke2 Bg4 g3 O-O-O Ke3 Qd1 Be2 Nc2+ Ke4 Qxe2#</th>\n",
              "      <th>moves_h4 d5 b4 Nf6 Nc3 b5 Nxb5 a6 Nxc7+ Qxc7 Rh3 Bxh3 Ba3 Qh2 d4 Qxg1 Rc1 Ne4 c4 Nd7 Rc3 Nxc3 f4 dxc4 Qd3 Nxa2 Qd1 c3 Bc1 Qh2 g4 O-O-O Bxh3 Qxh3 Ba3 Nb6 Qa1 Qg3+ Kd1 Qg1+ Kc2 Qxa1 Kd3 e5 Ke4 f6 Kf5 h5 Kg6 Qb1+ Kf7 Rd7+ Ke8 Qg6#</th>\n",
              "      <th>moves_h4 d5 d4 c6 Nc3 e6 e4 dxe4 Nxe4 Nf6 Nxf6+ Qxf6 Bg5 Qf5 Bd3 Qa5+ c3 Qb6 Qc2 g6 Nf3 Nd7 h5 Qc7 hxg6 fxg6 Bxg6+ hxg6 Qxg6#</th>\n",
              "      <th>moves_h4 d5 g3 Nc6 Bh3 Bxh3 Nxh3 e5 e3 Nf6 g4 h6 g5 hxg5 Nxg5 Qe7 b3 O-O-O Ba3 Qe8 Bxf8 Qxf8 Na3 Qe7 Nb5 Kb8 a3 a6 Nc3 d4 Na4 dxe3 fxe3 Rde8 Qe2 Nd8 b4 Ne6 Nxe6 Qxe6 b5 Nd7 bxa6 Qxa6 Qxa6 bxa6 Rb1+ Kc8 Rh3 f6 e4 Re6 Rbb3 g6 Rbc3 f5 exf5 gxf5 h5 Reh6 Nc5 Rxh5 Rxh5 Rxh5 Nxa6 Rh1+ Kf2 Rh5 Rxc7+ Kd8 Rc3 e4 d3 Nf6 Nc5 exd3 Rxd3+ Ke7 Re3+ Kd6 Nb7+ Kd5 Rd3+ Ke4 Nc5+ Kf4 a4 Ng4+ Ke2 Rh2+ Kd1 Ne3+ Kc1 Rh1+ Kb2 Nd1+ Kb3 Nf2</th>\n",
              "      <th>moves_h4 d6 d3 g6 g3 Bg7 a4 Nf6 b3 O-O Bg2 c6 h5 Nxh5 Rh4 Bxa1 Re4 Bg7 Rf4 Nxf4 Nh3 Nxg2+ Kd2</th>\n",
              "      <th>moves_h4 e5 Nf3 Nc6 a4 Nf6 c4 d5 b3 Be6 Ng5 dxc4 Na3 h6 Rb1 c3 dxc3 Qxd1+ Kxd1 hxg5 hxg5 Rxh1 e4 Rxf1+ Ke2 Rh1 c4 Bg4+ Ke3 Bc5+ Kd2 Rd8+ Kc3 Nxe4+ Kc2 Bd1+ Kb2 Bd4+</th>\n",
              "      <th>moves_h4 e5 Rh3 g5 hxg5 Qxg5 Nf3 Qf6 d3 d6 Rh4 h5 e4 Bg4 Bg5 Qxg5 Nxg5 Bxd1 Kxd1 Be7 Nf3 Bxh4 Nxh4 Nd7 b4 a5 b5 Ne7 c4 c6 bxc6 Nxc6 a4 Nd4 Nd2 Rf8 f3 f5 Ng6 Rf6 Nh4 fxe4 dxe4 Nf8 Rb1 Ra7 Rb6 Nd7 Rb2 b6 Ke1 Nc5 Kf2 Nxa4 Rb1 Rb7 Bd3 Kf7 g3 Nc5 Bf1 a4 Bh3 a3 Bc8 Ra7 Bf5 a2 Ra1 Nc2 Bg6+ Rxg6 Nxg6 Kxg6 Rxa2 Rxa2 f4 Nd3+ Kg2 Nd4 Kh3 Rxd2 f5+ Kg5 g4 hxg4+ Kg3 Ne2+</th>\n",
              "      <th>moves_h4 e5 a3 Bc5 Nf3 Nc6 e3 d6 d4 Bb6 d5 Nce7 e4 Bg4 b4 Bd4 c3 Bb6 Bb2 Nh6 Qd2 Bh5 Ng5 f6 Ne6 Qd7 Nxg7+ Kd8 Nxh5 Ng4 Nxf6 Qc8 f3 Nxf6 g4 h6 h5 c5 Bb5 a6 Bc4 cxb4 Bb3 bxc3 Nxc3 Qc5 Na4 Qa5 Nxb6 Qxb6 Qd3 Rc8 g5 hxg5 h6 Neg8 h7 Rxh7 Rxh7 Nxh7 Rc1 Qa5+ Ke2 Qb5 Rh1 Qxd3+ Kxd3 Nhf6 Rh8 b5 Kd2 a5 Kd1 a4 Bc2 Kd7 Bc1 Rc3 Bxg5 Rxa3 f4 Ra1+ Kd2 Nxe4+ Kd3 Nxg5 Rxg8 Nf3 Rg7+ Kc8 Rg8+ Kb7 Ke4 Nd4 f5 Re1+ Kd3 Rf1 Rg7+ Kb6 Kc3 Nxc2</th>\n",
              "      <th>moves_h4 e5 a4 d5 b4 Nc6 b5 Na5 g4 a6 b6 cxb6 g5 b5 axb5 axb5 Nc3 f6 Nxb5 fxg5 Nd6+ Bxd6 hxg5 Qxg5 Bh3 Bxh3 Rxh3 Qxg1#</th>\n",
              "      <th>moves_h4 e5 c4 Bc5 e3 Nf6 Ne2 d5 d4 exd4 exd4 Bb6 b3 dxc4 bxc4 Bg4 f3 Bf5 g4 Be6 d5 Nxg4 fxg4 Bxg4 Qa4+ c6 c5 Bxc5 Qxg4 Qxd5 Bg2 Bb4+ Bd2 Qe5 Bxb4 Qxa1 Qe4+ Kd8 Qe7+ Kc8 Bh3+ Nd7 Qxd7+ Kb8 Qd6#</th>\n",
              "      <th>moves_h4 e5 d4 d6 dxe5 dxe5 e4 Qxd1+ Kxd1 Bg4+ Be2 Bxe2+ Nxe2 h5</th>\n",
              "      <th>moves_h4 e5 e4 h5 f3 g6 g4 g5 hxg5 hxg4 fxg4 Qxg5 Rxh8 Nf6 Bh3 Nxe4 Ne2 Qh4+ Kf1 Qxh8 d4 Qxh3+ Ke1 Qh1+ Ng1 Qg2 c4 Qxg1+ Ke2 Ng3+ Kd2 Ne4+ Kd3 Qxd1+ Kxe4 Qxc1 a4 Qh1+ Kxe5 Bg7+ Kf5 d6+ Kg5 Nd7 c5 dxc5 dxc5 Nxc5 Kf4 Qf1+ Kg3 Be5+ Kh4 Bxg4 Kg5 Bxb2 Ra3 Bxa3 Kh6 Bc1+ Kg7 Ke7 Kh7 Bf5+ Kg7 Qg1#</th>\n",
              "      <th>moves_h4 e5 g3 Bc5 Bh3 Qf6 Nf3 e4 O-O exf3 Qe1 fxe2 Qxe2+ Ne7 g4 b6 g5 Qc6 h5 Bb7 Rd1 Qh1#</th>\n",
              "      <th>moves_h4 e5 g3 Bc5 f3 Qf6 Rh2 Qg6 h5 Qxg3+ Rf2 Qxf2#</th>\n",
              "      <th>moves_h4 e5 g3 Nc6 Bh3 Nf6 b4 Bc5 bxc5 Nd4 c3 Ne6 Bxe6 dxe6 e4 Nxe4 Qa4+ Bd7 Qxe4</th>\n",
              "      <th>moves_h4 e5 g3 d5 f4 Nc6 Bh3 f5 Bg2 e4 d3 Nf6 Qd2 Bb4 c3 Ba5 Qc2 O-O Qd1 d4 Qa4 dxc3 Qc2 cxb2+ Kd1 bxa1=Q Bb2 Nd4 Qc1 Qxa2 Na3 Qb3+ Qc2 Nxc2 Kc1 Nxa3 Bxa3 Qxa3+ Kb1 exd3 exd3 Qaxd3+ Kb2 Qd2+ Kb3</th>\n",
              "      <th>moves_h4 e5 h5 d5 Rh3 f6 Nf3 c5 e4 dxe4 Qe2 Bf5 Qd3 g6 Qc4 exf3 Qxc5 Bxc5 d3 Bxh3 Be2 fxg2 f3 g1=Q+ Bf1 Qxf1+ Kd2 Qxf3 d4 Qxd4+ Ke1 Qc4 Kd2 Qfe2#</th>\n",
              "      <th>moves_h4 e5 h5 d5 e3 Nf6 f3 e4 g4 exf3 g5 Bg4 Kf2 Ne4+ Ke1 Qd6 Nxf3 Qg3+ Ke2 Bxf3+ Kd3 Nf2+ Kc3 Nxd1+ Kb3 Bxh1 Be2 Qd6 a3 Qb6+ Ka2 Nf2 Nc3 Nh3 d4 Nxg5 Bd2 Be4 Na4 Qf6 Nc5 Bxc5 dxc5 Bxc2 Rf1 Qe6 Bb5+ c6 Be2 d4+ Ka1 dxe3 Bc3 O-O b3 Bxb3 Rb1 Bc2 Rxb7 Nd7</th>\n",
              "      <th>moves_h4 e5 h5 h6 Nc3 Qf6 Nd5 Qc6 e4 Nf6 Qf3 d6 Bb5 Qxb5 Nxc7+ Kd7 Nxb5 Nc6 Ne2 a6 Nbc3 Nb4 Na4 Nxc2+ Kd1 Nxa1 Nb6+ Ke8 Nxa8 Bg4 Qd3 Kd7 Nb6+ Kd8 Nd5 Nxd5 exd5 Be7 Qb1 Bg5 Qxa1 Ke7 f3 Bf5 g4 Bd3 b3 Rc8 Ke1 Rc5 Nc3 Bf4 Ba3 Bg3+ Kd1 Ra5 Bb4 Rb5 Nxb5 axb5 Qc3 Bh7 Qc7+ Kf6 Qxd6+ Kg5 Qe7+ Kf4 Qxf7+ Kg5 Be7#</th>\n",
              "      <th>moves_h4 e6 g3 d5 Bh3 c5 d3 Nc6 c3 Qb6 a3 Nh6 Bxh6 gxh6 Nf3 Be7 b4 cxb4 axb4 Bf6 Qa4 Bd7 Na3 Bxc3+ Kf1 Bxa1 b5 Ne5 Nxe5 Bxe5 Kg2 a6 Rb1 Ke7 Qb4+ Bd6 Qb3 Bxa3 Qxa3+ Ke8 f4 Bxb5 Rxb5 Qxb5 f5 Qc6 f6 Rg8 Qe7#</th>\n",
              "    </tr>\n",
              "  </thead>\n",
              "  <tbody>\n",
              "    <tr>\n",
              "      <th>0</th>\n",
              "      <td>1.504210e+12</td>\n",
              "      <td>1.504210e+12</td>\n",
              "      <td>13</td>\n",
              "      <td>white</td>\n",
              "      <td>1500</td>\n",
              "      <td>1191</td>\n",
              "      <td>5</td>\n",
              "      <td>0</td>\n",
              "      <td>0</td>\n",
              "      <td>0</td>\n",
              "      <td>0</td>\n",
              "      <td>0</td>\n",
              "      <td>0</td>\n",
              "      <td>0</td>\n",
              "      <td>0</td>\n",
              "      <td>0</td>\n",
              "      <td>0</td>\n",
              "      <td>0</td>\n",
              "      <td>0</td>\n",
              "      <td>0</td>\n",
              "      <td>0</td>\n",
              "      <td>0</td>\n",
              "      <td>0</td>\n",
              "      <td>0</td>\n",
              "      <td>0</td>\n",
              "      <td>0</td>\n",
              "      <td>0</td>\n",
              "      <td>0</td>\n",
              "      <td>0</td>\n",
              "      <td>0</td>\n",
              "      <td>0</td>\n",
              "      <td>0</td>\n",
              "      <td>0</td>\n",
              "      <td>0</td>\n",
              "      <td>0</td>\n",
              "      <td>0</td>\n",
              "      <td>0</td>\n",
              "      <td>0</td>\n",
              "      <td>0</td>\n",
              "      <td>0</td>\n",
              "      <td>...</td>\n",
              "      <td>0</td>\n",
              "      <td>0</td>\n",
              "      <td>0</td>\n",
              "      <td>0</td>\n",
              "      <td>0</td>\n",
              "      <td>0</td>\n",
              "      <td>0</td>\n",
              "      <td>0</td>\n",
              "      <td>0</td>\n",
              "      <td>0</td>\n",
              "      <td>0</td>\n",
              "      <td>0</td>\n",
              "      <td>0</td>\n",
              "      <td>0</td>\n",
              "      <td>0</td>\n",
              "      <td>0</td>\n",
              "      <td>0</td>\n",
              "      <td>0</td>\n",
              "      <td>0</td>\n",
              "      <td>0</td>\n",
              "      <td>0</td>\n",
              "      <td>0</td>\n",
              "      <td>0</td>\n",
              "      <td>0</td>\n",
              "      <td>0</td>\n",
              "      <td>0</td>\n",
              "      <td>0</td>\n",
              "      <td>0</td>\n",
              "      <td>0</td>\n",
              "      <td>0</td>\n",
              "      <td>0</td>\n",
              "      <td>0</td>\n",
              "      <td>0</td>\n",
              "      <td>0</td>\n",
              "      <td>0</td>\n",
              "      <td>0</td>\n",
              "      <td>0</td>\n",
              "      <td>0</td>\n",
              "      <td>0</td>\n",
              "      <td>0</td>\n",
              "    </tr>\n",
              "  </tbody>\n",
              "</table>\n",
              "<p>1 rows × 19393 columns</p>\n",
              "</div>"
            ],
            "text/plain": [
              "     created_at  ...  moves_h4 e6 g3 d5 Bh3 c5 d3 Nc6 c3 Qb6 a3 Nh6 Bxh6 gxh6 Nf3 Be7 b4 cxb4 axb4 Bf6 Qa4 Bd7 Na3 Bxc3+ Kf1 Bxa1 b5 Ne5 Nxe5 Bxe5 Kg2 a6 Rb1 Ke7 Qb4+ Bd6 Qb3 Bxa3 Qxa3+ Ke8 f4 Bxb5 Rxb5 Qxb5 f5 Qc6 f6 Rg8 Qe7#\n",
              "0  1.504210e+12  ...                                                  0                                                                                                                                                           \n",
              "\n",
              "[1 rows x 19393 columns]"
            ]
          },
          "metadata": {
            "tags": []
          },
          "execution_count": 47
        }
      ]
    },
    {
      "cell_type": "code",
      "metadata": {
        "id": "BFvOPtbeQtnD"
      },
      "source": [
        "X = df_dummies.loc[:, df_dummies.columns[(df_dummies.columns != 'winner')]]"
      ],
      "execution_count": null,
      "outputs": []
    },
    {
      "cell_type": "code",
      "metadata": {
        "id": "dTpDo2SeRmbX"
      },
      "source": [
        "y = df_dummies.loc[:, 'winner'].values"
      ],
      "execution_count": null,
      "outputs": []
    },
    {
      "cell_type": "code",
      "metadata": {
        "id": "anOLMZ4xZP4b"
      },
      "source": [
        "scaler = StandardScaler()"
      ],
      "execution_count": null,
      "outputs": []
    },
    {
      "cell_type": "code",
      "metadata": {
        "id": "NmD-DifmRrLp"
      },
      "source": [
        "X_train, X_test, y_train, y_test = train_test_split(X, y, random_state = 3)"
      ],
      "execution_count": null,
      "outputs": []
    },
    {
      "cell_type": "code",
      "metadata": {
        "id": "ynQ91WThZZ9A"
      },
      "source": [
        "X_train = scaler.fit_transform(X_train)\n",
        "X_test = scaler.transform(X_test)"
      ],
      "execution_count": null,
      "outputs": []
    },
    {
      "cell_type": "code",
      "metadata": {
        "id": "Nzz7WZ-UbGtb"
      },
      "source": [
        "pca = PCA(n_components = 300)\n",
        "X_train_pca = pca.fit_transform(X_train)\n",
        "X_test_pca = pca.transform(X_test) "
      ],
      "execution_count": null,
      "outputs": []
    },
    {
      "cell_type": "code",
      "metadata": {
        "colab": {
          "base_uri": "https://localhost:8080/"
        },
        "id": "5iUWPnCAdt8u",
        "outputId": "0723a857-4ae2-4fd1-b53e-eb9a80e50e7e"
      },
      "source": [
        "rfc = RandomForestClassifier()\n",
        "rfc.fit(X_train_pca, y_train)"
      ],
      "execution_count": null,
      "outputs": [
        {
          "output_type": "execute_result",
          "data": {
            "text/plain": [
              "RandomForestClassifier(bootstrap=True, ccp_alpha=0.0, class_weight=None,\n",
              "                       criterion='gini', max_depth=None, max_features='auto',\n",
              "                       max_leaf_nodes=None, max_samples=None,\n",
              "                       min_impurity_decrease=0.0, min_impurity_split=None,\n",
              "                       min_samples_leaf=1, min_samples_split=2,\n",
              "                       min_weight_fraction_leaf=0.0, n_estimators=100,\n",
              "                       n_jobs=None, oob_score=False, random_state=None,\n",
              "                       verbose=0, warm_start=False)"
            ]
          },
          "metadata": {
            "tags": []
          },
          "execution_count": 53
        }
      ]
    },
    {
      "cell_type": "code",
      "metadata": {
        "colab": {
          "base_uri": "https://localhost:8080/"
        },
        "id": "my3s3OxvfqlE",
        "outputId": "ff6d170c-b0a4-49c4-f44f-27a28d5ad8aa"
      },
      "source": [
        "print('Training accuracy:', rfc.score(X_train_pca, y_train))\n",
        "print('Testing accuracy:', rfc.score(X_test_pca, y_test))"
      ],
      "execution_count": null,
      "outputs": [
        {
          "output_type": "stream",
          "text": [
            "Training accuracy: 1.0\n",
            "Testing accuracy: 0.5558272208638957\n"
          ],
          "name": "stdout"
        }
      ]
    },
    {
      "cell_type": "code",
      "metadata": {
        "colab": {
          "base_uri": "https://localhost:8080/"
        },
        "id": "3OvQHD64euz3",
        "outputId": "75c9f6bc-deda-4e42-f635-ea5d8b12b8a6"
      },
      "source": [
        "knn = KNeighborsClassifier()\n",
        "knn.fit(X_train_pca, y_train)"
      ],
      "execution_count": null,
      "outputs": [
        {
          "output_type": "execute_result",
          "data": {
            "text/plain": [
              "KNeighborsClassifier(algorithm='auto', leaf_size=30, metric='minkowski',\n",
              "                     metric_params=None, n_jobs=None, n_neighbors=5, p=2,\n",
              "                     weights='uniform')"
            ]
          },
          "metadata": {
            "tags": []
          },
          "execution_count": 58
        }
      ]
    },
    {
      "cell_type": "code",
      "metadata": {
        "colab": {
          "base_uri": "https://localhost:8080/"
        },
        "id": "Gwyj4jP6eAk2",
        "outputId": "e49f87d8-feea-4057-cc27-41421913a747"
      },
      "source": [
        "print('Training accuracy:', knn.score(X_train_pca, y_train))\n",
        "print('Testing accuracy:', knn.score(X_test_pca, y_test))"
      ],
      "execution_count": null,
      "outputs": [
        {
          "output_type": "stream",
          "text": [
            "Training accuracy: 0.6783506555261192\n",
            "Testing accuracy: 0.5138549307253464\n"
          ],
          "name": "stdout"
        }
      ]
    },
    {
      "cell_type": "code",
      "metadata": {
        "id": "ODGYQ7r0eJua"
      },
      "source": [
        "#As far as presenting some sort of a model, I was able to use the PCA followed by testing KNN and RandomForest Classifiers. I will most likely find more time for TA hours and 1-on-1 sessions for potential advice from here, but it's a start!\n",
        "#I will also be uploading my progress to github"
      ],
      "execution_count": null,
      "outputs": []
    }
  ]
}