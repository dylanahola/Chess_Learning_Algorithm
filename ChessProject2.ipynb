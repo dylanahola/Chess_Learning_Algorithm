{
  "nbformat": 4,
  "nbformat_minor": 0,
  "metadata": {
    "colab": {
      "name": "ChessProject2.ipynb",
      "provenance": [],
      "collapsed_sections": [],
      "mount_file_id": "1RvAroi1WufrZQiPoAPfOryzCrrYNTnpT",
      "authorship_tag": "ABX9TyMnNeZSx9rlWw1SNiVotRTG",
      "include_colab_link": true
    },
    "kernelspec": {
      "name": "python3",
      "display_name": "Python 3"
    },
    "language_info": {
      "name": "python"
    }
  },
  "cells": [
    {
      "cell_type": "markdown",
      "metadata": {
        "id": "view-in-github",
        "colab_type": "text"
      },
      "source": [
        "<a href=\"https://colab.research.google.com/github/dylanahola/Chess_Learning_Algorithm/blob/main/ChessProject2.ipynb\" target=\"_parent\"><img src=\"https://colab.research.google.com/assets/colab-badge.svg\" alt=\"Open In Colab\"/></a>"
      ]
    },
    {
      "cell_type": "code",
      "metadata": {
        "colab": {
          "base_uri": "https://localhost:8080/"
        },
        "id": "hodrsDhip0lS",
        "outputId": "56245bff-4418-4232-c963-88650631e144"
      },
      "source": [
        "from google.colab import drive\n",
        "drive.mount('/content/drive')"
      ],
      "execution_count": 1,
      "outputs": [
        {
          "output_type": "stream",
          "text": [
            "Drive already mounted at /content/drive; to attempt to forcibly remount, call drive.mount(\"/content/drive\", force_remount=True).\n"
          ],
          "name": "stdout"
        }
      ]
    },
    {
      "cell_type": "code",
      "metadata": {
        "id": "5tt18qvvri-r"
      },
      "source": [
        "import matplotlib.pyplot as plt\n",
        "import pandas as pd\n",
        "import numpy as np\n",
        "import seaborn as sns\n",
        "from sklearn.decomposition import PCA\n",
        "from sklearn.model_selection import train_test_split\n",
        "from sklearn.model_selection import RepeatedStratifiedKFold\n",
        "from sklearn.model_selection import GridSearchCV\n",
        "from sklearn.preprocessing import StandardScaler\n",
        "from sklearn.ensemble import RandomForestClassifier\n",
        "from sklearn.neighbors import KNeighborsClassifier\n",
        "from sklearn.ensemble import GradientBoostingClassifier\n",
        "from lightgbm import LGBMClassifier"
      ],
      "execution_count": 2,
      "outputs": []
    },
    {
      "cell_type": "code",
      "metadata": {
        "id": "Jfjpa2HhqYxj",
        "colab": {
          "base_uri": "https://localhost:8080/",
          "height": 546
        },
        "outputId": "d969d24c-77d0-47c0-b7eb-6d07b64586c1"
      },
      "source": [
        "df = pd.read_csv('/content/drive/MyDrive/Coding Dojo/Week 7/gamesdata.excel.csv')\n",
        "df.head(10)"
      ],
      "execution_count": 3,
      "outputs": [
        {
          "output_type": "execute_result",
          "data": {
            "text/html": [
              "<div>\n",
              "<style scoped>\n",
              "    .dataframe tbody tr th:only-of-type {\n",
              "        vertical-align: middle;\n",
              "    }\n",
              "\n",
              "    .dataframe tbody tr th {\n",
              "        vertical-align: top;\n",
              "    }\n",
              "\n",
              "    .dataframe thead th {\n",
              "        text-align: right;\n",
              "    }\n",
              "</style>\n",
              "<table border=\"1\" class=\"dataframe\">\n",
              "  <thead>\n",
              "    <tr style=\"text-align: right;\">\n",
              "      <th></th>\n",
              "      <th>id</th>\n",
              "      <th>rated</th>\n",
              "      <th>created_at</th>\n",
              "      <th>last_move_at</th>\n",
              "      <th>turns</th>\n",
              "      <th>victory_status</th>\n",
              "      <th>winner</th>\n",
              "      <th>increment_code</th>\n",
              "      <th>white_id</th>\n",
              "      <th>white_rating</th>\n",
              "      <th>black_id</th>\n",
              "      <th>black_rating</th>\n",
              "      <th>moves</th>\n",
              "      <th>opening_eco</th>\n",
              "      <th>opening_name</th>\n",
              "      <th>opening_ply</th>\n",
              "    </tr>\n",
              "  </thead>\n",
              "  <tbody>\n",
              "    <tr>\n",
              "      <th>0</th>\n",
              "      <td>TZJHLljE</td>\n",
              "      <td>False</td>\n",
              "      <td>1.504210e+12</td>\n",
              "      <td>1.504210e+12</td>\n",
              "      <td>13</td>\n",
              "      <td>outoftime</td>\n",
              "      <td>white</td>\n",
              "      <td>15+2</td>\n",
              "      <td>bourgris</td>\n",
              "      <td>1500</td>\n",
              "      <td>a-00</td>\n",
              "      <td>1191</td>\n",
              "      <td>d4 d5 c4 c6 cxd5 e6 dxe6 fxe6 Nf3 Bb4+ Nc3 Ba5...</td>\n",
              "      <td>D10</td>\n",
              "      <td>Slav Defense: Exchange Variation</td>\n",
              "      <td>5</td>\n",
              "    </tr>\n",
              "    <tr>\n",
              "      <th>1</th>\n",
              "      <td>l1NXvwaE</td>\n",
              "      <td>True</td>\n",
              "      <td>1.504130e+12</td>\n",
              "      <td>1.504130e+12</td>\n",
              "      <td>16</td>\n",
              "      <td>resign</td>\n",
              "      <td>black</td>\n",
              "      <td>5+10</td>\n",
              "      <td>a-00</td>\n",
              "      <td>1322</td>\n",
              "      <td>skinnerua</td>\n",
              "      <td>1261</td>\n",
              "      <td>d4 Nc6 e4 e5 f4 f6 dxe5 fxe5 fxe5 Nxe5 Qd4 Nc6...</td>\n",
              "      <td>B00</td>\n",
              "      <td>Nimzowitsch Defense: Kennedy Variation</td>\n",
              "      <td>4</td>\n",
              "    </tr>\n",
              "    <tr>\n",
              "      <th>2</th>\n",
              "      <td>mIICvQHh</td>\n",
              "      <td>True</td>\n",
              "      <td>1.504130e+12</td>\n",
              "      <td>1.504130e+12</td>\n",
              "      <td>61</td>\n",
              "      <td>mate</td>\n",
              "      <td>white</td>\n",
              "      <td>5+10</td>\n",
              "      <td>ischia</td>\n",
              "      <td>1496</td>\n",
              "      <td>a-00</td>\n",
              "      <td>1500</td>\n",
              "      <td>e4 e5 d3 d6 Be3 c6 Be2 b5 Nd2 a5 a4 c5 axb5 Nc...</td>\n",
              "      <td>C20</td>\n",
              "      <td>King's Pawn Game: Leonardis Variation</td>\n",
              "      <td>3</td>\n",
              "    </tr>\n",
              "    <tr>\n",
              "      <th>3</th>\n",
              "      <td>kWKvrqYL</td>\n",
              "      <td>True</td>\n",
              "      <td>1.504110e+12</td>\n",
              "      <td>1.504110e+12</td>\n",
              "      <td>61</td>\n",
              "      <td>mate</td>\n",
              "      <td>white</td>\n",
              "      <td>20+0</td>\n",
              "      <td>daniamurashov</td>\n",
              "      <td>1439</td>\n",
              "      <td>adivanov2009</td>\n",
              "      <td>1454</td>\n",
              "      <td>d4 d5 Nf3 Bf5 Nc3 Nf6 Bf4 Ng4 e3 Nc6 Be2 Qd7 O...</td>\n",
              "      <td>D02</td>\n",
              "      <td>Queen's Pawn Game: Zukertort Variation</td>\n",
              "      <td>3</td>\n",
              "    </tr>\n",
              "    <tr>\n",
              "      <th>4</th>\n",
              "      <td>9tXo1AUZ</td>\n",
              "      <td>True</td>\n",
              "      <td>1.504030e+12</td>\n",
              "      <td>1.504030e+12</td>\n",
              "      <td>95</td>\n",
              "      <td>mate</td>\n",
              "      <td>white</td>\n",
              "      <td>30+3</td>\n",
              "      <td>nik221107</td>\n",
              "      <td>1523</td>\n",
              "      <td>adivanov2009</td>\n",
              "      <td>1469</td>\n",
              "      <td>e4 e5 Nf3 d6 d4 Nc6 d5 Nb4 a3 Na6 Nc3 Be7 b4 N...</td>\n",
              "      <td>C41</td>\n",
              "      <td>Philidor Defense</td>\n",
              "      <td>5</td>\n",
              "    </tr>\n",
              "    <tr>\n",
              "      <th>5</th>\n",
              "      <td>MsoDV9wj</td>\n",
              "      <td>False</td>\n",
              "      <td>1.504240e+12</td>\n",
              "      <td>1.504240e+12</td>\n",
              "      <td>5</td>\n",
              "      <td>draw</td>\n",
              "      <td>draw</td>\n",
              "      <td>10+0</td>\n",
              "      <td>trelynn17</td>\n",
              "      <td>1250</td>\n",
              "      <td>franklin14532</td>\n",
              "      <td>1002</td>\n",
              "      <td>e4 c5 Nf3 Qa5 a3</td>\n",
              "      <td>B27</td>\n",
              "      <td>Sicilian Defense: Mongoose Variation</td>\n",
              "      <td>4</td>\n",
              "    </tr>\n",
              "    <tr>\n",
              "      <th>6</th>\n",
              "      <td>qwU9rasv</td>\n",
              "      <td>True</td>\n",
              "      <td>1.504230e+12</td>\n",
              "      <td>1.504230e+12</td>\n",
              "      <td>33</td>\n",
              "      <td>resign</td>\n",
              "      <td>white</td>\n",
              "      <td>10+0</td>\n",
              "      <td>capa_jr</td>\n",
              "      <td>1520</td>\n",
              "      <td>daniel_likes_chess</td>\n",
              "      <td>1423</td>\n",
              "      <td>d4 d5 e4 dxe4 Nc3 Nf6 f3 exf3 Nxf3 Nc6 Bb5 a6 ...</td>\n",
              "      <td>D00</td>\n",
              "      <td>Blackmar-Diemer Gambit: Pietrowsky Defense</td>\n",
              "      <td>10</td>\n",
              "    </tr>\n",
              "    <tr>\n",
              "      <th>7</th>\n",
              "      <td>RVN0N3VK</td>\n",
              "      <td>False</td>\n",
              "      <td>1.503680e+12</td>\n",
              "      <td>1.503680e+12</td>\n",
              "      <td>9</td>\n",
              "      <td>resign</td>\n",
              "      <td>black</td>\n",
              "      <td>15+30</td>\n",
              "      <td>daniel_likes_chess</td>\n",
              "      <td>1413</td>\n",
              "      <td>soultego</td>\n",
              "      <td>2108</td>\n",
              "      <td>e4 Nc6 d4 e5 d5 Nce7 c3 Ng6 b4</td>\n",
              "      <td>B00</td>\n",
              "      <td>Nimzowitsch Defense: Kennedy Variation |  Link...</td>\n",
              "      <td>5</td>\n",
              "    </tr>\n",
              "    <tr>\n",
              "      <th>8</th>\n",
              "      <td>dwF3DJHO</td>\n",
              "      <td>True</td>\n",
              "      <td>1.503510e+12</td>\n",
              "      <td>1.503510e+12</td>\n",
              "      <td>66</td>\n",
              "      <td>resign</td>\n",
              "      <td>black</td>\n",
              "      <td>15+0</td>\n",
              "      <td>ehabfanri</td>\n",
              "      <td>1439</td>\n",
              "      <td>daniel_likes_chess</td>\n",
              "      <td>1392</td>\n",
              "      <td>e4 e5 Bc4 Nc6 Nf3 Nd4 d3 Nxf3+ Qxf3 Nf6 h3 Bc5...</td>\n",
              "      <td>C50</td>\n",
              "      <td>Italian Game: Schilling-Kostic Gambit</td>\n",
              "      <td>6</td>\n",
              "    </tr>\n",
              "    <tr>\n",
              "      <th>9</th>\n",
              "      <td>afoMwnLg</td>\n",
              "      <td>True</td>\n",
              "      <td>1.503440e+12</td>\n",
              "      <td>1.503440e+12</td>\n",
              "      <td>119</td>\n",
              "      <td>mate</td>\n",
              "      <td>white</td>\n",
              "      <td>10+0</td>\n",
              "      <td>daniel_likes_chess</td>\n",
              "      <td>1381</td>\n",
              "      <td>mirco25</td>\n",
              "      <td>1209</td>\n",
              "      <td>e4 d5 exd5 Qxd5 Nc3 Qe5+ Be2 Na6 d4 Qf5 Bxa6 b...</td>\n",
              "      <td>B01</td>\n",
              "      <td>Scandinavian Defense: Mieses-Kotroc Variation</td>\n",
              "      <td>4</td>\n",
              "    </tr>\n",
              "  </tbody>\n",
              "</table>\n",
              "</div>"
            ],
            "text/plain": [
              "         id  ...  opening_ply\n",
              "0  TZJHLljE  ...            5\n",
              "1  l1NXvwaE  ...            4\n",
              "2  mIICvQHh  ...            3\n",
              "3  kWKvrqYL  ...            3\n",
              "4  9tXo1AUZ  ...            5\n",
              "5  MsoDV9wj  ...            4\n",
              "6  qwU9rasv  ...           10\n",
              "7  RVN0N3VK  ...            5\n",
              "8  dwF3DJHO  ...            6\n",
              "9  afoMwnLg  ...            4\n",
              "\n",
              "[10 rows x 16 columns]"
            ]
          },
          "metadata": {
            "tags": []
          },
          "execution_count": 3
        }
      ]
    },
    {
      "cell_type": "code",
      "metadata": {
        "id": "wck9X5JKqGB-"
      },
      "source": [
        "#I am a huge chess nerd and I found this cool data set and would like to try and make a model to predict the winner of games based on the data."
      ],
      "execution_count": 4,
      "outputs": []
    },
    {
      "cell_type": "code",
      "metadata": {
        "colab": {
          "base_uri": "https://localhost:8080/"
        },
        "id": "GjQQaTIBExjP",
        "outputId": "6812bbaa-87be-42c7-af8b-daf89bb72c7e"
      },
      "source": [
        "df.info()"
      ],
      "execution_count": 5,
      "outputs": [
        {
          "output_type": "stream",
          "text": [
            "<class 'pandas.core.frame.DataFrame'>\n",
            "RangeIndex: 20058 entries, 0 to 20057\n",
            "Data columns (total 16 columns):\n",
            " #   Column          Non-Null Count  Dtype  \n",
            "---  ------          --------------  -----  \n",
            " 0   id              20058 non-null  object \n",
            " 1   rated           20058 non-null  bool   \n",
            " 2   created_at      20058 non-null  float64\n",
            " 3   last_move_at    20058 non-null  float64\n",
            " 4   turns           20058 non-null  int64  \n",
            " 5   victory_status  20058 non-null  object \n",
            " 6   winner          20058 non-null  object \n",
            " 7   increment_code  20058 non-null  object \n",
            " 8   white_id        20058 non-null  object \n",
            " 9   white_rating    20058 non-null  int64  \n",
            " 10  black_id        20058 non-null  object \n",
            " 11  black_rating    20058 non-null  int64  \n",
            " 12  moves           20058 non-null  object \n",
            " 13  opening_eco     20058 non-null  object \n",
            " 14  opening_name    20058 non-null  object \n",
            " 15  opening_ply     20058 non-null  int64  \n",
            "dtypes: bool(1), float64(2), int64(4), object(9)\n",
            "memory usage: 2.3+ MB\n"
          ],
          "name": "stdout"
        }
      ]
    },
    {
      "cell_type": "code",
      "metadata": {
        "colab": {
          "base_uri": "https://localhost:8080/"
        },
        "id": "P5of53wzQfra",
        "outputId": "6bb6c0e8-7f9d-4285-b07f-47741e5f8c2c"
      },
      "source": [
        "df.duplicated().any()"
      ],
      "execution_count": 6,
      "outputs": [
        {
          "output_type": "execute_result",
          "data": {
            "text/plain": [
              "True"
            ]
          },
          "metadata": {
            "tags": []
          },
          "execution_count": 6
        }
      ]
    },
    {
      "cell_type": "code",
      "metadata": {
        "id": "O6TE9maFQoSC"
      },
      "source": [
        "df.drop_duplicates(inplace = True)"
      ],
      "execution_count": 7,
      "outputs": []
    },
    {
      "cell_type": "code",
      "metadata": {
        "id": "CWyQQkCMQ28A"
      },
      "source": [
        "df.dropna(inplace = True)"
      ],
      "execution_count": 8,
      "outputs": []
    },
    {
      "cell_type": "code",
      "metadata": {
        "colab": {
          "base_uri": "https://localhost:8080/"
        },
        "id": "kpxb2TqxE4Z1",
        "outputId": "bbfed1f2-5956-4ed8-f47b-19f5ca2a8caf"
      },
      "source": [
        "#I understand this feature in a chess sense but will need to find a way to clean it while keeping the useful information\n",
        "df['increment_code']"
      ],
      "execution_count": 9,
      "outputs": [
        {
          "output_type": "execute_result",
          "data": {
            "text/plain": [
              "0         15+2\n",
              "1         5+10\n",
              "2         5+10\n",
              "3         20+0\n",
              "4         30+3\n",
              "         ...  \n",
              "20053    10+10\n",
              "20054     10+0\n",
              "20055     10+0\n",
              "20056     10+0\n",
              "20057     10+0\n",
              "Name: increment_code, Length: 19629, dtype: object"
            ]
          },
          "metadata": {
            "tags": []
          },
          "execution_count": 9
        }
      ]
    },
    {
      "cell_type": "code",
      "metadata": {
        "id": "9I8V85zBFTxu"
      },
      "source": [
        "#While cleaning the data I also decided to drop the columns that list the game or player's ID since all of the data entries in each are unique I can't see it being useful in making predictions.\n",
        "df.drop(columns = ['id','white_id','black_id', 'rated'], inplace = True)"
      ],
      "execution_count": 10,
      "outputs": []
    },
    {
      "cell_type": "code",
      "metadata": {
        "colab": {
          "base_uri": "https://localhost:8080/"
        },
        "id": "Wa4e_By7IdMp",
        "outputId": "b0585c83-a6b0-4352-9a72-117775d8b22b"
      },
      "source": [
        "df.info()"
      ],
      "execution_count": 11,
      "outputs": [
        {
          "output_type": "stream",
          "text": [
            "<class 'pandas.core.frame.DataFrame'>\n",
            "Int64Index: 19629 entries, 0 to 20057\n",
            "Data columns (total 12 columns):\n",
            " #   Column          Non-Null Count  Dtype  \n",
            "---  ------          --------------  -----  \n",
            " 0   created_at      19629 non-null  float64\n",
            " 1   last_move_at    19629 non-null  float64\n",
            " 2   turns           19629 non-null  int64  \n",
            " 3   victory_status  19629 non-null  object \n",
            " 4   winner          19629 non-null  object \n",
            " 5   increment_code  19629 non-null  object \n",
            " 6   white_rating    19629 non-null  int64  \n",
            " 7   black_rating    19629 non-null  int64  \n",
            " 8   moves           19629 non-null  object \n",
            " 9   opening_eco     19629 non-null  object \n",
            " 10  opening_name    19629 non-null  object \n",
            " 11  opening_ply     19629 non-null  int64  \n",
            "dtypes: float64(2), int64(4), object(6)\n",
            "memory usage: 1.9+ MB\n"
          ],
          "name": "stdout"
        }
      ]
    },
    {
      "cell_type": "code",
      "metadata": {
        "id": "s1C7ycYxImox"
      },
      "source": [
        "test_df = df[df['opening_name'] == 'Sicilian Defense']"
      ],
      "execution_count": 12,
      "outputs": []
    },
    {
      "cell_type": "code",
      "metadata": {
        "colab": {
          "base_uri": "https://localhost:8080/",
          "height": 204
        },
        "id": "gDyNPZqe__kx",
        "outputId": "7f8047f7-1ed9-4084-fff5-d182b54b1557"
      },
      "source": [
        "test_df.head()"
      ],
      "execution_count": 13,
      "outputs": [
        {
          "output_type": "execute_result",
          "data": {
            "text/html": [
              "<div>\n",
              "<style scoped>\n",
              "    .dataframe tbody tr th:only-of-type {\n",
              "        vertical-align: middle;\n",
              "    }\n",
              "\n",
              "    .dataframe tbody tr th {\n",
              "        vertical-align: top;\n",
              "    }\n",
              "\n",
              "    .dataframe thead th {\n",
              "        text-align: right;\n",
              "    }\n",
              "</style>\n",
              "<table border=\"1\" class=\"dataframe\">\n",
              "  <thead>\n",
              "    <tr style=\"text-align: right;\">\n",
              "      <th></th>\n",
              "      <th>created_at</th>\n",
              "      <th>last_move_at</th>\n",
              "      <th>turns</th>\n",
              "      <th>victory_status</th>\n",
              "      <th>winner</th>\n",
              "      <th>increment_code</th>\n",
              "      <th>white_rating</th>\n",
              "      <th>black_rating</th>\n",
              "      <th>moves</th>\n",
              "      <th>opening_eco</th>\n",
              "      <th>opening_name</th>\n",
              "      <th>opening_ply</th>\n",
              "    </tr>\n",
              "  </thead>\n",
              "  <tbody>\n",
              "    <tr>\n",
              "      <th>32</th>\n",
              "      <td>1.502780e+12</td>\n",
              "      <td>1.502780e+12</td>\n",
              "      <td>54</td>\n",
              "      <td>resign</td>\n",
              "      <td>white</td>\n",
              "      <td>10+10</td>\n",
              "      <td>1203</td>\n",
              "      <td>1019</td>\n",
              "      <td>e4 c5 Nf3 d5 exd5 Qxd5 Nc3 Qe6+ Qe2 Qxe2+ Bxe2...</td>\n",
              "      <td>B27</td>\n",
              "      <td>Sicilian Defense</td>\n",
              "      <td>3</td>\n",
              "    </tr>\n",
              "    <tr>\n",
              "      <th>167</th>\n",
              "      <td>1.503450e+12</td>\n",
              "      <td>1.503450e+12</td>\n",
              "      <td>107</td>\n",
              "      <td>resign</td>\n",
              "      <td>white</td>\n",
              "      <td>10+10</td>\n",
              "      <td>1885</td>\n",
              "      <td>1856</td>\n",
              "      <td>e4 c5 Nf3 d6 Nc3 a6 a3 Nf6 Bc4 e6 d3 Nc6 Ba2 B...</td>\n",
              "      <td>B50</td>\n",
              "      <td>Sicilian Defense</td>\n",
              "      <td>4</td>\n",
              "    </tr>\n",
              "    <tr>\n",
              "      <th>174</th>\n",
              "      <td>1.503120e+12</td>\n",
              "      <td>1.503120e+12</td>\n",
              "      <td>105</td>\n",
              "      <td>outoftime</td>\n",
              "      <td>white</td>\n",
              "      <td>10+0</td>\n",
              "      <td>1895</td>\n",
              "      <td>1859</td>\n",
              "      <td>e4 c5 Nf3 d6 Bc4 Nf6 d3 a6 a3 g6 b4 Bg7 Bb2 O-...</td>\n",
              "      <td>B50</td>\n",
              "      <td>Sicilian Defense</td>\n",
              "      <td>4</td>\n",
              "    </tr>\n",
              "    <tr>\n",
              "      <th>176</th>\n",
              "      <td>1.503090e+12</td>\n",
              "      <td>1.503090e+12</td>\n",
              "      <td>144</td>\n",
              "      <td>outoftime</td>\n",
              "      <td>draw</td>\n",
              "      <td>10+0</td>\n",
              "      <td>1866</td>\n",
              "      <td>1843</td>\n",
              "      <td>e4 c5 Nf3 d6 g3 Nf6 d3 Nc6 Bg2 g6 O-O Bg7 Nc3 ...</td>\n",
              "      <td>B50</td>\n",
              "      <td>Sicilian Defense</td>\n",
              "      <td>4</td>\n",
              "    </tr>\n",
              "    <tr>\n",
              "      <th>191</th>\n",
              "      <td>1.501040e+12</td>\n",
              "      <td>1.501040e+12</td>\n",
              "      <td>136</td>\n",
              "      <td>resign</td>\n",
              "      <td>black</td>\n",
              "      <td>15+0</td>\n",
              "      <td>1800</td>\n",
              "      <td>1826</td>\n",
              "      <td>e4 c5 Qf3 Nc6 c3 d6 Bc4 Nf6 Bb5 Bg4 Bxc6+ bxc6...</td>\n",
              "      <td>B20</td>\n",
              "      <td>Sicilian Defense</td>\n",
              "      <td>2</td>\n",
              "    </tr>\n",
              "  </tbody>\n",
              "</table>\n",
              "</div>"
            ],
            "text/plain": [
              "       created_at  last_move_at  ...      opening_name opening_ply\n",
              "32   1.502780e+12  1.502780e+12  ...  Sicilian Defense           3\n",
              "167  1.503450e+12  1.503450e+12  ...  Sicilian Defense           4\n",
              "174  1.503120e+12  1.503120e+12  ...  Sicilian Defense           4\n",
              "176  1.503090e+12  1.503090e+12  ...  Sicilian Defense           4\n",
              "191  1.501040e+12  1.501040e+12  ...  Sicilian Defense           2\n",
              "\n",
              "[5 rows x 12 columns]"
            ]
          },
          "metadata": {
            "tags": []
          },
          "execution_count": 13
        }
      ]
    },
    {
      "cell_type": "code",
      "metadata": {
        "colab": {
          "base_uri": "https://localhost:8080/"
        },
        "id": "13-DUgATI2d0",
        "outputId": "b5b382f5-93d6-4d7d-a8be-3d0b19da5454"
      },
      "source": [
        "df['opening_eco'].value_counts()"
      ],
      "execution_count": 14,
      "outputs": [
        {
          "output_type": "execute_result",
          "data": {
            "text/plain": [
              "A00    992\n",
              "C00    824\n",
              "D00    719\n",
              "B01    707\n",
              "C41    671\n",
              "      ... \n",
              "E44      1\n",
              "B62      1\n",
              "D48      1\n",
              "E47      1\n",
              "E35      1\n",
              "Name: opening_eco, Length: 365, dtype: int64"
            ]
          },
          "metadata": {
            "tags": []
          },
          "execution_count": 14
        }
      ]
    },
    {
      "cell_type": "code",
      "metadata": {
        "colab": {
          "base_uri": "https://localhost:8080/",
          "height": 279
        },
        "id": "hE0OyD0u_Cx5",
        "outputId": "418c1b42-7285-4c24-d5de-6ee4e24f8793"
      },
      "source": [
        "ax  =sns.countplot(y = 'opening_eco', data = test_df, palette=['blue'])\n"
      ],
      "execution_count": 15,
      "outputs": [
        {
          "output_type": "display_data",
          "data": {
            "image/png": "[encoded data removed]",
            "text/plain": [
              "<Figure size 432x288 with 1 Axes>"
            ]
          },
          "metadata": {
            "tags": [],
            "needs_background": "light"
          }
        }
      ]
    },
    {
      "cell_type": "code",
      "metadata": {
        "id": "cRJSMOvl_-95"
      },
      "source": [
        "b27_df = df[df['opening_eco'] == 'B27']"
      ],
      "execution_count": 16,
      "outputs": []
    },
    {
      "cell_type": "code",
      "metadata": {
        "id": "_PnKgWh_Av5x",
        "colab": {
          "base_uri": "https://localhost:8080/",
          "height": 204
        },
        "outputId": "68f4e28e-ed31-431f-b283-dc6e47d8123b"
      },
      "source": [
        "b27_df.head()"
      ],
      "execution_count": 17,
      "outputs": [
        {
          "output_type": "execute_result",
          "data": {
            "text/html": [
              "<div>\n",
              "<style scoped>\n",
              "    .dataframe tbody tr th:only-of-type {\n",
              "        vertical-align: middle;\n",
              "    }\n",
              "\n",
              "    .dataframe tbody tr th {\n",
              "        vertical-align: top;\n",
              "    }\n",
              "\n",
              "    .dataframe thead th {\n",
              "        text-align: right;\n",
              "    }\n",
              "</style>\n",
              "<table border=\"1\" class=\"dataframe\">\n",
              "  <thead>\n",
              "    <tr style=\"text-align: right;\">\n",
              "      <th></th>\n",
              "      <th>created_at</th>\n",
              "      <th>last_move_at</th>\n",
              "      <th>turns</th>\n",
              "      <th>victory_status</th>\n",
              "      <th>winner</th>\n",
              "      <th>increment_code</th>\n",
              "      <th>white_rating</th>\n",
              "      <th>black_rating</th>\n",
              "      <th>moves</th>\n",
              "      <th>opening_eco</th>\n",
              "      <th>opening_name</th>\n",
              "      <th>opening_ply</th>\n",
              "    </tr>\n",
              "  </thead>\n",
              "  <tbody>\n",
              "    <tr>\n",
              "      <th>5</th>\n",
              "      <td>1.504240e+12</td>\n",
              "      <td>1.504240e+12</td>\n",
              "      <td>5</td>\n",
              "      <td>draw</td>\n",
              "      <td>draw</td>\n",
              "      <td>10+0</td>\n",
              "      <td>1250</td>\n",
              "      <td>1002</td>\n",
              "      <td>e4 c5 Nf3 Qa5 a3</td>\n",
              "      <td>B27</td>\n",
              "      <td>Sicilian Defense: Mongoose Variation</td>\n",
              "      <td>4</td>\n",
              "    </tr>\n",
              "    <tr>\n",
              "      <th>32</th>\n",
              "      <td>1.502780e+12</td>\n",
              "      <td>1.502780e+12</td>\n",
              "      <td>54</td>\n",
              "      <td>resign</td>\n",
              "      <td>white</td>\n",
              "      <td>10+10</td>\n",
              "      <td>1203</td>\n",
              "      <td>1019</td>\n",
              "      <td>e4 c5 Nf3 d5 exd5 Qxd5 Nc3 Qe6+ Qe2 Qxe2+ Bxe2...</td>\n",
              "      <td>B27</td>\n",
              "      <td>Sicilian Defense</td>\n",
              "      <td>3</td>\n",
              "    </tr>\n",
              "    <tr>\n",
              "      <th>158</th>\n",
              "      <td>1.503690e+12</td>\n",
              "      <td>1.503690e+12</td>\n",
              "      <td>125</td>\n",
              "      <td>resign</td>\n",
              "      <td>white</td>\n",
              "      <td>15+0</td>\n",
              "      <td>1851</td>\n",
              "      <td>1918</td>\n",
              "      <td>e4 c5 Nf3 g6 Nc3 Bg7 Bb5 a6 Be2 Nc6 O-O b5 a3 ...</td>\n",
              "      <td>B27</td>\n",
              "      <td>Sicilian Defense: Hyperaccelerated Dragon</td>\n",
              "      <td>4</td>\n",
              "    </tr>\n",
              "    <tr>\n",
              "      <th>219</th>\n",
              "      <td>1.503510e+12</td>\n",
              "      <td>1.503510e+12</td>\n",
              "      <td>44</td>\n",
              "      <td>mate</td>\n",
              "      <td>black</td>\n",
              "      <td>15+1</td>\n",
              "      <td>1274</td>\n",
              "      <td>1534</td>\n",
              "      <td>e4 e5 Nf3 c5 d4 Nc6 dxe5 d6 exd6 Bxd6 Bg5 Nf6 ...</td>\n",
              "      <td>B27</td>\n",
              "      <td>Sicilian Defense: Jalalabad Variation</td>\n",
              "      <td>4</td>\n",
              "    </tr>\n",
              "    <tr>\n",
              "      <th>292</th>\n",
              "      <td>1.502500e+12</td>\n",
              "      <td>1.502500e+12</td>\n",
              "      <td>72</td>\n",
              "      <td>resign</td>\n",
              "      <td>white</td>\n",
              "      <td>15+15</td>\n",
              "      <td>1611</td>\n",
              "      <td>1478</td>\n",
              "      <td>Nf3 c5 e4 Qc7 Nc3 a6 d4 e6 d5 e5 a4 d6 Nd2 Nf6...</td>\n",
              "      <td>B27</td>\n",
              "      <td>Sicilian Defense: Quinteros Variation</td>\n",
              "      <td>4</td>\n",
              "    </tr>\n",
              "  </tbody>\n",
              "</table>\n",
              "</div>"
            ],
            "text/plain": [
              "       created_at  ...  opening_ply\n",
              "5    1.504240e+12  ...            4\n",
              "32   1.502780e+12  ...            3\n",
              "158  1.503690e+12  ...            4\n",
              "219  1.503510e+12  ...            4\n",
              "292  1.502500e+12  ...            4\n",
              "\n",
              "[5 rows x 12 columns]"
            ]
          },
          "metadata": {
            "tags": []
          },
          "execution_count": 17
        }
      ]
    },
    {
      "cell_type": "code",
      "metadata": {
        "colab": {
          "base_uri": "https://localhost:8080/",
          "height": 279
        },
        "id": "Psm0pK_nA03y",
        "outputId": "c39f5af6-4f22-413f-e3fb-e9ff3ea88653"
      },
      "source": [
        "ax  =sns.countplot(y = 'opening_name', data = b27_df, palette=['blue'])"
      ],
      "execution_count": 18,
      "outputs": [
        {
          "output_type": "display_data",
          "data": {
            "image/png": "[encoded data removed]",
            "text/plain": [
              "<Figure size 432x288 with 1 Axes>"
            ]
          },
          "metadata": {
            "tags": [],
            "needs_background": "light"
          }
        }
      ]
    },
    {
      "cell_type": "code",
      "metadata": {
        "id": "fgf_PpndA7l4"
      },
      "source": [
        "b50_df = df[df['opening_eco'] == 'B50']"
      ],
      "execution_count": 19,
      "outputs": []
    },
    {
      "cell_type": "code",
      "metadata": {
        "colab": {
          "base_uri": "https://localhost:8080/",
          "height": 279
        },
        "id": "XopQoeVbCCkK",
        "outputId": "90fa0e9a-a80e-4f55-9080-66bf7265b83e"
      },
      "source": [
        "ax  =sns.countplot(y = 'opening_name', data = b50_df, palette=['blue'])"
      ],
      "execution_count": 20,
      "outputs": [
        {
          "output_type": "display_data",
          "data": {
            "image/png": "[encoded data removed]",
            "text/plain": [
              "<Figure size 432x288 with 1 Axes>"
            ]
          },
          "metadata": {
            "tags": [],
            "needs_background": "light"
          }
        }
      ]
    },
    {
      "cell_type": "code",
      "metadata": {
        "id": "AbSlVFfqTQtd"
      },
      "source": [
        "#From the data exploration above I found that although both the opening_eco and opening_name column provide a great deal of information, I'll need to find a cleaner way to represent that data."
      ],
      "execution_count": 21,
      "outputs": []
    },
    {
      "cell_type": "code",
      "metadata": {
        "colab": {
          "base_uri": "https://localhost:8080/"
        },
        "id": "gtNEu1rlEVQa",
        "outputId": "33d096a7-4127-48e7-f94b-9b29f62276d5"
      },
      "source": [
        "df['Letter'] = df['opening_eco'].str[0]\n",
        "df['Letter']"
      ],
      "execution_count": 23,
      "outputs": [
        {
          "output_type": "execute_result",
          "data": {
            "text/plain": [
              "0        D\n",
              "1        B\n",
              "2        C\n",
              "3        D\n",
              "4        C\n",
              "        ..\n",
              "20053    A\n",
              "20054    A\n",
              "20055    D\n",
              "20056    B\n",
              "20057    D\n",
              "Name: Letter, Length: 19629, dtype: object"
            ]
          },
          "metadata": {
            "tags": []
          },
          "execution_count": 23
        }
      ]
    },
    {
      "cell_type": "code",
      "metadata": {
        "colab": {
          "base_uri": "https://localhost:8080/"
        },
        "id": "S26ZVFnJEw_J",
        "outputId": "6d76bb6b-bb6d-46a1-cfcc-2aafc4d8ddbb"
      },
      "source": [
        "df['Number'] = df['opening_eco'].str.slice(1,3)\n",
        "df['Number']"
      ],
      "execution_count": 24,
      "outputs": [
        {
          "output_type": "execute_result",
          "data": {
            "text/plain": [
              "0        10\n",
              "1        00\n",
              "2        20\n",
              "3        02\n",
              "4        41\n",
              "         ..\n",
              "20053    80\n",
              "20054    41\n",
              "20055    00\n",
              "20056    07\n",
              "20057    00\n",
              "Name: Number, Length: 19629, dtype: object"
            ]
          },
          "metadata": {
            "tags": []
          },
          "execution_count": 24
        }
      ]
    },
    {
      "cell_type": "code",
      "metadata": {
        "id": "RSkdpdBbJrQS"
      },
      "source": [
        "df['Number'] = df['Number'].astype(int)"
      ],
      "execution_count": 25,
      "outputs": []
    },
    {
      "cell_type": "code",
      "metadata": {
        "colab": {
          "base_uri": "https://localhost:8080/"
        },
        "id": "nedM9CH0J8Iy",
        "outputId": "65033fd9-6a85-4826-e26c-9480a2cc3104"
      },
      "source": [
        "df['Number']"
      ],
      "execution_count": 26,
      "outputs": [
        {
          "output_type": "execute_result",
          "data": {
            "text/plain": [
              "0        10\n",
              "1         0\n",
              "2        20\n",
              "3         2\n",
              "4        41\n",
              "         ..\n",
              "20053    80\n",
              "20054    41\n",
              "20055     0\n",
              "20056     7\n",
              "20057     0\n",
              "Name: Number, Length: 19629, dtype: int64"
            ]
          },
          "metadata": {
            "tags": []
          },
          "execution_count": 26
        }
      ]
    },
    {
      "cell_type": "code",
      "metadata": {
        "id": "KnY3sC_YITSq"
      },
      "source": [
        "#E60-E99 King's Indian defence"
      ],
      "execution_count": 27,
      "outputs": []
    },
    {
      "cell_type": "code",
      "metadata": {
        "id": "ihluZF62JEo6"
      },
      "source": [
        "conditions = [\n",
        "              (df['Letter'] == 'E') & (df['Number'] >= 60) & (df['Number'] <= 99),\n",
        "              (df['Letter'] == 'E') & (df['Number'] >= 20) & (df['Number'] <= 59),\n",
        "              (df['Letter'] == 'E') & (df['Number'] >= 12) & (df['Number'] <= 19),\n",
        "              (df['Letter'] == 'E') & (df['Number'] == 11),\n",
        "              (df['Letter'] == 'E') & (df['Number'] == 10),\n",
        "              (df['Letter'] == 'E') & (df['Number'] >= 1) & (df['Number'] <= 9),\n",
        "              (df['Letter'] == 'E') & (df['Number'] == 0),\n",
        "              (df['Letter'] == 'D') & (df['Number'] >= 80) & (df['Number'] <= 99),\n",
        "              (df['Letter'] == 'D') & (df['Number'] >= 70) & (df['Number'] <= 79),\n",
        "              (df['Letter'] == 'D') & (df['Number'] >= 50) & (df['Number'] <= 69),\n",
        "              (df['Letter'] == 'D') & (df['Number'] >= 43) & (df['Number'] <= 49),\n",
        "              (df['Letter'] == 'D') & (df['Number'] >= 30) & (df['Number'] <= 42),\n",
        "              (df['Letter'] == 'D') & (df['Number'] >= 20) & (df['Number'] <= 29),\n",
        "              (df['Letter'] == 'D') & (df['Number'] >= 17) & (df['Number'] <= 19),\n",
        "              (df['Letter'] == 'D') & (df['Number'] == 16),\n",
        "              (df['Letter'] == 'D') & (df['Number'] >= 10) & (df['Number'] <= 15),\n",
        "              (df['Letter'] == 'D') & (df['Number'] >= 7) & (df['Number'] <= 9),\n",
        "              (df['Letter'] == 'D') & (df['Number'] == 6),\n",
        "              (df['Letter'] == 'D') & (df['Number'] >= 4) & (df['Number'] <= 5),\n",
        "              (df['Letter'] == 'D') & (df['Number'] == 3),\n",
        "              (df['Letter'] == 'D') & (df['Number'] == 2),\n",
        "              (df['Letter'] == 'D') & (df['Number'] == 1),\n",
        "              (df['Letter'] == 'D') & (df['Number'] == 0),\n",
        "              (df['Letter'] == 'C') & (df['Number'] >= 60) & (df['Number'] <= 99),\n",
        "              (df['Letter'] == 'C') & (df['Number'] >= 55) & (df['Number'] <= 59),\n",
        "              (df['Letter'] == 'C') & (df['Number'] >= 53) & (df['Number'] <= 54),\n",
        "              (df['Letter'] == 'C') & (df['Number'] >= 51) & (df['Number'] <= 52),\n",
        "              (df['Letter'] == 'C') & (df['Number'] == 50),\n",
        "              (df['Letter'] == 'C') & (df['Number'] >= 47) & (df['Number'] <= 49),\n",
        "              (df['Letter'] == 'C') & (df['Number'] == 46),\n",
        "              (df['Letter'] == 'C') & (df['Number'] == 45),\n",
        "              (df['Letter'] == 'C') & (df['Number'] == 44),\n",
        "              (df['Letter'] == 'C') & (df['Number'] >= 42) & (df['Number'] <= 43),\n",
        "              (df['Letter'] == 'C') & (df['Number'] == 41),\n",
        "              (df['Letter'] == 'C') & (df['Number'] == 40),\n",
        "              (df['Letter'] == 'C') & (df['Number'] >= 30) & (df['Number'] <= 39),\n",
        "              (df['Letter'] == 'C') & (df['Number'] >= 25) & (df['Number'] <= 29),\n",
        "              (df['Letter'] == 'C') & (df['Number'] >= 23) & (df['Number'] <= 24),\n",
        "              (df['Letter'] == 'C') & (df['Number'] >= 21) & (df['Number'] <= 22),\n",
        "              (df['Letter'] == 'C') & (df['Number'] == 20),\n",
        "              (df['Letter'] == 'C') & (df['Number'] >= 00) & (df['Number'] <= 19),\n",
        "              (df['Letter'] == 'B') & (df['Number'] >= 20) & (df['Number'] <= 99),\n",
        "              (df['Letter'] == 'B') & (df['Number'] >= 10) & (df['Number'] <= 19),\n",
        "              (df['Letter'] == 'B') & (df['Number'] >= 7) & (df['Number'] <= 9),\n",
        "              (df['Letter'] == 'B') & (df['Number'] == 6),\n",
        "              (df['Letter'] == 'B') & (df['Number'] >= 2) & (df['Number'] <= 5),\n",
        "              (df['Letter'] == 'B') & (df['Number'] == 1),\n",
        "              (df['Letter'] == 'B') & (df['Number'] == 0),\n",
        "              (df['Letter'] == 'A') & (df['Number'] >= 80) & (df['Number'] <= 99),\n",
        "              (df['Letter'] == 'A') & (df['Number'] >= 60) & (df['Number'] <= 79),\n",
        "              (df['Letter'] == 'A') & (df['Number'] >= 57) & (df['Number'] <= 59),\n",
        "              (df['Letter'] == 'A') & (df['Number'] == 56),\n",
        "              (df['Letter'] == 'A') & (df['Number'] >= 53) & (df['Number'] <= 55),\n",
        "              (df['Letter'] == 'A') & (df['Number'] >= 51) & (df['Number'] <= 52),\n",
        "              (df['Letter'] == 'A') & (df['Number'] == 50),\n",
        "              (df['Letter'] == 'A') & (df['Number'] >= 48) & (df['Number'] <= 49),\n",
        "              (df['Letter'] == 'A') & (df['Number'] == 47),\n",
        "              (df['Letter'] == 'A') & (df['Number'] >= 45) & (df['Number'] <= 46),\n",
        "              (df['Letter'] == 'A') & (df['Number'] >= 43) & (df['Number'] <= 44),\n",
        "              (df['Letter'] == 'A') & (df['Number'] == 42),\n",
        "              (df['Letter'] == 'A') & (df['Number'] >= 40) & (df['Number'] <= 41),\n",
        "              (df['Letter'] == 'A') & (df['Number'] >= 10) & (df['Number'] <= 39),\n",
        "              (df['Letter'] == 'A') & (df['Number'] >= 4) & (df['Number'] <= 9),\n",
        "              (df['Letter'] == 'A') & (df['Number'] >= 2) & (df['Number'] <= 3),\n",
        "              (df['Letter'] == 'A') & (df['Number'] == 1),\n",
        "              (df['Letter'] == 'A') & (df['Number'] == 0),\n",
        "              \n",
        "\n",
        "]"
      ],
      "execution_count": 28,
      "outputs": []
    },
    {
      "cell_type": "code",
      "metadata": {
        "id": "estxiYHzKFdC"
      },
      "source": [
        "values = ['E60-E99 Kings Indian defence', 'E20-E59 Nimzo-Indian defence', ' E12-E19 Queens Indian defence',' E11 Bogo-Indian defence', 'E10 Queens pawn game',\n",
        "          'E01-E09 Catalan, closed', 'E00 Queens pawn game', 'D80-D99 Gruenfeld defence', 'D70-D79 Neo-Gruenfeld defence', 'D50-D69 Queens Gambit Declined, 4.Bg5',\n",
        "          'D43-D49 Queens Gambit Declined semi-Slav', 'D30-D42 Queens gambit declined', 'D20-D29 Queens gambit accepted', 'D17-D19 Queens Gambit Declined Slav, Czech defence',\n",
        "          'D16 Queens Gambit Declined Slav accepted, Alapin variation', 'D10-D15 Queens Gambit Declined Slav defence', 'D07-D09 Queens Gambit Declined, Chigorin defence',\n",
        "          'D06 Queens Gambit', 'D04-D05 Queens pawn game', 'D03 Torre attack (Tartakower variation)', 'D02 Queens pawn game', 'D01 Richter-Veresov attack', 'D00 Queens pawn game',\n",
        "          'C60-C99 Ruy Lopez (Spanish opening)', 'C55-C59 Two knights defence', 'C53-C54 Giuoco Piano', 'C51-C52 Evans gambit', 'C50 Kings pawn game', 'C47-C49 Four knights, Scotch variation',\n",
        "          'C46 Three knights game', 'C45 Scotch game', 'C44 Kings pawn game', 'C42-C43 Petrovs defence', 'C41 Philidors defence', 'C40 Kings knight opening', 'C30-C39 Kings gambit', 'C25-C29 Vienna game',\n",
        "          'C23-C24 Bishops opening', 'C21-C22 Centre game', 'C20 Kings pawn game', 'C00-C19 French defence', 'B20-B99 Sicilian defence', 'B10-B19 Caro-Kann defence', 'B07-B09 Pirc defence', 'B06 Robatsch (modern) defence',\n",
        "          'B02-B05 Alekhines defence', 'B01 Scandinavian (centre counter) defence', 'B00 Kings pawn opening', 'A80-A99 Dutch', 'A60-A79 Benoni defence', 'A57-A59 Benko gambit', 'A56 Benoni defence', 'A53-A55 Old Indian defence',\n",
        "          'A51-A52 Budapest defence', 'A50 Queens pawn game', 'A48-A49 Kings Indian, East Indian defence', 'A47 Queens Indian defence', 'A45-A46 Queens pawn game', 'A43-A44 Old Benoni defence', 'A42 Modern defence, Averbakh system',\n",
        "          'A40-A41 Queens pawn', 'A10-A39 English opening', 'A04-A09 Reti opening', 'A02-A03 Birds opening', 'A01 Nimzovich-Larsen attack', 'A00 Polish (Sokolsky) opening'\n",
        "]"
      ],
      "execution_count": 29,
      "outputs": []
    },
    {
      "cell_type": "code",
      "metadata": {
        "id": "2m0DWmQwK2qz",
        "colab": {
          "base_uri": "https://localhost:8080/",
          "height": 1000
        },
        "outputId": "1dd3e5d2-d38a-4d83-ea17-753f07589232"
      },
      "source": [
        "df['ComboName'] = np.select(conditions, values)\n",
        "df[df['Letter']== 'E']"
      ],
      "execution_count": 30,
      "outputs": [
        {
          "output_type": "execute_result",
          "data": {
            "text/html": [
              "<div>\n",
              "<style scoped>\n",
              "    .dataframe tbody tr th:only-of-type {\n",
              "        vertical-align: middle;\n",
              "    }\n",
              "\n",
              "    .dataframe tbody tr th {\n",
              "        vertical-align: top;\n",
              "    }\n",
              "\n",
              "    .dataframe thead th {\n",
              "        text-align: right;\n",
              "    }\n",
              "</style>\n",
              "<table border=\"1\" class=\"dataframe\">\n",
              "  <thead>\n",
              "    <tr style=\"text-align: right;\">\n",
              "      <th></th>\n",
              "      <th>created_at</th>\n",
              "      <th>last_move_at</th>\n",
              "      <th>turns</th>\n",
              "      <th>victory_status</th>\n",
              "      <th>winner</th>\n",
              "      <th>increment_code</th>\n",
              "      <th>white_rating</th>\n",
              "      <th>black_rating</th>\n",
              "      <th>moves</th>\n",
              "      <th>opening_eco</th>\n",
              "      <th>opening_name</th>\n",
              "      <th>opening_ply</th>\n",
              "      <th>Letter</th>\n",
              "      <th>Number</th>\n",
              "      <th>ComboName</th>\n",
              "    </tr>\n",
              "  </thead>\n",
              "  <tbody>\n",
              "    <tr>\n",
              "      <th>63</th>\n",
              "      <td>1.503970e+12</td>\n",
              "      <td>1.503970e+12</td>\n",
              "      <td>25</td>\n",
              "      <td>resign</td>\n",
              "      <td>white</td>\n",
              "      <td>8+12</td>\n",
              "      <td>1939</td>\n",
              "      <td>1581</td>\n",
              "      <td>d4 Nf6 c4 e6 Nf3 c5 d5 exd5 cxd5 c4 Nc3 Bb4 Bg...</td>\n",
              "      <td>E10</td>\n",
              "      <td>Blumenfeld Countergambit #2</td>\n",
              "      <td>6</td>\n",
              "      <td>E</td>\n",
              "      <td>10</td>\n",
              "      <td>E10 Queens pawn game</td>\n",
              "    </tr>\n",
              "    <tr>\n",
              "      <th>139</th>\n",
              "      <td>1.503130e+12</td>\n",
              "      <td>1.503130e+12</td>\n",
              "      <td>58</td>\n",
              "      <td>mate</td>\n",
              "      <td>black</td>\n",
              "      <td>15+15</td>\n",
              "      <td>1335</td>\n",
              "      <td>1233</td>\n",
              "      <td>d4 Nf6 c4 e6 Nc3 Bb4 Bd2 O-O e3 d5 cxd5 exd5 Q...</td>\n",
              "      <td>E20</td>\n",
              "      <td>Nimzo-Indian Defense</td>\n",
              "      <td>6</td>\n",
              "      <td>E</td>\n",
              "      <td>20</td>\n",
              "      <td>E20-E59 Nimzo-Indian defence</td>\n",
              "    </tr>\n",
              "    <tr>\n",
              "      <th>145</th>\n",
              "      <td>1.503090e+12</td>\n",
              "      <td>1.503090e+12</td>\n",
              "      <td>43</td>\n",
              "      <td>mate</td>\n",
              "      <td>white</td>\n",
              "      <td>10+0</td>\n",
              "      <td>1550</td>\n",
              "      <td>1225</td>\n",
              "      <td>d4 Nf6 c4 e6 Nf3 Bb4+ Bd2 Bxd2+ Nbxd2 O-O e4 d...</td>\n",
              "      <td>E11</td>\n",
              "      <td>Bogo-Indian Defense: Exchange Variation</td>\n",
              "      <td>8</td>\n",
              "      <td>E</td>\n",
              "      <td>11</td>\n",
              "      <td>E11 Bogo-Indian defence</td>\n",
              "    </tr>\n",
              "    <tr>\n",
              "      <th>165</th>\n",
              "      <td>1.503460e+12</td>\n",
              "      <td>1.503460e+12</td>\n",
              "      <td>69</td>\n",
              "      <td>outoftime</td>\n",
              "      <td>white</td>\n",
              "      <td>8+0</td>\n",
              "      <td>1855</td>\n",
              "      <td>1858</td>\n",
              "      <td>Nh3 d5 g3 Nf6 Bg2 c5 f4 e6 Nf2 Nc6 d3 d4 e4 e5...</td>\n",
              "      <td>E00</td>\n",
              "      <td>Amar Opening</td>\n",
              "      <td>1</td>\n",
              "      <td>E</td>\n",
              "      <td>0</td>\n",
              "      <td>E00 Queens pawn game</td>\n",
              "    </tr>\n",
              "    <tr>\n",
              "      <th>180</th>\n",
              "      <td>1.501980e+12</td>\n",
              "      <td>1.501980e+12</td>\n",
              "      <td>158</td>\n",
              "      <td>mate</td>\n",
              "      <td>black</td>\n",
              "      <td>6+6</td>\n",
              "      <td>1835</td>\n",
              "      <td>1865</td>\n",
              "      <td>d4 Nf6 Nf3 e6 c4 c5 e3 cxd4 exd4 d5 c5 Be7 Bb5...</td>\n",
              "      <td>E10</td>\n",
              "      <td>Blumenfeld Countergambit #2</td>\n",
              "      <td>6</td>\n",
              "      <td>E</td>\n",
              "      <td>10</td>\n",
              "      <td>E10 Queens pawn game</td>\n",
              "    </tr>\n",
              "    <tr>\n",
              "      <th>...</th>\n",
              "      <td>...</td>\n",
              "      <td>...</td>\n",
              "      <td>...</td>\n",
              "      <td>...</td>\n",
              "      <td>...</td>\n",
              "      <td>...</td>\n",
              "      <td>...</td>\n",
              "      <td>...</td>\n",
              "      <td>...</td>\n",
              "      <td>...</td>\n",
              "      <td>...</td>\n",
              "      <td>...</td>\n",
              "      <td>...</td>\n",
              "      <td>...</td>\n",
              "      <td>...</td>\n",
              "    </tr>\n",
              "    <tr>\n",
              "      <th>19977</th>\n",
              "      <td>1.496948e+12</td>\n",
              "      <td>1.496954e+12</td>\n",
              "      <td>91</td>\n",
              "      <td>resign</td>\n",
              "      <td>white</td>\n",
              "      <td>30+30</td>\n",
              "      <td>2100</td>\n",
              "      <td>1840</td>\n",
              "      <td>e4 g6 d4 Bg7 c4 d6 Nc3 Nf6 Nf3 O-O Be2 c5 d5 B...</td>\n",
              "      <td>E91</td>\n",
              "      <td>King's Indian Defense: Orthodox Variation</td>\n",
              "      <td>11</td>\n",
              "      <td>E</td>\n",
              "      <td>91</td>\n",
              "      <td>E60-E99 Kings Indian defence</td>\n",
              "    </tr>\n",
              "    <tr>\n",
              "      <th>19982</th>\n",
              "      <td>1.502366e+12</td>\n",
              "      <td>1.502371e+12</td>\n",
              "      <td>77</td>\n",
              "      <td>resign</td>\n",
              "      <td>white</td>\n",
              "      <td>30+30</td>\n",
              "      <td>2048</td>\n",
              "      <td>1801</td>\n",
              "      <td>d4 Nf6 Nf3 e6 c4 b6 g3 Bb7 Bg2 Be7 O-O O-O Nc3...</td>\n",
              "      <td>E17</td>\n",
              "      <td>Queen's Indian Defense: Classical Variation | ...</td>\n",
              "      <td>13</td>\n",
              "      <td>E</td>\n",
              "      <td>17</td>\n",
              "      <td>E12-E19 Queens Indian defence</td>\n",
              "    </tr>\n",
              "    <tr>\n",
              "      <th>19998</th>\n",
              "      <td>1.498509e+12</td>\n",
              "      <td>1.498509e+12</td>\n",
              "      <td>87</td>\n",
              "      <td>outoftime</td>\n",
              "      <td>white</td>\n",
              "      <td>5+5</td>\n",
              "      <td>1998</td>\n",
              "      <td>1920</td>\n",
              "      <td>d4 Nf6 Nf3 d5 c4 e6 Nc3 Bb4 Bg5 h6 Bxf6 Qxf6 e...</td>\n",
              "      <td>E20</td>\n",
              "      <td>Nimzo-Indian Defense: Ragozin Variation</td>\n",
              "      <td>8</td>\n",
              "      <td>E</td>\n",
              "      <td>20</td>\n",
              "      <td>E20-E59 Nimzo-Indian defence</td>\n",
              "    </tr>\n",
              "    <tr>\n",
              "      <th>20021</th>\n",
              "      <td>1.504283e+12</td>\n",
              "      <td>1.504284e+12</td>\n",
              "      <td>56</td>\n",
              "      <td>resign</td>\n",
              "      <td>black</td>\n",
              "      <td>10+0</td>\n",
              "      <td>1876</td>\n",
              "      <td>1913</td>\n",
              "      <td>c4 Nf6 d4 g6 Nc3 Bg7 Nf3 O-O g3 d6 Bg2 Nbd7 b4...</td>\n",
              "      <td>E67</td>\n",
              "      <td>King's Indian Defense: Fianchetto Variation | ...</td>\n",
              "      <td>12</td>\n",
              "      <td>E</td>\n",
              "      <td>67</td>\n",
              "      <td>E60-E99 Kings Indian defence</td>\n",
              "    </tr>\n",
              "    <tr>\n",
              "      <th>20040</th>\n",
              "      <td>1.500296e+12</td>\n",
              "      <td>1.500297e+12</td>\n",
              "      <td>87</td>\n",
              "      <td>resign</td>\n",
              "      <td>black</td>\n",
              "      <td>10+10</td>\n",
              "      <td>1261</td>\n",
              "      <td>1461</td>\n",
              "      <td>c4 Nf6 d4 e6 Nc3 Bb4 Bd2 c5 Be3 b6 Nf3 Bb7 g3 ...</td>\n",
              "      <td>E20</td>\n",
              "      <td>Nimzo-Indian Defense</td>\n",
              "      <td>6</td>\n",
              "      <td>E</td>\n",
              "      <td>20</td>\n",
              "      <td>E20-E59 Nimzo-Indian defence</td>\n",
              "    </tr>\n",
              "  </tbody>\n",
              "</table>\n",
              "<p>494 rows × 15 columns</p>\n",
              "</div>"
            ],
            "text/plain": [
              "         created_at  last_move_at  ...  Number                       ComboName\n",
              "63     1.503970e+12  1.503970e+12  ...      10            E10 Queens pawn game\n",
              "139    1.503130e+12  1.503130e+12  ...      20    E20-E59 Nimzo-Indian defence\n",
              "145    1.503090e+12  1.503090e+12  ...      11         E11 Bogo-Indian defence\n",
              "165    1.503460e+12  1.503460e+12  ...       0            E00 Queens pawn game\n",
              "180    1.501980e+12  1.501980e+12  ...      10            E10 Queens pawn game\n",
              "...             ...           ...  ...     ...                             ...\n",
              "19977  1.496948e+12  1.496954e+12  ...      91    E60-E99 Kings Indian defence\n",
              "19982  1.502366e+12  1.502371e+12  ...      17   E12-E19 Queens Indian defence\n",
              "19998  1.498509e+12  1.498509e+12  ...      20    E20-E59 Nimzo-Indian defence\n",
              "20021  1.504283e+12  1.504284e+12  ...      67    E60-E99 Kings Indian defence\n",
              "20040  1.500296e+12  1.500297e+12  ...      20    E20-E59 Nimzo-Indian defence\n",
              "\n",
              "[494 rows x 15 columns]"
            ]
          },
          "metadata": {
            "tags": []
          },
          "execution_count": 30
        }
      ]
    },
    {
      "cell_type": "code",
      "metadata": {
        "id": "tcRsdj-Cl8E9"
      },
      "source": [
        "#I decided that the best way to clean the opening_eco and opening_name columns was to transfer their information into a new column. In order to do so I created the 'letter' and 'number' columns to produce the 'comboname' column. \n",
        "#The combo name contains all of the valuable information of the name and eco columns while reducing the size and changing them from categorical. Now that 'comboname' column is made I'm able to drop the 'letter' and 'number columns as well."
      ],
      "execution_count": 31,
      "outputs": []
    },
    {
      "cell_type": "code",
      "metadata": {
        "colab": {
          "base_uri": "https://localhost:8080/"
        },
        "id": "vDD5xp_Fmw_7",
        "outputId": "77074da3-a842-4aa0-b06d-31591d3eb81d"
      },
      "source": [
        "df['increment_code']"
      ],
      "execution_count": 32,
      "outputs": [
        {
          "output_type": "execute_result",
          "data": {
            "text/plain": [
              "0         15+2\n",
              "1         5+10\n",
              "2         5+10\n",
              "3         20+0\n",
              "4         30+3\n",
              "         ...  \n",
              "20053    10+10\n",
              "20054     10+0\n",
              "20055     10+0\n",
              "20056     10+0\n",
              "20057     10+0\n",
              "Name: increment_code, Length: 19629, dtype: object"
            ]
          },
          "metadata": {
            "tags": []
          },
          "execution_count": 32
        }
      ]
    },
    {
      "cell_type": "code",
      "metadata": {
        "id": "aqPoLr0Am8hM"
      },
      "source": [
        "df['time'] = df['increment_code'].str.slice(0,2)"
      ],
      "execution_count": 33,
      "outputs": []
    },
    {
      "cell_type": "code",
      "metadata": {
        "id": "ijJEYLFatuLb"
      },
      "source": [
        "df['time'] = df['time'].replace(['5+'], '5')\n",
        "df['time'] = df['time'].replace(['8+'], '8')\n",
        "df['time'] = df['time'].replace(['7+'], '7')\n",
        "df['time'] = df['time'].replace(['9+'], '9')\n",
        "df['time'] = df['time'].replace(['6+'], '6')\n",
        "df['time'] = df['time'].replace(['4+'], '4')\n",
        "df['time'] = df['time'].replace(['3+'], '3')\n",
        "df['time'] = df['time'].replace(['2+'], '2')\n",
        "df['time'] = df['time'].replace(['0+'], '0')\n",
        "df['time'] = df['time'].replace(['1+'], '1')"
      ],
      "execution_count": 34,
      "outputs": []
    },
    {
      "cell_type": "code",
      "metadata": {
        "colab": {
          "base_uri": "https://localhost:8080/"
        },
        "id": "gdYf-KYdxG9z",
        "outputId": "95caa392-be8c-45d0-da9b-3dbd3557d837"
      },
      "source": [
        "df['time'].value_counts()"
      ],
      "execution_count": 35,
      "outputs": [
        {
          "output_type": "execute_result",
          "data": {
            "text/plain": [
              "10    9245\n",
              "15    3325\n",
              "5     1772\n",
              "20     927\n",
              "8      906\n",
              "30     728\n",
              "7      623\n",
              "25     318\n",
              "9      252\n",
              "12     234\n",
              "18     179\n",
              "6      175\n",
              "45     149\n",
              "60      98\n",
              "11      98\n",
              "13      74\n",
              "14      70\n",
              "4       65\n",
              "3       57\n",
              "2       54\n",
              "16      49\n",
              "0       42\n",
              "17      39\n",
              "40      37\n",
              "1       31\n",
              "19      27\n",
              "35      26\n",
              "90      26\n",
              "29       2\n",
              "21       1\n",
              "Name: time, dtype: int64"
            ]
          },
          "metadata": {
            "tags": []
          },
          "execution_count": 35
        }
      ]
    },
    {
      "cell_type": "code",
      "metadata": {
        "id": "z7DKA45x14bB"
      },
      "source": [
        "df['time'] = df['time'].astype(int)"
      ],
      "execution_count": 36,
      "outputs": []
    },
    {
      "cell_type": "code",
      "metadata": {
        "id": "mZAuSs4rg9U4"
      },
      "source": [
        "#I also simplified the increment_code and turned it into the 'time' column and also changed its data type into an integer."
      ],
      "execution_count": null,
      "outputs": []
    },
    {
      "cell_type": "code",
      "metadata": {
        "id": "WEPMh-SjPS_7"
      },
      "source": [
        "df.drop(columns= ['opening_eco', 'opening_name', 'Letter', 'Number', 'created_at', 'last_move_at', 'moves', 'victory_status', 'increment_code'], inplace = True)"
      ],
      "execution_count": 37,
      "outputs": []
    },
    {
      "cell_type": "code",
      "metadata": {
        "id": "jk8xwuo-Dfkd",
        "colab": {
          "base_uri": "https://localhost:8080/"
        },
        "outputId": "35edefcb-92e9-496b-f7e5-7bb42ac77b00"
      },
      "source": [
        "df['winner'].value_counts()"
      ],
      "execution_count": 38,
      "outputs": [
        {
          "output_type": "execute_result",
          "data": {
            "text/plain": [
              "white    9792\n",
              "black    8919\n",
              "draw      918\n",
              "Name: winner, dtype: int64"
            ]
          },
          "metadata": {
            "tags": []
          },
          "execution_count": 38
        }
      ]
    },
    {
      "cell_type": "code",
      "metadata": {
        "id": "h0XxW-v_Obqk",
        "colab": {
          "base_uri": "https://localhost:8080/"
        },
        "outputId": "2dbc06b9-cc72-4c36-9f7b-2e33a94a492f"
      },
      "source": [
        "df.info()"
      ],
      "execution_count": 39,
      "outputs": [
        {
          "output_type": "stream",
          "text": [
            "<class 'pandas.core.frame.DataFrame'>\n",
            "Int64Index: 19629 entries, 0 to 20057\n",
            "Data columns (total 7 columns):\n",
            " #   Column        Non-Null Count  Dtype \n",
            "---  ------        --------------  ----- \n",
            " 0   turns         19629 non-null  int64 \n",
            " 1   winner        19629 non-null  object\n",
            " 2   white_rating  19629 non-null  int64 \n",
            " 3   black_rating  19629 non-null  int64 \n",
            " 4   opening_ply   19629 non-null  int64 \n",
            " 5   ComboName     19629 non-null  object\n",
            " 6   time          19629 non-null  int64 \n",
            "dtypes: int64(5), object(2)\n",
            "memory usage: 1.2+ MB\n"
          ],
          "name": "stdout"
        }
      ]
    },
    {
      "cell_type": "code",
      "metadata": {
        "id": "bEVUdAoMPk7b",
        "colab": {
          "base_uri": "https://localhost:8080/"
        },
        "outputId": "b489e74d-fef9-4e41-9c02-66626cfaf66f"
      },
      "source": [
        "df['ComboName']"
      ],
      "execution_count": 40,
      "outputs": [
        {
          "output_type": "execute_result",
          "data": {
            "text/plain": [
              "0        D10-D15 Queens Gambit Declined Slav defence\n",
              "1                             B00 Kings pawn opening\n",
              "2                                C20 Kings pawn game\n",
              "3                               D02 Queens pawn game\n",
              "4                              C41 Philidors defence\n",
              "                            ...                     \n",
              "20053                                  A80-A99 Dutch\n",
              "20054                            A40-A41 Queens pawn\n",
              "20055                           D00 Queens pawn game\n",
              "20056                           B07-B09 Pirc defence\n",
              "20057                           D00 Queens pawn game\n",
              "Name: ComboName, Length: 19629, dtype: object"
            ]
          },
          "metadata": {
            "tags": []
          },
          "execution_count": 40
        }
      ]
    },
    {
      "cell_type": "code",
      "metadata": {
        "id": "G3DqG5zqPnpg"
      },
      "source": [
        "# I successfully took the information from the opening_eco column and the opening_name columns and combined them into one column. Next I'll have to handle the categorical variables using dummy columns. This will produce a lot of features.\n",
        "#My plan is to use dummy columns to hanlde the categorical values then use PCA for data reduction, minimizing the problem of the increase in features.\n"
      ],
      "execution_count": 41,
      "outputs": []
    },
    {
      "cell_type": "code",
      "metadata": {
        "id": "6aBrs24eN4oz",
        "colab": {
          "base_uri": "https://localhost:8080/",
          "height": 185
        },
        "outputId": "cdb2e8b9-c665-4f72-b4ac-4a6566e8b5db"
      },
      "source": [
        "df_dummies = pd.get_dummies(df, columns = ['ComboName'], drop_first= True)\n",
        "df_dummies.head(1)"
      ],
      "execution_count": 42,
      "outputs": [
        {
          "output_type": "execute_result",
          "data": {
            "text/html": [
              "<div>\n",
              "<style scoped>\n",
              "    .dataframe tbody tr th:only-of-type {\n",
              "        vertical-align: middle;\n",
              "    }\n",
              "\n",
              "    .dataframe tbody tr th {\n",
              "        vertical-align: top;\n",
              "    }\n",
              "\n",
              "    .dataframe thead th {\n",
              "        text-align: right;\n",
              "    }\n",
              "</style>\n",
              "<table border=\"1\" class=\"dataframe\">\n",
              "  <thead>\n",
              "    <tr style=\"text-align: right;\">\n",
              "      <th></th>\n",
              "      <th>turns</th>\n",
              "      <th>winner</th>\n",
              "      <th>white_rating</th>\n",
              "      <th>black_rating</th>\n",
              "      <th>opening_ply</th>\n",
              "      <th>time</th>\n",
              "      <th>ComboName_ E12-E19 Queens Indian defence</th>\n",
              "      <th>ComboName_A00 Polish (Sokolsky) opening</th>\n",
              "      <th>ComboName_A01 Nimzovich-Larsen attack</th>\n",
              "      <th>ComboName_A02-A03 Birds opening</th>\n",
              "      <th>ComboName_A04-A09 Reti opening</th>\n",
              "      <th>ComboName_A10-A39 English opening</th>\n",
              "      <th>ComboName_A40-A41 Queens pawn</th>\n",
              "      <th>ComboName_A42 Modern defence, Averbakh system</th>\n",
              "      <th>ComboName_A43-A44 Old Benoni defence</th>\n",
              "      <th>ComboName_A45-A46 Queens pawn game</th>\n",
              "      <th>ComboName_A47 Queens Indian defence</th>\n",
              "      <th>ComboName_A48-A49 Kings Indian, East Indian defence</th>\n",
              "      <th>ComboName_A50 Queens pawn game</th>\n",
              "      <th>ComboName_A51-A52 Budapest defence</th>\n",
              "      <th>ComboName_A53-A55 Old Indian defence</th>\n",
              "      <th>ComboName_A56 Benoni defence</th>\n",
              "      <th>ComboName_A57-A59 Benko gambit</th>\n",
              "      <th>ComboName_A60-A79 Benoni defence</th>\n",
              "      <th>ComboName_A80-A99 Dutch</th>\n",
              "      <th>ComboName_B00 Kings pawn opening</th>\n",
              "      <th>ComboName_B01 Scandinavian (centre counter) defence</th>\n",
              "      <th>ComboName_B02-B05 Alekhines defence</th>\n",
              "      <th>ComboName_B06 Robatsch (modern) defence</th>\n",
              "      <th>ComboName_B07-B09 Pirc defence</th>\n",
              "      <th>ComboName_B10-B19 Caro-Kann defence</th>\n",
              "      <th>ComboName_B20-B99 Sicilian defence</th>\n",
              "      <th>ComboName_C00-C19 French defence</th>\n",
              "      <th>ComboName_C20 Kings pawn game</th>\n",
              "      <th>ComboName_C21-C22 Centre game</th>\n",
              "      <th>ComboName_C23-C24 Bishops opening</th>\n",
              "      <th>ComboName_C25-C29 Vienna game</th>\n",
              "      <th>ComboName_C30-C39 Kings gambit</th>\n",
              "      <th>ComboName_C40 Kings knight opening</th>\n",
              "      <th>ComboName_C41 Philidors defence</th>\n",
              "      <th>ComboName_C42-C43 Petrovs defence</th>\n",
              "      <th>ComboName_C44 Kings pawn game</th>\n",
              "      <th>ComboName_C45 Scotch game</th>\n",
              "      <th>ComboName_C46 Three knights game</th>\n",
              "      <th>ComboName_C47-C49 Four knights, Scotch variation</th>\n",
              "      <th>ComboName_C50 Kings pawn game</th>\n",
              "      <th>ComboName_C51-C52 Evans gambit</th>\n",
              "      <th>ComboName_C53-C54 Giuoco Piano</th>\n",
              "      <th>ComboName_C55-C59 Two knights defence</th>\n",
              "      <th>ComboName_C60-C99 Ruy Lopez (Spanish opening)</th>\n",
              "      <th>ComboName_D00 Queens pawn game</th>\n",
              "      <th>ComboName_D01 Richter-Veresov attack</th>\n",
              "      <th>ComboName_D02 Queens pawn game</th>\n",
              "      <th>ComboName_D03 Torre attack (Tartakower variation)</th>\n",
              "      <th>ComboName_D04-D05 Queens pawn game</th>\n",
              "      <th>ComboName_D06 Queens Gambit</th>\n",
              "      <th>ComboName_D07-D09 Queens Gambit Declined, Chigorin defence</th>\n",
              "      <th>ComboName_D10-D15 Queens Gambit Declined Slav defence</th>\n",
              "      <th>ComboName_D16 Queens Gambit Declined Slav accepted, Alapin variation</th>\n",
              "      <th>ComboName_D17-D19 Queens Gambit Declined Slav, Czech defence</th>\n",
              "      <th>ComboName_D20-D29 Queens gambit accepted</th>\n",
              "      <th>ComboName_D30-D42 Queens gambit declined</th>\n",
              "      <th>ComboName_D43-D49 Queens Gambit Declined semi-Slav</th>\n",
              "      <th>ComboName_D50-D69 Queens Gambit Declined, 4.Bg5</th>\n",
              "      <th>ComboName_D70-D79 Neo-Gruenfeld defence</th>\n",
              "      <th>ComboName_D80-D99 Gruenfeld defence</th>\n",
              "      <th>ComboName_E00 Queens pawn game</th>\n",
              "      <th>ComboName_E01-E09 Catalan, closed</th>\n",
              "      <th>ComboName_E10 Queens pawn game</th>\n",
              "      <th>ComboName_E20-E59 Nimzo-Indian defence</th>\n",
              "      <th>ComboName_E60-E99 Kings Indian defence</th>\n",
              "    </tr>\n",
              "  </thead>\n",
              "  <tbody>\n",
              "    <tr>\n",
              "      <th>0</th>\n",
              "      <td>13</td>\n",
              "      <td>white</td>\n",
              "      <td>1500</td>\n",
              "      <td>1191</td>\n",
              "      <td>5</td>\n",
              "      <td>15</td>\n",
              "      <td>0</td>\n",
              "      <td>0</td>\n",
              "      <td>0</td>\n",
              "      <td>0</td>\n",
              "      <td>0</td>\n",
              "      <td>0</td>\n",
              "      <td>0</td>\n",
              "      <td>0</td>\n",
              "      <td>0</td>\n",
              "      <td>0</td>\n",
              "      <td>0</td>\n",
              "      <td>0</td>\n",
              "      <td>0</td>\n",
              "      <td>0</td>\n",
              "      <td>0</td>\n",
              "      <td>0</td>\n",
              "      <td>0</td>\n",
              "      <td>0</td>\n",
              "      <td>0</td>\n",
              "      <td>0</td>\n",
              "      <td>0</td>\n",
              "      <td>0</td>\n",
              "      <td>0</td>\n",
              "      <td>0</td>\n",
              "      <td>0</td>\n",
              "      <td>0</td>\n",
              "      <td>0</td>\n",
              "      <td>0</td>\n",
              "      <td>0</td>\n",
              "      <td>0</td>\n",
              "      <td>0</td>\n",
              "      <td>0</td>\n",
              "      <td>0</td>\n",
              "      <td>0</td>\n",
              "      <td>0</td>\n",
              "      <td>0</td>\n",
              "      <td>0</td>\n",
              "      <td>0</td>\n",
              "      <td>0</td>\n",
              "      <td>0</td>\n",
              "      <td>0</td>\n",
              "      <td>0</td>\n",
              "      <td>0</td>\n",
              "      <td>0</td>\n",
              "      <td>0</td>\n",
              "      <td>0</td>\n",
              "      <td>0</td>\n",
              "      <td>0</td>\n",
              "      <td>0</td>\n",
              "      <td>0</td>\n",
              "      <td>0</td>\n",
              "      <td>1</td>\n",
              "      <td>0</td>\n",
              "      <td>0</td>\n",
              "      <td>0</td>\n",
              "      <td>0</td>\n",
              "      <td>0</td>\n",
              "      <td>0</td>\n",
              "      <td>0</td>\n",
              "      <td>0</td>\n",
              "      <td>0</td>\n",
              "      <td>0</td>\n",
              "      <td>0</td>\n",
              "      <td>0</td>\n",
              "      <td>0</td>\n",
              "    </tr>\n",
              "  </tbody>\n",
              "</table>\n",
              "</div>"
            ],
            "text/plain": [
              "   turns  ... ComboName_E60-E99 Kings Indian defence\n",
              "0     13  ...                                      0\n",
              "\n",
              "[1 rows x 71 columns]"
            ]
          },
          "metadata": {
            "tags": []
          },
          "execution_count": 42
        }
      ]
    },
    {
      "cell_type": "code",
      "metadata": {
        "id": "BEiCZgThlyOD"
      },
      "source": [
        "#END OF DATA CLEANING START OF MODELING"
      ],
      "execution_count": 43,
      "outputs": []
    },
    {
      "cell_type": "code",
      "metadata": {
        "id": "KZhn12-Pv2Le",
        "colab": {
          "base_uri": "https://localhost:8080/"
        },
        "outputId": "2d0db818-16d6-423f-8ac9-5ded376c6539"
      },
      "source": [
        "df_dummies.info()"
      ],
      "execution_count": 44,
      "outputs": [
        {
          "output_type": "stream",
          "text": [
            "<class 'pandas.core.frame.DataFrame'>\n",
            "Int64Index: 19629 entries, 0 to 20057\n",
            "Data columns (total 71 columns):\n",
            " #   Column                                                                Non-Null Count  Dtype \n",
            "---  ------                                                                --------------  ----- \n",
            " 0   turns                                                                 19629 non-null  int64 \n",
            " 1   winner                                                                19629 non-null  object\n",
            " 2   white_rating                                                          19629 non-null  int64 \n",
            " 3   black_rating                                                          19629 non-null  int64 \n",
            " 4   opening_ply                                                           19629 non-null  int64 \n",
            " 5   time                                                                  19629 non-null  int64 \n",
            " 6   ComboName_ E12-E19 Queens Indian defence                              19629 non-null  uint8 \n",
            " 7   ComboName_A00 Polish (Sokolsky) opening                               19629 non-null  uint8 \n",
            " 8   ComboName_A01 Nimzovich-Larsen attack                                 19629 non-null  uint8 \n",
            " 9   ComboName_A02-A03 Birds opening                                       19629 non-null  uint8 \n",
            " 10  ComboName_A04-A09 Reti opening                                        19629 non-null  uint8 \n",
            " 11  ComboName_A10-A39 English opening                                     19629 non-null  uint8 \n",
            " 12  ComboName_A40-A41 Queens pawn                                         19629 non-null  uint8 \n",
            " 13  ComboName_A42 Modern defence, Averbakh system                         19629 non-null  uint8 \n",
            " 14  ComboName_A43-A44 Old Benoni defence                                  19629 non-null  uint8 \n",
            " 15  ComboName_A45-A46 Queens pawn game                                    19629 non-null  uint8 \n",
            " 16  ComboName_A47 Queens Indian defence                                   19629 non-null  uint8 \n",
            " 17  ComboName_A48-A49 Kings Indian, East Indian defence                   19629 non-null  uint8 \n",
            " 18  ComboName_A50 Queens pawn game                                        19629 non-null  uint8 \n",
            " 19  ComboName_A51-A52 Budapest defence                                    19629 non-null  uint8 \n",
            " 20  ComboName_A53-A55 Old Indian defence                                  19629 non-null  uint8 \n",
            " 21  ComboName_A56 Benoni defence                                          19629 non-null  uint8 \n",
            " 22  ComboName_A57-A59 Benko gambit                                        19629 non-null  uint8 \n",
            " 23  ComboName_A60-A79 Benoni defence                                      19629 non-null  uint8 \n",
            " 24  ComboName_A80-A99 Dutch                                               19629 non-null  uint8 \n",
            " 25  ComboName_B00 Kings pawn opening                                      19629 non-null  uint8 \n",
            " 26  ComboName_B01 Scandinavian (centre counter) defence                   19629 non-null  uint8 \n",
            " 27  ComboName_B02-B05 Alekhines defence                                   19629 non-null  uint8 \n",
            " 28  ComboName_B06 Robatsch (modern) defence                               19629 non-null  uint8 \n",
            " 29  ComboName_B07-B09 Pirc defence                                        19629 non-null  uint8 \n",
            " 30  ComboName_B10-B19 Caro-Kann defence                                   19629 non-null  uint8 \n",
            " 31  ComboName_B20-B99 Sicilian defence                                    19629 non-null  uint8 \n",
            " 32  ComboName_C00-C19 French defence                                      19629 non-null  uint8 \n",
            " 33  ComboName_C20 Kings pawn game                                         19629 non-null  uint8 \n",
            " 34  ComboName_C21-C22 Centre game                                         19629 non-null  uint8 \n",
            " 35  ComboName_C23-C24 Bishops opening                                     19629 non-null  uint8 \n",
            " 36  ComboName_C25-C29 Vienna game                                         19629 non-null  uint8 \n",
            " 37  ComboName_C30-C39 Kings gambit                                        19629 non-null  uint8 \n",
            " 38  ComboName_C40 Kings knight opening                                    19629 non-null  uint8 \n",
            " 39  ComboName_C41 Philidors defence                                       19629 non-null  uint8 \n",
            " 40  ComboName_C42-C43 Petrovs defence                                     19629 non-null  uint8 \n",
            " 41  ComboName_C44 Kings pawn game                                         19629 non-null  uint8 \n",
            " 42  ComboName_C45 Scotch game                                             19629 non-null  uint8 \n",
            " 43  ComboName_C46 Three knights game                                      19629 non-null  uint8 \n",
            " 44  ComboName_C47-C49 Four knights, Scotch variation                      19629 non-null  uint8 \n",
            " 45  ComboName_C50 Kings pawn game                                         19629 non-null  uint8 \n",
            " 46  ComboName_C51-C52 Evans gambit                                        19629 non-null  uint8 \n",
            " 47  ComboName_C53-C54 Giuoco Piano                                        19629 non-null  uint8 \n",
            " 48  ComboName_C55-C59 Two knights defence                                 19629 non-null  uint8 \n",
            " 49  ComboName_C60-C99 Ruy Lopez (Spanish opening)                         19629 non-null  uint8 \n",
            " 50  ComboName_D00 Queens pawn game                                        19629 non-null  uint8 \n",
            " 51  ComboName_D01 Richter-Veresov attack                                  19629 non-null  uint8 \n",
            " 52  ComboName_D02 Queens pawn game                                        19629 non-null  uint8 \n",
            " 53  ComboName_D03 Torre attack (Tartakower variation)                     19629 non-null  uint8 \n",
            " 54  ComboName_D04-D05 Queens pawn game                                    19629 non-null  uint8 \n",
            " 55  ComboName_D06 Queens Gambit                                           19629 non-null  uint8 \n",
            " 56  ComboName_D07-D09 Queens Gambit Declined, Chigorin defence            19629 non-null  uint8 \n",
            " 57  ComboName_D10-D15 Queens Gambit Declined Slav defence                 19629 non-null  uint8 \n",
            " 58  ComboName_D16 Queens Gambit Declined Slav accepted, Alapin variation  19629 non-null  uint8 \n",
            " 59  ComboName_D17-D19 Queens Gambit Declined Slav, Czech defence          19629 non-null  uint8 \n",
            " 60  ComboName_D20-D29 Queens gambit accepted                              19629 non-null  uint8 \n",
            " 61  ComboName_D30-D42 Queens gambit declined                              19629 non-null  uint8 \n",
            " 62  ComboName_D43-D49 Queens Gambit Declined semi-Slav                    19629 non-null  uint8 \n",
            " 63  ComboName_D50-D69 Queens Gambit Declined, 4.Bg5                       19629 non-null  uint8 \n",
            " 64  ComboName_D70-D79 Neo-Gruenfeld defence                               19629 non-null  uint8 \n",
            " 65  ComboName_D80-D99 Gruenfeld defence                                   19629 non-null  uint8 \n",
            " 66  ComboName_E00 Queens pawn game                                        19629 non-null  uint8 \n",
            " 67  ComboName_E01-E09 Catalan, closed                                     19629 non-null  uint8 \n",
            " 68  ComboName_E10 Queens pawn game                                        19629 non-null  uint8 \n",
            " 69  ComboName_E20-E59 Nimzo-Indian defence                                19629 non-null  uint8 \n",
            " 70  ComboName_E60-E99 Kings Indian defence                                19629 non-null  uint8 \n",
            "dtypes: int64(5), object(1), uint8(65)\n",
            "memory usage: 2.3+ MB\n"
          ],
          "name": "stdout"
        }
      ]
    },
    {
      "cell_type": "code",
      "metadata": {
        "id": "BFvOPtbeQtnD"
      },
      "source": [
        "X = df_dummies.loc[:, df_dummies.columns[(df_dummies.columns != 'winner')]]"
      ],
      "execution_count": 45,
      "outputs": []
    },
    {
      "cell_type": "code",
      "metadata": {
        "id": "dTpDo2SeRmbX"
      },
      "source": [
        "y = df_dummies.loc[:, 'winner'].values"
      ],
      "execution_count": 46,
      "outputs": []
    },
    {
      "cell_type": "code",
      "metadata": {
        "id": "anOLMZ4xZP4b"
      },
      "source": [
        "scaler = StandardScaler()"
      ],
      "execution_count": 47,
      "outputs": []
    },
    {
      "cell_type": "code",
      "metadata": {
        "id": "NmD-DifmRrLp"
      },
      "source": [
        "X_train, X_test, y_train, y_test = train_test_split(X, y, random_state = 3)"
      ],
      "execution_count": 48,
      "outputs": []
    },
    {
      "cell_type": "code",
      "metadata": {
        "id": "ynQ91WThZZ9A"
      },
      "source": [
        "X_train = scaler.fit_transform(X_train)\n",
        "X_test = scaler.transform(X_test)"
      ],
      "execution_count": 49,
      "outputs": []
    },
    {
      "cell_type": "code",
      "metadata": {
        "id": "Nzz7WZ-UbGtb"
      },
      "source": [
        "pca = PCA(n_components = 15)\n",
        "X_train_pca = pca.fit_transform(X_train)\n",
        "X_test_pca = pca.transform(X_test) "
      ],
      "execution_count": 50,
      "outputs": []
    },
    {
      "cell_type": "code",
      "metadata": {
        "colab": {
          "base_uri": "https://localhost:8080/"
        },
        "id": "5iUWPnCAdt8u",
        "outputId": "7855c2b4-515d-480f-c751-ea3946ed6ef6"
      },
      "source": [
        "rfc = RandomForestClassifier(n_estimators=100, bootstrap = True)\n",
        "rfc.fit(X_train, y_train)"
      ],
      "execution_count": 51,
      "outputs": [
        {
          "output_type": "execute_result",
          "data": {
            "text/plain": [
              "RandomForestClassifier(bootstrap=True, ccp_alpha=0.0, class_weight=None,\n",
              "                       criterion='gini', max_depth=None, max_features='auto',\n",
              "                       max_leaf_nodes=None, max_samples=None,\n",
              "                       min_impurity_decrease=0.0, min_impurity_split=None,\n",
              "                       min_samples_leaf=1, min_samples_split=2,\n",
              "                       min_weight_fraction_leaf=0.0, n_estimators=100,\n",
              "                       n_jobs=None, oob_score=False, random_state=None,\n",
              "                       verbose=0, warm_start=False)"
            ]
          },
          "metadata": {
            "tags": []
          },
          "execution_count": 51
        }
      ]
    },
    {
      "cell_type": "code",
      "metadata": {
        "colab": {
          "base_uri": "https://localhost:8080/"
        },
        "id": "my3s3OxvfqlE",
        "outputId": "f8b561b3-6354-45dd-a364-b3983bad08a6"
      },
      "source": [
        "print('Training accuracy:', rfc.score(X_train, y_train))\n",
        "print('Testing accuracy:', rfc.score(X_test, y_test))"
      ],
      "execution_count": 52,
      "outputs": [
        {
          "output_type": "stream",
          "text": [
            "Training accuracy: 1.0\n",
            "Testing accuracy: 0.621638141809291\n"
          ],
          "name": "stdout"
        }
      ]
    },
    {
      "cell_type": "code",
      "metadata": {
        "colab": {
          "base_uri": "https://localhost:8080/"
        },
        "id": "3OvQHD64euz3",
        "outputId": "52657643-4643-4324-b824-8d8369adc176"
      },
      "source": [
        "knn = KNeighborsClassifier()\n",
        "knn.fit(X_train, y_train)"
      ],
      "execution_count": 53,
      "outputs": [
        {
          "output_type": "execute_result",
          "data": {
            "text/plain": [
              "KNeighborsClassifier(algorithm='auto', leaf_size=30, metric='minkowski',\n",
              "                     metric_params=None, n_jobs=None, n_neighbors=5, p=2,\n",
              "                     weights='uniform')"
            ]
          },
          "metadata": {
            "tags": []
          },
          "execution_count": 53
        }
      ]
    },
    {
      "cell_type": "code",
      "metadata": {
        "colab": {
          "base_uri": "https://localhost:8080/"
        },
        "id": "Gwyj4jP6eAk2",
        "outputId": "6fcd5be1-04b7-441e-e103-a983473d4fdd"
      },
      "source": [
        "print('Training accuracy:', knn.score(X_train, y_train))\n",
        "print('Testing accuracy:', knn.score(X_test, y_test))"
      ],
      "execution_count": 54,
      "outputs": [
        {
          "output_type": "stream",
          "text": [
            "Training accuracy: 0.7091230215338632\n",
            "Testing accuracy: 0.5493072534637327\n"
          ],
          "name": "stdout"
        }
      ]
    },
    {
      "cell_type": "code",
      "metadata": {
        "colab": {
          "base_uri": "https://localhost:8080/"
        },
        "id": "zR5OqNTbGqxN",
        "outputId": "46ac69a9-8cf3-470a-8bff-6738774c0c12"
      },
      "source": [
        "gbc = GradientBoostingClassifier()\n",
        "gbc.fit(X_train, y_train)"
      ],
      "execution_count": 55,
      "outputs": [
        {
          "output_type": "execute_result",
          "data": {
            "text/plain": [
              "GradientBoostingClassifier(ccp_alpha=0.0, criterion='friedman_mse', init=None,\n",
              "                           learning_rate=0.1, loss='deviance', max_depth=3,\n",
              "                           max_features=None, max_leaf_nodes=None,\n",
              "                           min_impurity_decrease=0.0, min_impurity_split=None,\n",
              "                           min_samples_leaf=1, min_samples_split=2,\n",
              "                           min_weight_fraction_leaf=0.0, n_estimators=100,\n",
              "                           n_iter_no_change=None, presort='deprecated',\n",
              "                           random_state=None, subsample=1.0, tol=0.0001,\n",
              "                           validation_fraction=0.1, verbose=0,\n",
              "                           warm_start=False)"
            ]
          },
          "metadata": {
            "tags": []
          },
          "execution_count": 55
        }
      ]
    },
    {
      "cell_type": "code",
      "metadata": {
        "colab": {
          "base_uri": "https://localhost:8080/"
        },
        "id": "cczami9IGs7B",
        "outputId": "74f16229-124d-4671-f72d-37e372fec3ed"
      },
      "source": [
        "print('Training Accuracy:', gbc.score(X_train, y_train))\n",
        "print('Testing Accuracy:', gbc.score(X_test, y_test))"
      ],
      "execution_count": 56,
      "outputs": [
        {
          "output_type": "stream",
          "text": [
            "Training Accuracy: 0.7146932952924394\n",
            "Testing Accuracy: 0.6882640586797066\n"
          ],
          "name": "stdout"
        }
      ]
    },
    {
      "cell_type": "code",
      "metadata": {
        "id": "UnYZUV7JIGET",
        "colab": {
          "base_uri": "https://localhost:8080/"
        },
        "outputId": "d427c11b-99f3-4e61-dd4a-20fc759fd4af"
      },
      "source": [
        "lgbm = LGBMClassifier(learning_rate = 0.5, max_depth = 3, n_estimators = 200, subsample = 1, random_state = 3)\n",
        "lgbm.fit(X_train, y_train)"
      ],
      "execution_count": 57,
      "outputs": [
        {
          "output_type": "execute_result",
          "data": {
            "text/plain": [
              "LGBMClassifier(boosting_type='gbdt', class_weight=None, colsample_bytree=1.0,\n",
              "               importance_type='split', learning_rate=0.5, max_depth=3,\n",
              "               min_child_samples=20, min_child_weight=0.001, min_split_gain=0.0,\n",
              "               n_estimators=200, n_jobs=-1, num_leaves=31, objective=None,\n",
              "               random_state=3, reg_alpha=0.0, reg_lambda=0.0, silent=True,\n",
              "               subsample=1, subsample_for_bin=200000, subsample_freq=0)"
            ]
          },
          "metadata": {
            "tags": []
          },
          "execution_count": 57
        }
      ]
    },
    {
      "cell_type": "code",
      "metadata": {
        "id": "gjOAbq54AI7u"
      },
      "source": [
        "#n = [25,50,100,200]\n",
        "#params = {'n_estimators': n, 'max_depth':[3, 4, 6,8], 'learning_rate':[0.1,0.3,0.5], 'subsample':[1,0.5]}\n",
        "#cv = RepeatedStratifiedKFold(n_splits=5,n_repeats=10, random_state= 3)\n",
        "#scoregrid = {'Score':'best_score_', 'params' : 'best_params_'}\n",
        "#lgbmsearch = GridSearchCV(estimator=lgbm ,param_grid=params,n_jobs=-1, cv=cv, refit= True, )\n",
        "#lgbmsearch.fit(X_train, y_train)\n",
        "#lgbmsearch.best_params_"
      ],
      "execution_count": 58,
      "outputs": []
    },
    {
      "cell_type": "code",
      "metadata": {
        "colab": {
          "base_uri": "https://localhost:8080/"
        },
        "id": "5mZCPXR4jgOe",
        "outputId": "569af419-5006-4232-cac8-bf0a667aae26"
      },
      "source": [
        "print('Training accuracy:', lgbm.score(X_train, y_train))\n",
        "print('Testing accuracy:', lgbm.score(X_test, y_test))"
      ],
      "execution_count": 80,
      "outputs": [
        {
          "output_type": "stream",
          "text": [
            "Training accuracy: 0.8761633041233612\n",
            "Testing accuracy: 0.8457620211898941\n"
          ],
          "name": "stdout"
        }
      ]
    },
    {
      "cell_type": "code",
      "metadata": {
        "id": "0qsYiTe1lNBT"
      },
      "source": [
        "#After testing several different models and also testing parameters using a grid search (Shown above) I was able to put together a model with 84% accuracy."
      ],
      "execution_count": null,
      "outputs": []
    },
    {
      "cell_type": "code",
      "metadata": {
        "id": "6CMCHE3P9DSo"
      },
      "source": [
        "df.info()"
      ],
      "execution_count": null,
      "outputs": []
    },
    {
      "cell_type": "code",
      "metadata": {
        "id": "Y76eE6Jcy9q6"
      },
      "source": [
        "df['winner'].value_counts()"
      ],
      "execution_count": null,
      "outputs": []
    },
    {
      "cell_type": "code",
      "metadata": {
        "id": "1OpRnt5B8-Kw"
      },
      "source": [
        "plt.style.use('seaborn')\n",
        "plt.bar(df['winner'], df['white_rating']);\n",
        "plt.bar(df['winner'], df['black_rating']);\n",
        "plt.title('Match Winner by Player Rating', fontsize = 15);\n",
        "plt.ylabel(\"Player Rating\", fontsize = 15);\n",
        "plt.xlabel('Winner of Match', fontsize = 15);"
      ],
      "execution_count": null,
      "outputs": []
    },
    {
      "cell_type": "code",
      "metadata": {
        "colab": {
          "base_uri": "https://localhost:8080/",
          "height": 828
        },
        "id": "dJ0tZEf-CH14",
        "outputId": "43212151-9647-4a4e-e513-ca38e655b632"
      },
      "source": [
        "df.loc[:,:].hist(bins=25, figsize= (16,16));"
      ],
      "execution_count": 81,
      "outputs": [
        {
          "output_type": "display_data",
          "data": {
            "image/png": "[encoded data removed]",
            "text/plain": [
              "<Figure size 1152x1152 with 6 Axes>"
            ]
          },
          "metadata": {
            "tags": []
          }
        }
      ]
    },
    {
      "cell_type": "code",
      "metadata": {
        "id": "UyS6soX0lxAK"
      },
      "source": [
        "#I like using histograms as a visualization that helps to gain an overall understanding of the data. This visualization shows the distribution of player ratings, how common each time setting is, and even the amount of turns that most games finish with."
      ],
      "execution_count": null,
      "outputs": []
    },
    {
      "cell_type": "code",
      "metadata": {
        "colab": {
          "base_uri": "https://localhost:8080/",
          "height": 382
        },
        "id": "OTtoYRFER5GA",
        "outputId": "96462ee6-937c-4959-82b2-74f0351b03be"
      },
      "source": [
        "plt.bar(df['white_rating'], df['opening_ply'], color = 'blue', width = 2);\n",
        "plt.bar(df['black_rating'], df['opening_ply'], color = 'green', width = 2);\n",
        "plt.title('Number of Opening Moves by Player Rating', fontsize = 15);\n",
        "plt.ylabel(\"Player Rating\", fontsize = 15);\n",
        "plt.xlabel('Winner of Match', fontsize = 15);\n",
        "plt.ylim(bottom = 0, top = 20);"
      ],
      "execution_count": 82,
      "outputs": [
        {
          "output_type": "display_data",
          "data": {
            "image/png": "[encoded data removed]",
            "text/plain": [
              "<Figure size 576x396 with 1 Axes>"
            ]
          },
          "metadata": {
            "tags": []
          }
        }
      ]
    },
    {
      "cell_type": "code",
      "metadata": {
        "id": "eiNAt3qsZxuR"
      },
      "source": [
        "#This visualization shows that in general, players (both white and black pieces) spend less moves in the opening phase before transitioning into the middle game.\n",
        "#I think a potential cause of this is that the moire experienced a player is (higher rated) the more they tend to memorize opening theory. Opening theory is sequences of moves in each opening that have the highest probability of producing a win. When two players who but understand opening theory play, they both play the most accurate moves. Resulting in a longer opening."
      ],
      "execution_count": null,
      "outputs": []
    },
    {
      "cell_type": "code",
      "metadata": {
        "id": "Wv6L9wOCCESM"
      },
      "source": [
        "#Citations:\n",
        "#https://stackoverflow.com/questions/35552874/get-first-letter-of-a-string-from-column\n",
        "#https://www.geeksforgeeks.org/get-the-substring-of-the-column-in-pandas-python/\n",
        "#https://www.dataquest.io/blog/tutorial-add-column-pandas-dataframe-based-on-if-else-condition/\n",
        "#https://www.edureka.co/blog/python-list-length/\n",
        "#I also recieved assistance from Cassandra who was kind enough to help me during office hours. \n"
      ],
      "execution_count": 22,
      "outputs": []
    }
  ]
}